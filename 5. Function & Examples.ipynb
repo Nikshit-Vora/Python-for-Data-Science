{
 "cells": [
  {
   "cell_type": "code",
   "execution_count": 1,
   "id": "668ff462",
   "metadata": {},
   "outputs": [
    {
     "data": {
      "text/plain": [
       "7"
      ]
     },
     "execution_count": 1,
     "metadata": {},
     "output_type": "execute_result"
    }
   ],
   "source": [
    "len(\"nikshit\")"
   ]
  },
  {
   "cell_type": "code",
   "execution_count": 2,
   "id": "8b65916a",
   "metadata": {},
   "outputs": [
    {
     "name": "stdout",
     "output_type": "stream",
     "text": [
      "Hello!! world...!!!\n"
     ]
    }
   ],
   "source": [
    "print(\"Hello!! world...!!!\")"
   ]
  },
  {
   "cell_type": "code",
   "execution_count": 3,
   "id": "a1aad572",
   "metadata": {},
   "outputs": [
    {
     "ename": "IndentationError",
     "evalue": "expected an indented block (Temp/ipykernel_15368/3861551224.py, line 1)",
     "output_type": "error",
     "traceback": [
      "\u001b[1;36m  File \u001b[1;32m\"C:\\Users\\NIKSHI~1.VOR\\AppData\\Local\\Temp/ipykernel_15368/3861551224.py\"\u001b[1;36m, line \u001b[1;32m1\u001b[0m\n\u001b[1;33m    def test():\u001b[0m\n\u001b[1;37m               ^\u001b[0m\n\u001b[1;31mIndentationError\u001b[0m\u001b[1;31m:\u001b[0m expected an indented block\n"
     ]
    }
   ],
   "source": [
    "def test():"
   ]
  },
  {
   "cell_type": "code",
   "execution_count": 4,
   "id": "6292e922",
   "metadata": {},
   "outputs": [],
   "source": [
    "def test():\n",
    "    pass"
   ]
  },
  {
   "cell_type": "code",
   "execution_count": 5,
   "id": "d70cb0fd",
   "metadata": {},
   "outputs": [],
   "source": [
    "test()"
   ]
  },
  {
   "cell_type": "code",
   "execution_count": 6,
   "id": "771e0354",
   "metadata": {},
   "outputs": [],
   "source": [
    "def test1():\n",
    "    print(\"this is my function.......\")"
   ]
  },
  {
   "cell_type": "code",
   "execution_count": 7,
   "id": "ce760080",
   "metadata": {},
   "outputs": [
    {
     "name": "stdout",
     "output_type": "stream",
     "text": [
      "this is my function.......\n"
     ]
    }
   ],
   "source": [
    "test1()"
   ]
  },
  {
   "cell_type": "code",
   "execution_count": 8,
   "id": "333215d9",
   "metadata": {},
   "outputs": [
    {
     "data": {
      "text/plain": [
       "<function __main__.test1()>"
      ]
     },
     "execution_count": 8,
     "metadata": {},
     "output_type": "execute_result"
    }
   ],
   "source": [
    "test1"
   ]
  },
  {
   "cell_type": "code",
   "execution_count": 9,
   "id": "1308fce7",
   "metadata": {},
   "outputs": [
    {
     "data": {
      "text/plain": [
       "function"
      ]
     },
     "execution_count": 9,
     "metadata": {},
     "output_type": "execute_result"
    }
   ],
   "source": [
    "type(test1)"
   ]
  },
  {
   "cell_type": "code",
   "execution_count": 10,
   "id": "0306a742",
   "metadata": {},
   "outputs": [
    {
     "name": "stdout",
     "output_type": "stream",
     "text": [
      "this is my function.......\n"
     ]
    }
   ],
   "source": [
    "a = test1()"
   ]
  },
  {
   "cell_type": "code",
   "execution_count": 11,
   "id": "0a5588ad",
   "metadata": {},
   "outputs": [],
   "source": [
    "a"
   ]
  },
  {
   "cell_type": "code",
   "execution_count": 12,
   "id": "21beda9d",
   "metadata": {},
   "outputs": [
    {
     "name": "stdout",
     "output_type": "stream",
     "text": [
      "None\n"
     ]
    }
   ],
   "source": [
    "print(a)"
   ]
  },
  {
   "cell_type": "code",
   "execution_count": 13,
   "id": "541f78c7",
   "metadata": {},
   "outputs": [
    {
     "data": {
      "text/plain": [
       "NoneType"
      ]
     },
     "execution_count": 13,
     "metadata": {},
     "output_type": "execute_result"
    }
   ],
   "source": [
    "type(a)"
   ]
  },
  {
   "cell_type": "code",
   "execution_count": 14,
   "id": "58bae857",
   "metadata": {},
   "outputs": [],
   "source": [
    "a = test1"
   ]
  },
  {
   "cell_type": "code",
   "execution_count": 15,
   "id": "343baa6b",
   "metadata": {},
   "outputs": [
    {
     "data": {
      "text/plain": [
       "<function __main__.test1()>"
      ]
     },
     "execution_count": 15,
     "metadata": {},
     "output_type": "execute_result"
    }
   ],
   "source": [
    "a"
   ]
  },
  {
   "cell_type": "code",
   "execution_count": 16,
   "id": "2282f16a",
   "metadata": {},
   "outputs": [
    {
     "name": "stdout",
     "output_type": "stream",
     "text": [
      "this is my function.......\n"
     ]
    }
   ],
   "source": [
    "a()"
   ]
  },
  {
   "cell_type": "code",
   "execution_count": 17,
   "id": "c19b7c3a",
   "metadata": {},
   "outputs": [
    {
     "ename": "TypeError",
     "evalue": "unsupported operand type(s) for +: 'function' and 'str'",
     "output_type": "error",
     "traceback": [
      "\u001b[1;31m---------------------------------------------------------------------------\u001b[0m",
      "\u001b[1;31mTypeError\u001b[0m                                 Traceback (most recent call last)",
      "\u001b[1;32mC:\\Users\\NIKSHI~1.VOR\\AppData\\Local\\Temp/ipykernel_15368/12456999.py\u001b[0m in \u001b[0;36m<module>\u001b[1;34m\u001b[0m\n\u001b[1;32m----> 1\u001b[1;33m \u001b[0ma\u001b[0m \u001b[1;33m+\u001b[0m \u001b[1;34m\"nikshit\"\u001b[0m\u001b[1;33m\u001b[0m\u001b[1;33m\u001b[0m\u001b[0m\n\u001b[0m",
      "\u001b[1;31mTypeError\u001b[0m: unsupported operand type(s) for +: 'function' and 'str'"
     ]
    }
   ],
   "source": [
    "a + \"nikshit\""
   ]
  },
  {
   "cell_type": "code",
   "execution_count": 18,
   "id": "2fdede22",
   "metadata": {},
   "outputs": [
    {
     "data": {
      "text/plain": [
       "function"
      ]
     },
     "execution_count": 18,
     "metadata": {},
     "output_type": "execute_result"
    }
   ],
   "source": [
    "type(test1)"
   ]
  },
  {
   "cell_type": "code",
   "execution_count": 19,
   "id": "4e1d3a0f",
   "metadata": {},
   "outputs": [
    {
     "name": "stdout",
     "output_type": "stream",
     "text": [
      "this is my function.......\n"
     ]
    }
   ],
   "source": [
    "a = test1()"
   ]
  },
  {
   "cell_type": "code",
   "execution_count": 20,
   "id": "da2f2c91",
   "metadata": {},
   "outputs": [
    {
     "data": {
      "text/plain": [
       "'None'"
      ]
     },
     "execution_count": 20,
     "metadata": {},
     "output_type": "execute_result"
    }
   ],
   "source": [
    "str(a)"
   ]
  },
  {
   "cell_type": "code",
   "execution_count": 21,
   "id": "62441aa1",
   "metadata": {},
   "outputs": [],
   "source": [
    "def test1():\n",
    "    return \"nikshit\""
   ]
  },
  {
   "cell_type": "code",
   "execution_count": 24,
   "id": "af9773d2",
   "metadata": {},
   "outputs": [
    {
     "data": {
      "text/plain": [
       "'nikshit vora'"
      ]
     },
     "execution_count": 24,
     "metadata": {},
     "output_type": "execute_result"
    }
   ],
   "source": [
    "test1() + \" vora\""
   ]
  },
  {
   "cell_type": "code",
   "execution_count": 26,
   "id": "024c664f",
   "metadata": {},
   "outputs": [
    {
     "data": {
      "text/plain": [
       "str"
      ]
     },
     "execution_count": 26,
     "metadata": {},
     "output_type": "execute_result"
    }
   ],
   "source": [
    "type(test1())"
   ]
  },
  {
   "cell_type": "code",
   "execution_count": 27,
   "id": "62b394cb",
   "metadata": {},
   "outputs": [],
   "source": [
    "def test3():\n",
    "    return 12345678910"
   ]
  },
  {
   "cell_type": "code",
   "execution_count": 28,
   "id": "fc08de60",
   "metadata": {},
   "outputs": [
    {
     "data": {
      "text/plain": [
       "int"
      ]
     },
     "execution_count": 28,
     "metadata": {},
     "output_type": "execute_result"
    }
   ],
   "source": [
    "type(test3())"
   ]
  },
  {
   "cell_type": "code",
   "execution_count": 29,
   "id": "47c40960",
   "metadata": {},
   "outputs": [
    {
     "data": {
      "text/plain": [
       "12345724025"
      ]
     },
     "execution_count": 29,
     "metadata": {},
     "output_type": "execute_result"
    }
   ],
   "source": [
    "test3()+45115"
   ]
  },
  {
   "cell_type": "code",
   "execution_count": 30,
   "id": "5efa2c4f",
   "metadata": {},
   "outputs": [],
   "source": [
    "def test4():\n",
    "    return 4,3,\"nikshit\",[1,2,3,4,5,6]"
   ]
  },
  {
   "cell_type": "code",
   "execution_count": 31,
   "id": "922b70d7",
   "metadata": {},
   "outputs": [
    {
     "data": {
      "text/plain": [
       "(4, 3, 'nikshit', [1, 2, 3, 4, 5, 6])"
      ]
     },
     "execution_count": 31,
     "metadata": {},
     "output_type": "execute_result"
    }
   ],
   "source": [
    "test4()"
   ]
  },
  {
   "cell_type": "code",
   "execution_count": 32,
   "id": "647bf216",
   "metadata": {},
   "outputs": [
    {
     "data": {
      "text/plain": [
       "tuple"
      ]
     },
     "execution_count": 32,
     "metadata": {},
     "output_type": "execute_result"
    }
   ],
   "source": [
    "type(test4())"
   ]
  },
  {
   "cell_type": "code",
   "execution_count": 33,
   "id": "6b5cd85f",
   "metadata": {},
   "outputs": [
    {
     "data": {
      "text/plain": [
       "(4, 3, 'nikshit', [1, 2, 3, 4, 5, 6])"
      ]
     },
     "execution_count": 33,
     "metadata": {},
     "output_type": "execute_result"
    }
   ],
   "source": [
    "test4()"
   ]
  },
  {
   "cell_type": "code",
   "execution_count": 34,
   "id": "d14fb372",
   "metadata": {},
   "outputs": [
    {
     "name": "stdout",
     "output_type": "stream",
     "text": [
      "4, 3, nikshit, [1, 2, 3, 4, 5, 6], "
     ]
    }
   ],
   "source": [
    "for i in test4():\n",
    "    print(i,end=\", \")"
   ]
  },
  {
   "cell_type": "code",
   "execution_count": 35,
   "id": "b5a62917",
   "metadata": {},
   "outputs": [],
   "source": [
    "b = test4()"
   ]
  },
  {
   "cell_type": "code",
   "execution_count": 36,
   "id": "e33fca8c",
   "metadata": {},
   "outputs": [
    {
     "name": "stdout",
     "output_type": "stream",
     "text": [
      "(4, 3, 'nikshit', [1, 2, 3, 4, 5, 6])\n"
     ]
    }
   ],
   "source": [
    "print(b)"
   ]
  },
  {
   "cell_type": "code",
   "execution_count": 37,
   "id": "0b4412a9",
   "metadata": {},
   "outputs": [
    {
     "data": {
      "text/plain": [
       "4"
      ]
     },
     "execution_count": 37,
     "metadata": {},
     "output_type": "execute_result"
    }
   ],
   "source": [
    "b[0]"
   ]
  },
  {
   "cell_type": "code",
   "execution_count": 38,
   "id": "8f20ffa7",
   "metadata": {},
   "outputs": [
    {
     "ename": "IndexError",
     "evalue": "tuple index out of range",
     "output_type": "error",
     "traceback": [
      "\u001b[1;31m---------------------------------------------------------------------------\u001b[0m",
      "\u001b[1;31mIndexError\u001b[0m                                Traceback (most recent call last)",
      "\u001b[1;32mC:\\Users\\NIKSHI~1.VOR\\AppData\\Local\\Temp/ipykernel_15368/3059827491.py\u001b[0m in \u001b[0;36m<module>\u001b[1;34m\u001b[0m\n\u001b[1;32m----> 1\u001b[1;33m \u001b[0mb\u001b[0m\u001b[1;33m[\u001b[0m\u001b[1;36m4\u001b[0m\u001b[1;33m]\u001b[0m\u001b[1;33m\u001b[0m\u001b[1;33m\u001b[0m\u001b[0m\n\u001b[0m",
      "\u001b[1;31mIndexError\u001b[0m: tuple index out of range"
     ]
    }
   ],
   "source": [
    "b[4]"
   ]
  },
  {
   "cell_type": "code",
   "execution_count": 39,
   "id": "50fe7354",
   "metadata": {},
   "outputs": [
    {
     "data": {
      "text/plain": [
       "[1, 2, 3, 4, 5, 6]"
      ]
     },
     "execution_count": 39,
     "metadata": {},
     "output_type": "execute_result"
    }
   ],
   "source": [
    "b[3]"
   ]
  },
  {
   "cell_type": "code",
   "execution_count": 40,
   "id": "c7e9c5a8",
   "metadata": {},
   "outputs": [],
   "source": [
    "a,b,c,d = 34,45,89,82"
   ]
  },
  {
   "cell_type": "code",
   "execution_count": 41,
   "id": "ab724605",
   "metadata": {},
   "outputs": [
    {
     "data": {
      "text/plain": [
       "(4, 3, 'nikshit', [1, 2, 3, 4, 5, 6])"
      ]
     },
     "execution_count": 41,
     "metadata": {},
     "output_type": "execute_result"
    }
   ],
   "source": [
    "test4()"
   ]
  },
  {
   "cell_type": "code",
   "execution_count": 42,
   "id": "d5750c43",
   "metadata": {},
   "outputs": [],
   "source": [
    "x,y,z,w = test4()"
   ]
  },
  {
   "cell_type": "code",
   "execution_count": 43,
   "id": "6b25d541",
   "metadata": {},
   "outputs": [
    {
     "data": {
      "text/plain": [
       "4"
      ]
     },
     "execution_count": 43,
     "metadata": {},
     "output_type": "execute_result"
    }
   ],
   "source": [
    "x"
   ]
  },
  {
   "cell_type": "code",
   "execution_count": 44,
   "id": "b79abae7",
   "metadata": {},
   "outputs": [
    {
     "data": {
      "text/plain": [
       "3"
      ]
     },
     "execution_count": 44,
     "metadata": {},
     "output_type": "execute_result"
    }
   ],
   "source": [
    "y"
   ]
  },
  {
   "cell_type": "code",
   "execution_count": 45,
   "id": "64e0edee",
   "metadata": {},
   "outputs": [
    {
     "data": {
      "text/plain": [
       "'nikshit'"
      ]
     },
     "execution_count": 45,
     "metadata": {},
     "output_type": "execute_result"
    }
   ],
   "source": [
    "z"
   ]
  },
  {
   "cell_type": "code",
   "execution_count": 46,
   "id": "1636cb1e",
   "metadata": {},
   "outputs": [
    {
     "data": {
      "text/plain": [
       "[1, 2, 3, 4, 5, 6]"
      ]
     },
     "execution_count": 46,
     "metadata": {},
     "output_type": "execute_result"
    }
   ],
   "source": [
    "w"
   ]
  },
  {
   "cell_type": "code",
   "execution_count": 47,
   "id": "7504ba4c",
   "metadata": {},
   "outputs": [],
   "source": [
    "def test5():\n",
    "    a= 6*7/6\n",
    "    return a"
   ]
  },
  {
   "cell_type": "code",
   "execution_count": 48,
   "id": "4c00cae5",
   "metadata": {},
   "outputs": [
    {
     "data": {
      "text/plain": [
       "7.0"
      ]
     },
     "execution_count": 48,
     "metadata": {},
     "output_type": "execute_result"
    }
   ],
   "source": [
    "test5()"
   ]
  },
  {
   "cell_type": "code",
   "execution_count": 55,
   "id": "fa53759b",
   "metadata": {},
   "outputs": [],
   "source": [
    "def test6(a):\n",
    "    l = []\n",
    "    if type(a) == list:\n",
    "        for i in a:\n",
    "            if type(i)==int:\n",
    "                l.append(i)       \n",
    "    else:\n",
    "        print(\"please give input as list\")\n",
    "                \n",
    "    if len(l)!=0:\n",
    "        return l\n",
    "                \n",
    "        "
   ]
  },
  {
   "cell_type": "code",
   "execution_count": 56,
   "id": "e500be72",
   "metadata": {},
   "outputs": [
    {
     "data": {
      "text/plain": [
       "[1, 2, 3, 4]"
      ]
     },
     "execution_count": 56,
     "metadata": {},
     "output_type": "execute_result"
    }
   ],
   "source": [
    "test6([1,2,3,4,\"nik\",\"vora\"])"
   ]
  },
  {
   "cell_type": "code",
   "execution_count": 57,
   "id": "ccf41e26",
   "metadata": {},
   "outputs": [
    {
     "name": "stdout",
     "output_type": "stream",
     "text": [
      "please give input as list\n"
     ]
    }
   ],
   "source": [
    "test6({1,2,3,4,5,6})"
   ]
  },
  {
   "cell_type": "code",
   "execution_count": 58,
   "id": "077d8191",
   "metadata": {},
   "outputs": [
    {
     "data": {
      "text/plain": [
       "list"
      ]
     },
     "execution_count": 58,
     "metadata": {},
     "output_type": "execute_result"
    }
   ],
   "source": [
    "type(test6([1,2,3,4]))"
   ]
  },
  {
   "cell_type": "code",
   "execution_count": 59,
   "id": "ea2b5738",
   "metadata": {},
   "outputs": [],
   "source": [
    "def test7(c):\n",
    "    if type(c)==dict:\n",
    "        return c.keys()\n",
    "    else:\n",
    "        return \"you have not passed a dic\""
   ]
  },
  {
   "cell_type": "code",
   "execution_count": 60,
   "id": "40b97121",
   "metadata": {},
   "outputs": [
    {
     "data": {
      "text/plain": [
       "dict_keys([1, 3, 5])"
      ]
     },
     "execution_count": 60,
     "metadata": {},
     "output_type": "execute_result"
    }
   ],
   "source": [
    "test7({1:2,3:8,5:9})"
   ]
  },
  {
   "cell_type": "code",
   "execution_count": 61,
   "id": "30c6bbb5",
   "metadata": {},
   "outputs": [
    {
     "data": {
      "text/plain": [
       "dict_keys"
      ]
     },
     "execution_count": 61,
     "metadata": {},
     "output_type": "execute_result"
    }
   ],
   "source": [
    "type(test7({1:2,3:8,5:9}))"
   ]
  },
  {
   "cell_type": "code",
   "execution_count": 74,
   "id": "c98d2b42",
   "metadata": {},
   "outputs": [],
   "source": [
    "def star(n):\n",
    "    for i in range(n+1):\n",
    "        print('*'*i)"
   ]
  },
  {
   "cell_type": "code",
   "execution_count": 75,
   "id": "73ca261e",
   "metadata": {},
   "outputs": [
    {
     "name": "stdout",
     "output_type": "stream",
     "text": [
      "\n",
      "*\n",
      "**\n",
      "***\n",
      "****\n",
      "*****\n"
     ]
    }
   ],
   "source": [
    "star(5)"
   ]
  },
  {
   "cell_type": "code",
   "execution_count": 76,
   "id": "fa60766d",
   "metadata": {},
   "outputs": [
    {
     "name": "stdout",
     "output_type": "stream",
     "text": [
      "\n",
      "*\n",
      "**\n",
      "***\n",
      "****\n",
      "*****\n",
      "******\n",
      "*******\n",
      "********\n",
      "*********\n",
      "**********\n"
     ]
    }
   ],
   "source": [
    "star(10)"
   ]
  },
  {
   "cell_type": "code",
   "execution_count": 77,
   "id": "c69ecbe0",
   "metadata": {},
   "outputs": [
    {
     "name": "stdout",
     "output_type": "stream",
     "text": [
      "**********\n",
      "**********\n",
      "**********\n",
      "**********\n",
      "**********\n",
      "**********\n",
      "**********\n",
      "**********\n",
      "**********\n",
      "**********\n"
     ]
    }
   ],
   "source": [
    "for i in range(10):\n",
    "    print('*'*10)"
   ]
  },
  {
   "cell_type": "code",
   "execution_count": 79,
   "id": "a723a244",
   "metadata": {},
   "outputs": [
    {
     "name": "stdout",
     "output_type": "stream",
     "text": [
      "         * \n",
      "\n",
      "        * * \n",
      "\n",
      "       * * * \n",
      "\n",
      "      * * * * \n",
      "\n",
      "     * * * * * \n",
      "\n",
      "    * * * * * * \n",
      "\n",
      "   * * * * * * * \n",
      "\n",
      "  * * * * * * * * \n",
      "\n",
      " * * * * * * * * * \n",
      "\n",
      "* * * * * * * * * * \n",
      "\n"
     ]
    }
   ],
   "source": [
    "def tri(r):\n",
    "    \n",
    "    '''this is the function which will help you to create triagle'''\n",
    "    n=r\n",
    "    k=n-1\n",
    "    \n",
    "    for i in range(0,n):\n",
    "        for j in range(0,k):\n",
    "            print(end=\" \")\n",
    "            \n",
    "        k = k-1\n",
    "        \n",
    "        for j in range(0,i+1):\n",
    "            print(\"* \",end=\"\")\n",
    "            \n",
    "        print(\"\\n\")\n",
    "        \n",
    "tri(10)"
   ]
  },
  {
   "cell_type": "code",
   "execution_count": 80,
   "id": "792325c6",
   "metadata": {},
   "outputs": [
    {
     "name": "stdout",
     "output_type": "stream",
     "text": [
      "                   * \n",
      "\n",
      "                  * * \n",
      "\n",
      "                 * * * \n",
      "\n",
      "                * * * * \n",
      "\n",
      "               * * * * * \n",
      "\n",
      "              * * * * * * \n",
      "\n",
      "             * * * * * * * \n",
      "\n",
      "            * * * * * * * * \n",
      "\n",
      "           * * * * * * * * * \n",
      "\n",
      "          * * * * * * * * * * \n",
      "\n",
      "         * * * * * * * * * * * \n",
      "\n",
      "        * * * * * * * * * * * * \n",
      "\n",
      "       * * * * * * * * * * * * * \n",
      "\n",
      "      * * * * * * * * * * * * * * \n",
      "\n",
      "     * * * * * * * * * * * * * * * \n",
      "\n",
      "    * * * * * * * * * * * * * * * * \n",
      "\n",
      "   * * * * * * * * * * * * * * * * * \n",
      "\n",
      "  * * * * * * * * * * * * * * * * * * \n",
      "\n",
      " * * * * * * * * * * * * * * * * * * * \n",
      "\n",
      "* * * * * * * * * * * * * * * * * * * * \n",
      "\n"
     ]
    }
   ],
   "source": [
    "tri(20)"
   ]
  },
  {
   "cell_type": "code",
   "execution_count": 83,
   "id": "a7895951",
   "metadata": {},
   "outputs": [
    {
     "name": "stdout",
     "output_type": "stream",
     "text": [
      "Help on function tri in module __main__:\n",
      "\n",
      "tri(r)\n",
      "    this is the function which will help you to create triagle\n",
      "\n"
     ]
    }
   ],
   "source": [
    "help(tri)"
   ]
  },
  {
   "cell_type": "code",
   "execution_count": 84,
   "id": "d6d4f3c1",
   "metadata": {},
   "outputs": [
    {
     "name": "stdout",
     "output_type": "stream",
     "text": [
      "    * \n",
      "\n",
      "   * * \n",
      "\n",
      "  * * * \n",
      "\n",
      " * * * * \n",
      "\n",
      "* * * * * \n",
      "\n",
      "Help on NoneType object:\n",
      "\n",
      "class NoneType(object)\n",
      " |  Methods defined here:\n",
      " |  \n",
      " |  __bool__(self, /)\n",
      " |      self != 0\n",
      " |  \n",
      " |  __repr__(self, /)\n",
      " |      Return repr(self).\n",
      " |  \n",
      " |  ----------------------------------------------------------------------\n",
      " |  Static methods defined here:\n",
      " |  \n",
      " |  __new__(*args, **kwargs) from builtins.type\n",
      " |      Create and return a new object.  See help(type) for accurate signature.\n",
      "\n"
     ]
    }
   ],
   "source": [
    "help(tri(5))"
   ]
  },
  {
   "cell_type": "markdown",
   "id": "20105452",
   "metadata": {},
   "source": [
    "\n"
   ]
  },
  {
   "cell_type": "code",
   "execution_count": 86,
   "id": "b228b9fc",
   "metadata": {},
   "outputs": [
    {
     "name": "stdout",
     "output_type": "stream",
     "text": [
      "7\n"
     ]
    }
   ],
   "source": [
    "def length(n):\n",
    "    \n",
    "    '''this function will provide length of the input....'''\n",
    "    \n",
    "    c=0\n",
    "    for i in n:\n",
    "        c=c+1\n",
    "    print(c)\n",
    "    \n",
    "length(\"nikshit\")\n",
    "        "
   ]
  },
  {
   "cell_type": "code",
   "execution_count": 89,
   "id": "2e7f25cf",
   "metadata": {},
   "outputs": [
    {
     "name": "stdout",
     "output_type": "stream",
     "text": [
      "<class 'int'> ,  1\n",
      "<class 'int'> ,  2\n",
      "<class 'float'> ,  3.5\n",
      "<class 'list'> ,  [1, 2, 3]\n",
      "<class 'complex'> ,  (3+3j)\n",
      "<class 'tuple'> ,  (1, 5, 6)\n",
      "<class 'set'> ,  {8, 1, 4, 5}\n",
      "<class 'dict'> ,  {1: 5, 'l': 8}\n",
      "<class 'bool'> ,  True\n"
     ]
    }
   ],
   "source": [
    "def ind_ele(n):\n",
    "    \n",
    "    '''this function will return type of the each element...'''\n",
    "    \n",
    "    for i in n:\n",
    "        print(type(i),\", \",i)\n",
    "        \n",
    "ind_ele([1,2,3.5,[1,2,3],3+3j,(1,5,6),{1,5,8,4,5},{1:5,\"l\":8},True])"
   ]
  },
  {
   "cell_type": "code",
   "execution_count": 93,
   "id": "6ba7c723",
   "metadata": {},
   "outputs": [
    {
     "name": "stdout",
     "output_type": "stream",
     "text": [
      "<class 'int'> 1\n",
      "<class 'int'> 2\n",
      "<class 'float'> 3.5\n",
      "<class 'list'> [1, 2, 3]\n",
      "<class 'complex'> (3+3j)\n",
      "<class 'tuple'> (1, 5, 6)\n",
      "<class 'set'> {8, 1, 4, 5}\n",
      "<class 'dict'> {1: 5, 'l': 8}\n",
      "<class 'bool'> True\n"
     ]
    }
   ],
   "source": [
    "def ind_ele(n):\n",
    "    for i in n:\n",
    "        print(type(i),i)\n",
    "        \n",
    "ind_ele([1,2,3.5,[1,2,3],3+3j,(1,5,6),{1,5,8,4,5},{1:5,\"l\":8},True])"
   ]
  },
  {
   "cell_type": "code",
   "execution_count": 99,
   "id": "dfc1b58c",
   "metadata": {},
   "outputs": [
    {
     "name": "stdout",
     "output_type": "stream",
     "text": [
      "1\n",
      "2\n",
      "2\n",
      "4\n",
      "6\n"
     ]
    }
   ],
   "source": [
    "def dic_values(n):\n",
    "    \n",
    "    \n",
    "    \"\"\"this function will return each values in dict and also if there is nested dic at second level....\"\"\"\n",
    "    \n",
    "    for i in n.values():\n",
    "        if type(i)==dict:\n",
    "            for j in i.values():\n",
    "                print(j)\n",
    "        else:\n",
    "            print(i)\n",
    "        \n",
    "dic_values({\"a\":1,\"b\":2,\"c\":{1:2,3:4,5:6}})"
   ]
  },
  {
   "cell_type": "code",
   "execution_count": 107,
   "id": "f37443e2",
   "metadata": {},
   "outputs": [
    {
     "name": "stdout",
     "output_type": "stream",
     "text": [
      "nikshit\n",
      "nikshit\n",
      "nikshit\n",
      "nikshit\n",
      "nikshit\n",
      "nikshit\n",
      "nikshit\n",
      "nikshit\n",
      "nikshit\n",
      "nikshit\n"
     ]
    }
   ],
   "source": [
    "def in_f(n):\n",
    "    for i in range(n):\n",
    "        print(\"nikshit\")\n",
    "\n",
    "def out_f(n):\n",
    "    \n",
    "    '''this is outer function....will have to pass function inside creaed '''\n",
    "    \n",
    "    in_f(n)\n",
    "\n",
    "out_f(10)"
   ]
  },
  {
   "cell_type": "code",
   "execution_count": 111,
   "id": "85524978",
   "metadata": {},
   "outputs": [
    {
     "data": {
      "text/plain": [
       "[1, 2, 3, 4, 5, 6, 7, 8, 9, 10]"
      ]
     },
     "execution_count": 111,
     "metadata": {},
     "output_type": "execute_result"
    }
   ],
   "source": [
    "def mul_lst(*l):\n",
    "    \n",
    "    \n",
    "    '''it will return concatination of the list..'''\n",
    "    \n",
    "    k=[]\n",
    "    for i in l:\n",
    "        k.extend(i)\n",
    "    return k\n",
    "    \n",
    "mul_lst([1,2,3],[4,5,6],[7,8,9,10])"
   ]
  },
  {
   "cell_type": "code",
   "execution_count": 113,
   "id": "ec44692d",
   "metadata": {},
   "outputs": [
    {
     "name": "stdout",
     "output_type": "stream",
     "text": [
      "0   45\n",
      "1   78\n",
      "2   100\n",
      "3   58\n",
      "4   98\n",
      "5   25\n",
      "6   8\n",
      "7   78\n"
     ]
    }
   ],
   "source": [
    "def ind_lst(n):\n",
    "    \n",
    "    '''it will return all element with its index....'''\n",
    "    \n",
    "    ind=0\n",
    "    for i in n:\n",
    "        print(ind,\" \",i)\n",
    "        ind+=1\n",
    "ind_lst([45,78,100,58,98,25,8,78])\n",
    "        "
   ]
  },
  {
   "cell_type": "code",
   "execution_count": 118,
   "id": "89369840",
   "metadata": {},
   "outputs": [
    {
     "name": "stdout",
     "output_type": "stream",
     "text": [
      "combined.xlsx\n",
      "CTTExcelExport (1).xlsx\n",
      "CTTExcelExport (10).xlsx\n",
      "CTTExcelExport (11).xlsx\n",
      "CTTExcelExport (12).xlsx\n",
      "CTTExcelExport (13).xlsx\n",
      "CTTExcelExport (14).xlsx\n",
      "CTTExcelExport (15).xlsx\n",
      "CTTExcelExport (16).xlsx\n",
      "CTTExcelExport (17).xlsx\n",
      "CTTExcelExport (18).xlsx\n",
      "CTTExcelExport (19).xlsx\n",
      "CTTExcelExport (2).xlsx\n",
      "CTTExcelExport (20).xlsx\n",
      "CTTExcelExport (21).xlsx\n",
      "CTTExcelExport (22).xlsx\n",
      "CTTExcelExport (23).xlsx\n",
      "CTTExcelExport (24).xlsx\n",
      "CTTExcelExport (25).xlsx\n",
      "CTTExcelExport (26).xlsx\n",
      "CTTExcelExport (27).xlsx\n",
      "CTTExcelExport (28).xlsx\n",
      "CTTExcelExport (29).xlsx\n",
      "CTTExcelExport (3).xlsx\n",
      "CTTExcelExport (30).xlsx\n",
      "CTTExcelExport (31).xlsx\n",
      "CTTExcelExport (32).xlsx\n",
      "CTTExcelExport (33).xlsx\n",
      "CTTExcelExport (34).xlsx\n",
      "CTTExcelExport (35).xlsx\n",
      "CTTExcelExport (36).xlsx\n",
      "CTTExcelExport (37).xlsx\n",
      "CTTExcelExport (38).xlsx\n",
      "CTTExcelExport (39).xlsx\n",
      "CTTExcelExport (4).xlsx\n",
      "CTTExcelExport (40).xlsx\n",
      "CTTExcelExport (41).xlsx\n",
      "CTTExcelExport (42).xlsx\n",
      "CTTExcelExport (43).xlsx\n",
      "CTTExcelExport (44).xlsx\n",
      "CTTExcelExport (45).xlsx\n",
      "CTTExcelExport (46).xlsx\n",
      "CTTExcelExport (47).xlsx\n",
      "CTTExcelExport (48).xlsx\n",
      "CTTExcelExport (49).xlsx\n",
      "CTTExcelExport (5).xlsx\n",
      "CTTExcelExport (50).xlsx\n",
      "CTTExcelExport (51).xlsx\n",
      "CTTExcelExport (52).xlsx\n",
      "CTTExcelExport (53).xlsx\n",
      "CTTExcelExport (54).xlsx\n",
      "CTTExcelExport (55).xlsx\n",
      "CTTExcelExport (56).xlsx\n",
      "CTTExcelExport (57).xlsx\n",
      "CTTExcelExport (58).xlsx\n",
      "CTTExcelExport (59).xlsx\n",
      "CTTExcelExport (6).xlsx\n",
      "CTTExcelExport (60).xlsx\n",
      "CTTExcelExport (7).xlsx\n",
      "CTTExcelExport (8).xlsx\n",
      "CTTExcelExport (9).xlsx\n",
      "CTTExcelExport.xlsx\n"
     ]
    }
   ],
   "source": [
    "def lst_filename(path):\n",
    "    \n",
    "    '''this will list out all the files names under the path you have provided..'''\n",
    "    \n",
    "    import os\n",
    "    x = os.listdir(path)\n",
    "    \n",
    "    for i in x:\n",
    "        print(i)\n",
    "        \n",
    "path = r\"C:\\Users\\Nikshit.Vora\\Desktop\\ABCDEFG\"\n",
    "        \n",
    "lst_filename(path)\n",
    "    \n",
    "    \n",
    "    "
   ]
  },
  {
   "cell_type": "code",
   "execution_count": 137,
   "id": "8a9abc11",
   "metadata": {},
   "outputs": [
    {
     "name": "stdout",
     "output_type": "stream",
     "text": [
      "uname_result(system='Windows', node='CHNRMZ-L-86560', release='10', version='10.0.19044', machine='AMD64')\n",
      "\n",
      "\n",
      "System  : Windows\n",
      "Node  : CHNRMZ-L-86560\n",
      "Release  : 10\n",
      "Version  : 10.0.19044\n",
      "Machine  : AMD64\n"
     ]
    }
   ],
   "source": [
    "def get_sys_configuration():\n",
    "    \n",
    "    '''to get your system configuration......'''\n",
    "    \n",
    "    import platform\n",
    "    \n",
    "    x=platform.uname()\n",
    "    \n",
    "    print(x)\n",
    "    print(\"\\n\")\n",
    "    \n",
    "    print(\"System\",\" :\", x.system)\n",
    "    print(\"Node\",\" :\",x.node)\n",
    "    print(\"Release\",\" :\",x.release)\n",
    "    print(\"Version\",\" :\",x.version)\n",
    "    print(\"Machine\",\" :\",x.machine)\n",
    "    \n",
    "    \n",
    "\n",
    "    \n",
    "get_sys_configuration()"
   ]
  },
  {
   "cell_type": "code",
   "execution_count": 170,
   "id": "1b86ebe1",
   "metadata": {},
   "outputs": [
    {
     "name": "stdout",
     "output_type": "stream",
     "text": [
      "2022-12-18 11:57:51.880944\n",
      "\n",
      "\n",
      "2022-12-18\n",
      "11:57:51.880944\n",
      "\n",
      "\n",
      "Day : 18\n",
      "Month : 12\n",
      "Year : 2022\n",
      "\n",
      "\n",
      "Hours : 11\n",
      "Minute : 57\n",
      "seconds : 51\n",
      "Microsecond : 880944\n"
     ]
    }
   ],
   "source": [
    "def get_time_date():\n",
    "    \n",
    "    from datetime import datetime\n",
    "    \n",
    "    current = datetime.now()\n",
    "    print(current)\n",
    "    print(\"\\n\")\n",
    "    \n",
    "    print(current.date())\n",
    "    print(current.time())\n",
    "    print(\"\\n\")\n",
    "    \n",
    "    print(\"Day :\", current.date().day)\n",
    "    print(\"Month :\", current.date().month)\n",
    "    print(\"Year :\", current.date().year)\n",
    "    print(\"\\n\")\n",
    "    \n",
    "    print(\"Hours :\",current.time().hour)\n",
    "    print(\"Minute :\", current.time().minute)\n",
    "    print(\"seconds :\", current.time().second)\n",
    "    print(\"Microsecond :\",current.time().microsecond)\n",
    "    \n",
    "    \n",
    "    \n",
    "get_time_date()\n",
    "    "
   ]
  },
  {
   "cell_type": "code",
   "execution_count": 1,
   "id": "cea62eee",
   "metadata": {},
   "outputs": [],
   "source": [
    "def open_image(path):\n",
    "    \n",
    "    '''this function will pop up image in your PC.....'''\n",
    "    \n",
    "    from PIL import Image, ImageFilter\n",
    "\n",
    "    im = Image.open(path)\n",
    "    im.show()\n",
    "    \n",
    "path = r\"C:\\Users\\Nikshit.Vora\\Desktop\\shell logo.PNG\"\n",
    "open_image(path) "
   ]
  },
  {
   "cell_type": "code",
   "execution_count": 7,
   "id": "48bf4d58",
   "metadata": {},
   "outputs": [],
   "source": [
    "def move_file(s,d):\n",
    "    \n",
    "    '''to move files from one folder to another folder.....'''\n",
    "    \n",
    "    import shutil\n",
    "    shutil.move(s,d)\n",
    "    \n",
    "s = r\"C:\\Users\\Nikshit.Vora\\Desktop\\Document\\WMHD 2022 Interactive PDF v2 (1).pdf\"\n",
    "d = r\"C:\\Users\\Nikshit.Vora\\Desktop\\WMHD 2022 Interactive PDF v2 (1).pdf\"\n",
    "    \n",
    "move_file(s,d)"
   ]
  },
  {
   "cell_type": "code",
   "execution_count": 20,
   "id": "fc4fc057",
   "metadata": {},
   "outputs": [
    {
     "name": "stdout",
     "output_type": "stream",
     "text": [
      "2\n",
      "Item \n",
      "No. Item Name  Specs  Intent  Sample Picture  \n",
      "1 Mouse – \n",
      "Standard  Mouse - USB Optical, with two buttons  To use with laptop \n",
      "riser  or monitor \n",
      "display  \n",
      "  \n",
      " \n",
      "2 Keyboard – \n",
      "Standard  Keyboard - USB – Standard,  with  additional in -\n",
      "built USB port for connecting \n",
      "mouse/headset  if required.   To use with laptop \n",
      "riser  or monitor \n",
      "display  \n",
      " \n",
      "3 Laptop riser / \n",
      "stand  Height adjustable  \n",
      "Non -skid base  \n",
      "Wide enough to support a 14” laptop  \n",
      " \n",
      " \n",
      "Note: For connection of \n",
      "keyboard/mouse/headset to laptop, you may \n",
      "need additional USB ports.  To raise the laptop \n",
      "higher so the \n",
      "screen is near or \n",
      "slightly below eye \n",
      "level. Separate \n",
      "keyboard and \n",
      "mouse should be \n",
      "used for a raised \n",
      "laptop screen.    \n",
      "4 Monit or display  23” or 24” monitor display, non -touch screen.  \n",
      "Displayport / USB -C compatible with laptop \n",
      "version , with additional USB ports  To use for critical \n",
      "task requiring \n",
      "larger screen size  \n",
      " \n",
      "\n",
      " \n",
      " \n",
      " 5 Task Chair with \n",
      "backrest  1. Is the backrest high enough to provide \n",
      "sufficient support to upper back?  \n",
      "2. Is the lumber support in the right \n",
      "location to provide additional support \n",
      "to lower back? (optional – may use \n",
      "pillow for lumbar area)  \n",
      "3. Is armrest provided?  \n",
      "4. Does the pneumatic seat height \n",
      "adjustment provide enough height \n",
      "adjustment to suit your sitting \n",
      "position at the desk?  \n",
      "5. If the chair has wheels, does the chair \n",
      "have a 5 -star base to support \n",
      "stability?  \n",
      "6. Is the front of seat rounded?  Ergonomic chair \n",
      "provision  \n",
      " \n",
      "6 Simple Desk  \n",
      " \n",
      " 1. Will the size of the desk fit in your \n",
      "home?  \n",
      "2. Does the worksurface area fit a \n",
      "laptop, keyboard, mouse and \n",
      "monitor/laptop riser? This is at least \n",
      "900mm (3 feet) wide by 600mm (2 \n",
      "feet) deep.  \n",
      "3. Is the worksurface solid and stable?  \n",
      "4. Is the worksurface height comfortable \n",
      "to work?  \n",
      "5. Is the structure solid and stable?  \n",
      "6. Are the legs stable and do the position \n",
      "of the legs allow comfortable leg and \n",
      "knee clearance when seated?  Basic desk \n",
      "provision  \n",
      " \n",
      "\n"
     ]
    }
   ],
   "source": [
    "def read_pdf(path):\n",
    "    \n",
    "    import PyPDF2\n",
    "\n",
    "    pdf = open(path,'rb')\n",
    "\n",
    "    pdf_read = PyPDF2.PdfFileReader(pdf)\n",
    "\n",
    "    print(pdf_read.numPages)\n",
    "    \n",
    "    for i in range(pdf_read.numPages):\n",
    "\n",
    "        page=pdf_read.getPage(i)\n",
    "\n",
    "        print(page.extractText())\n",
    "\n",
    "    pdf.close()\n",
    "    \n",
    "    \n",
    "path = r\"C:\\Users\\Nikshit.Vora\\Desktop\\Document\\RE and IT Ergonomic Specifications.pdf\"\n",
    "read_pdf(path)"
   ]
  },
  {
   "cell_type": "code",
   "execution_count": 26,
   "id": "f072d1bb",
   "metadata": {},
   "outputs": [],
   "source": [
    "def merge_pdf(list_of_PDFS):\n",
    "    \n",
    "    '''it will merge the files ....'''\n",
    "    \n",
    "    from PyPDF2 import PdfFileMerger\n",
    "    \n",
    "    merger = PdfFileMerger()\n",
    "    \n",
    "    for i in list_of_PDFS:\n",
    "        merger.append(i)\n",
    "        \n",
    "    merger.write(r\"C:\\Users\\Nikshit.Vora\\Desktop\\Document\\combined.pdf\")\n",
    "    merger.close()\n",
    "    \n",
    "pdf1 = r\"C:\\Users\\Nikshit.Vora\\Desktop\\Document\\WMHD 2022 Interactive PDF v2 (1).pdf\"\n",
    "pdf2 = r\"C:\\Users\\Nikshit.Vora\\Desktop\\Document\\RE and IT Ergonomic Specifications.pdf\"\n",
    "\n",
    "merge_pdf([pdf1,pdf2])    "
   ]
  },
  {
   "cell_type": "code",
   "execution_count": 27,
   "id": "4a062d89",
   "metadata": {},
   "outputs": [
    {
     "name": "stdout",
     "output_type": "stream",
     "text": [
      "0\n"
     ]
    }
   ],
   "source": [
    "import os\n",
    "print(os.system('ipconfig'))"
   ]
  },
  {
   "cell_type": "code",
   "execution_count": 28,
   "id": "67b7bbe0",
   "metadata": {},
   "outputs": [
    {
     "name": "stdout",
     "output_type": "stream",
     "text": [
      "Your Computer Name is:CHNRMZ-L-86560\n",
      "Your Computer IP Address is:192.168.1.100\n"
     ]
    }
   ],
   "source": [
    "import socket\n",
    "hostname = socket.gethostname()\n",
    "IPAddr = socket.gethostbyname(hostname)\n",
    " \n",
    "print(\"Your Computer Name is:\" + hostname)\n",
    "print(\"Your Computer IP Address is:\" + IPAddr)"
   ]
  },
  {
   "cell_type": "code",
   "execution_count": 30,
   "id": "6aac713f",
   "metadata": {},
   "outputs": [
    {
     "name": "stdout",
     "output_type": "stream",
     "text": [
      "CHNRMZ-L-86560\n",
      "192.168.1.100\n"
     ]
    }
   ],
   "source": [
    "def get_sys_name_id():\n",
    "    \n",
    "    '''it will print your system s host name and IP address name/.....'''\n",
    "    \n",
    "    import socket\n",
    "    \n",
    "    h_name = socket.gethostname()\n",
    "    IP_name = socket.gethostbyname(h_name)\n",
    "    \n",
    "    print(h_name)\n",
    "    print(IP_name)\n",
    "    \n",
    "get_sys_name_id()\n",
    "    \n"
   ]
  },
  {
   "cell_type": "code",
   "execution_count": 32,
   "id": "a5f61adb",
   "metadata": {},
   "outputs": [
    {
     "ename": "ModuleNotFoundError",
     "evalue": "No module named 'OpenCV'",
     "output_type": "error",
     "traceback": [
      "\u001b[1;31m---------------------------------------------------------------------------\u001b[0m",
      "\u001b[1;31mModuleNotFoundError\u001b[0m                       Traceback (most recent call last)",
      "\u001b[1;32mC:\\Users\\NIKSHI~1.VOR\\AppData\\Local\\Temp/ipykernel_15572/2219575556.py\u001b[0m in \u001b[0;36m<module>\u001b[1;34m\u001b[0m\n\u001b[1;32m----> 1\u001b[1;33m \u001b[1;32mimport\u001b[0m \u001b[0mOpenCV\u001b[0m\u001b[1;33m\u001b[0m\u001b[1;33m\u001b[0m\u001b[0m\n\u001b[0m",
      "\u001b[1;31mModuleNotFoundError\u001b[0m: No module named 'OpenCV'"
     ]
    }
   ],
   "source": [
    "import OpenCV"
   ]
  },
  {
   "cell_type": "code",
   "execution_count": 35,
   "id": "bbc1c75b",
   "metadata": {},
   "outputs": [
    {
     "name": "stdout",
     "output_type": "stream",
     "text": [
      "CV ravi.docx\n",
      "dhruvi.docx\n",
      "Dress Code Reference.docx\n",
      "FAQ edX.docx\n",
      "GPA_format.docx\n",
      "ishita.docx\n",
      "janvi.docx\n",
      "MAYUR IDP (2).docx\n",
      "Rensi.docx\n",
      "Template.docx\n"
     ]
    }
   ],
   "source": [
    "def lst_word_file_only(path):\n",
    "    \n",
    "    '''this will list out all the files names under the path you have provided..'''\n",
    "    \n",
    "    import os\n",
    "    x = os.listdir(path)\n",
    "    \n",
    "    for i in x:\n",
    "        if i.endswith(\"docx\"):\n",
    "            print(i)\n",
    "        \n",
    "path = r\"C:\\Users\\Nikshit.Vora\\Downloads\"\n",
    "lst_word_file_only(path)"
   ]
  },
  {
   "cell_type": "code",
   "execution_count": 45,
   "id": "4bee4f5c",
   "metadata": {},
   "outputs": [
    {
     "name": "stdout",
     "output_type": "stream",
     "text": [
      "RAVI SHANKER  \n",
      "Address:  H.No.17, Village Post -Kiul,Garhara,     \n",
      "P.S- Barauni, Dist.- Begusarai,                                             E-mail Id: ravishanker.rai21@gmail.com\n",
      "Bihar- 851126                                                                      Mob: +91-8789357267,\n",
      "\n",
      "JOB OBJECTIVE:\n",
      "To facilitate creation and delivery of value in overall supply chain of our Company.\n",
      "To use procurement process effectively and efficiently to help Organization in economization of resource use, optimization of business processes and providing value to our customers.\n",
      "Effective prioritization and efficient processing of indents / requisitions received vide procurement requirements pertaining mainly to  CNG/PNG business activity.\n",
      "To ensure fair, transparent, and ethical process at all the stages.\n",
      "\n",
      "WORK EXPERIENCE:\n",
      "\n",
      "Officer\n",
      "ADANI TOTAL GAS LTD\n",
      "Halvad (Gujarat)\n",
      "Experience: 13 Feb 2020 to present\n",
      "\n",
      "COMPANY PROFILE:\n",
      "Adani Gas Ltd is developing City Gas Distribution (CGD) Networks to supply the Piped Natural Gas (PNG) to the Industrial, Commercial, Domestic (residential) and Compressed Natural Gas (CNG) to the transport sector across the nation with 18 GAs.\n",
      "\n",
      "JOB DESCRIPTION:\n",
      "Working as an officer at Adani total gas ltd for City gas distribution project.\n",
      "Ensure effective management of stores by optimizing inventory management and maintaining appropriate documentations.\n",
      "Ensuring the uninterrupted availability of Services required for Laying of underground PE & GI Pipeline network as per the Business Plan by way of timely award of Work Contracts through Tendering Process (Open as well as Limited Tender).\n",
      "Procurement of Engineering items and IT related products.\n",
      "Effective prioritization and processing of all indents / requisitions received vide procurement requirements pertaining to diverse departments, viz. Steel and Poly Ethylene (PE) Pipeline Network Projects, O&M (Operations and Maintenance), HSE (Health, Safety and Environment), IT (Information Technology), HR.\n",
      "Primary responsibility for conducting competitive bidding by using solicitation tools such as RFPs (Request for Proposal) and RFQs (Request for Quotation) to vendors.\n",
      "Conducting Pre-bid meetings and acting as single point contact with all the bidders on behalf of MGL during the tendering process to clear any queries raised by them to ensure fair and transparent tendering process.\n",
      "Follow-up with the bidders for bid submission to ensure competitive bidding.\n",
      "Evaluating commercial bids of the vendors and preparing comparative statements recommending purchasing strategy.\n",
      "Ensuring smooth supply of Imported & Local materials and providing efficient procurement as per specified quality and at competitive cost.\n",
      "Effectively monitoring the various contracts for compliance with corporate procedures and performance rating of vendors, cancellation of orders and contracts for non-compliance and non-performance, thereby minimizing the cost associated with missed contract breaks.\n",
      "Continuous expediting of the delivery schedules with vendors and ensuring timely procurement and replenishment of stocks without hampering the progress of the projects.\n",
      "Effectively coordinate various functions of Receipts, Inspection, Storage, Issues & Related Documentation, related Transportation Contracts, Bill processing, etc.\n",
      "\n",
      "\n",
      "\n",
      "Engineer\n",
      "Elite Powertech Pvt Ltd\n",
      "Fatehabad (Agra)\n",
      "Experience: April 2017 to 22 dec 2019\n",
      "\n",
      "JOB DESCRIPTION (As shift In-charge):\n",
      "Maintain substation instrument with shutdown. \n",
      "Centralize operating & monitoring of Electrical Transmission system, SCADA system. \n",
      "To attained any breakdown in the shift. \n",
      "Good knowledge of operation of relays Performed routine maintenance inspections on equipment’s such as SF6 circuit breaker, CT, CVT, isolator, panels, Battery Bank(220v,48v), Transformer (1500MVA, 315MVA)Reactors(240mvar) . \n",
      "Trouble Shooting in Power Plants, Switchyards up to 765KV, Sub-Stations, Transformers. \n",
      "Making Daily Progress Reports (DPR) to keep tracking on the project. \n",
      "Making reports, and site documentation work. \n",
      "       Interaction and general meeting with Clients & Customers\n",
      "\n",
      "COMPUTER PROFICENCY: \n",
      "SAP (MM module)\n",
      "Ms-Office\n",
      "Certification in “Course on computer concepts”\n",
      "\n",
      "\n",
      "PERSONAL SKILLS: \n",
      "\n",
      "Negotiation Skills.\n",
      "Problem Solver.\n",
      "Good Motivator.\n",
      "Excellent Communication & Surveillance Skills.\n",
      "High Energy and Perseverance.\n",
      "\n",
      "\n",
      "EDUCATIONAL QUALIFICATION: \n",
      "\n",
      "PERSONAL DETAILS: \n",
      "Name                                 :     Ravi Shanker\n",
      "Father’s Name                 :      Bipin kumar rai\n",
      "DOB                                   :      25 may 1990\n",
      "Sex                                     :      Male\n",
      "Marital status                  :      Married\n",
      "Language Known            :       English, Hindi\n",
      "\n",
      "\n",
      "\n",
      "DECLARATION: \n",
      "\n",
      "I hereby declare that all the information given above is correct to the best of my knowledge.\n",
      "\n",
      "    \n",
      "\n",
      "(RAVI SHANKER)\n",
      "\n"
     ]
    }
   ],
   "source": [
    "def read_word_document(path):\n",
    "    \n",
    "    '''this will read the word document.....of the file you provided....'''\n",
    "    \n",
    "    import docx\n",
    "    doc = docx.Document(path)\n",
    "    \n",
    "    for i in doc.paragraphs:\n",
    "        print(i.text)\n",
    "        \n",
    "path = r\"C:\\Users\\Nikshit.Vora\\Downloads\\CV ravi.docx\"\n",
    "read_word_document(path)"
   ]
  },
  {
   "cell_type": "code",
   "execution_count": null,
   "id": "a5a80af5",
   "metadata": {},
   "outputs": [],
   "source": []
  }
 ],
 "metadata": {
  "kernelspec": {
   "display_name": "Python 3 (ipykernel)",
   "language": "python",
   "name": "python3"
  },
  "language_info": {
   "codemirror_mode": {
    "name": "ipython",
    "version": 3
   },
   "file_extension": ".py",
   "mimetype": "text/x-python",
   "name": "python",
   "nbconvert_exporter": "python",
   "pygments_lexer": "ipython3",
   "version": "3.9.7"
  }
 },
 "nbformat": 4,
 "nbformat_minor": 5
}
