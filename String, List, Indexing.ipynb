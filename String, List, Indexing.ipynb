{
 "cells": [
  {
   "cell_type": "code",
   "execution_count": 1,
   "id": "146186f3",
   "metadata": {},
   "outputs": [],
   "source": [
    "a = \"Nikshit\""
   ]
  },
  {
   "cell_type": "code",
   "execution_count": 2,
   "id": "e316acde",
   "metadata": {},
   "outputs": [
    {
     "data": {
      "text/plain": [
       "'Nikshit'"
      ]
     },
     "execution_count": 2,
     "metadata": {},
     "output_type": "execute_result"
    }
   ],
   "source": [
    "a"
   ]
  },
  {
   "cell_type": "code",
   "execution_count": 3,
   "id": "4e7c5ad7",
   "metadata": {},
   "outputs": [
    {
     "data": {
      "text/plain": [
       "str"
      ]
     },
     "execution_count": 3,
     "metadata": {},
     "output_type": "execute_result"
    }
   ],
   "source": [
    "type(a)"
   ]
  },
  {
   "cell_type": "code",
   "execution_count": 4,
   "id": "6bb72787",
   "metadata": {},
   "outputs": [
    {
     "data": {
      "text/plain": [
       "'N'"
      ]
     },
     "execution_count": 4,
     "metadata": {},
     "output_type": "execute_result"
    }
   ],
   "source": [
    "a[0]"
   ]
  },
  {
   "cell_type": "code",
   "execution_count": 5,
   "id": "d1236ced",
   "metadata": {},
   "outputs": [
    {
     "data": {
      "text/plain": [
       "'i'"
      ]
     },
     "execution_count": 5,
     "metadata": {},
     "output_type": "execute_result"
    }
   ],
   "source": [
    "a[1]"
   ]
  },
  {
   "cell_type": "code",
   "execution_count": 6,
   "id": "a88925f2",
   "metadata": {},
   "outputs": [
    {
     "data": {
      "text/plain": [
       "'k'"
      ]
     },
     "execution_count": 6,
     "metadata": {},
     "output_type": "execute_result"
    }
   ],
   "source": [
    "a[2]"
   ]
  },
  {
   "cell_type": "code",
   "execution_count": 7,
   "id": "514e5acd",
   "metadata": {},
   "outputs": [
    {
     "data": {
      "text/plain": [
       "'s'"
      ]
     },
     "execution_count": 7,
     "metadata": {},
     "output_type": "execute_result"
    }
   ],
   "source": [
    "a[3]"
   ]
  },
  {
   "cell_type": "code",
   "execution_count": 8,
   "id": "ccd68862",
   "metadata": {},
   "outputs": [
    {
     "data": {
      "text/plain": [
       "'h'"
      ]
     },
     "execution_count": 8,
     "metadata": {},
     "output_type": "execute_result"
    }
   ],
   "source": [
    "a[4]"
   ]
  },
  {
   "cell_type": "code",
   "execution_count": 9,
   "id": "d24b6047",
   "metadata": {},
   "outputs": [
    {
     "data": {
      "text/plain": [
       "'i'"
      ]
     },
     "execution_count": 9,
     "metadata": {},
     "output_type": "execute_result"
    }
   ],
   "source": [
    "a[5]"
   ]
  },
  {
   "cell_type": "code",
   "execution_count": 10,
   "id": "147a3af8",
   "metadata": {},
   "outputs": [
    {
     "data": {
      "text/plain": [
       "'t'"
      ]
     },
     "execution_count": 10,
     "metadata": {},
     "output_type": "execute_result"
    }
   ],
   "source": [
    "a[6]"
   ]
  },
  {
   "cell_type": "code",
   "execution_count": 11,
   "id": "f29a2f22",
   "metadata": {},
   "outputs": [
    {
     "ename": "IndexError",
     "evalue": "string index out of range",
     "output_type": "error",
     "traceback": [
      "\u001b[1;31m---------------------------------------------------------------------------\u001b[0m",
      "\u001b[1;31mIndexError\u001b[0m                                Traceback (most recent call last)",
      "\u001b[1;32mC:\\Users\\NIKSHI~1.VOR\\AppData\\Local\\Temp/ipykernel_19300/506522434.py\u001b[0m in \u001b[0;36m<module>\u001b[1;34m\u001b[0m\n\u001b[1;32m----> 1\u001b[1;33m \u001b[0ma\u001b[0m\u001b[1;33m[\u001b[0m\u001b[1;36m7\u001b[0m\u001b[1;33m]\u001b[0m\u001b[1;33m\u001b[0m\u001b[1;33m\u001b[0m\u001b[0m\n\u001b[0m",
      "\u001b[1;31mIndexError\u001b[0m: string index out of range"
     ]
    }
   ],
   "source": [
    "a[7]"
   ]
  },
  {
   "cell_type": "code",
   "execution_count": 12,
   "id": "2c9807b4",
   "metadata": {},
   "outputs": [
    {
     "data": {
      "text/plain": [
       "'t'"
      ]
     },
     "execution_count": 12,
     "metadata": {},
     "output_type": "execute_result"
    }
   ],
   "source": [
    "a[-1]"
   ]
  },
  {
   "cell_type": "code",
   "execution_count": 13,
   "id": "7f68e300",
   "metadata": {},
   "outputs": [
    {
     "data": {
      "text/plain": [
       "'i'"
      ]
     },
     "execution_count": 13,
     "metadata": {},
     "output_type": "execute_result"
    }
   ],
   "source": [
    "a[-2]"
   ]
  },
  {
   "cell_type": "code",
   "execution_count": 14,
   "id": "726fbd2f",
   "metadata": {},
   "outputs": [
    {
     "data": {
      "text/plain": [
       "'h'"
      ]
     },
     "execution_count": 14,
     "metadata": {},
     "output_type": "execute_result"
    }
   ],
   "source": [
    "a[-3]"
   ]
  },
  {
   "cell_type": "code",
   "execution_count": 15,
   "id": "a8967732",
   "metadata": {},
   "outputs": [
    {
     "data": {
      "text/plain": [
       "'s'"
      ]
     },
     "execution_count": 15,
     "metadata": {},
     "output_type": "execute_result"
    }
   ],
   "source": [
    "a[-4]"
   ]
  },
  {
   "cell_type": "code",
   "execution_count": 16,
   "id": "5fd6ce58",
   "metadata": {},
   "outputs": [],
   "source": [
    "b = \"my name is Nikshit vora\""
   ]
  },
  {
   "cell_type": "code",
   "execution_count": 17,
   "id": "bdbd5815",
   "metadata": {},
   "outputs": [
    {
     "data": {
      "text/plain": [
       "'my name is Nikshit vora'"
      ]
     },
     "execution_count": 17,
     "metadata": {},
     "output_type": "execute_result"
    }
   ],
   "source": [
    "b"
   ]
  },
  {
   "cell_type": "code",
   "execution_count": 18,
   "id": "9a9f7a1e",
   "metadata": {},
   "outputs": [
    {
     "data": {
      "text/plain": [
       "'my name is'"
      ]
     },
     "execution_count": 18,
     "metadata": {},
     "output_type": "execute_result"
    }
   ],
   "source": [
    "b[0:10]"
   ]
  },
  {
   "cell_type": "code",
   "execution_count": 19,
   "id": "92fd98f3",
   "metadata": {},
   "outputs": [
    {
     "data": {
      "text/plain": [
       "'m aei'"
      ]
     },
     "execution_count": 19,
     "metadata": {},
     "output_type": "execute_result"
    }
   ],
   "source": [
    "b[0:10:2]"
   ]
  },
  {
   "cell_type": "code",
   "execution_count": 21,
   "id": "264fff71",
   "metadata": {},
   "outputs": [
    {
     "data": {
      "text/plain": [
       "'my name is'"
      ]
     },
     "execution_count": 21,
     "metadata": {},
     "output_type": "execute_result"
    }
   ],
   "source": [
    "b[0:10:1]"
   ]
  },
  {
   "cell_type": "code",
   "execution_count": 22,
   "id": "f559aae9",
   "metadata": {},
   "outputs": [
    {
     "data": {
      "text/plain": [
       "'my name is Nikshit vora'"
      ]
     },
     "execution_count": 22,
     "metadata": {},
     "output_type": "execute_result"
    }
   ],
   "source": [
    "b[0:300]"
   ]
  },
  {
   "cell_type": "code",
   "execution_count": 23,
   "id": "30c682ea",
   "metadata": {},
   "outputs": [
    {
     "data": {
      "text/plain": [
       "'arov tihskiN si eman ym'"
      ]
     },
     "execution_count": 23,
     "metadata": {},
     "output_type": "execute_result"
    }
   ],
   "source": [
    "b[::-1]"
   ]
  },
  {
   "cell_type": "code",
   "execution_count": 24,
   "id": "b65a156c",
   "metadata": {},
   "outputs": [
    {
     "data": {
      "text/plain": [
       "'mnes'"
      ]
     },
     "execution_count": 24,
     "metadata": {},
     "output_type": "execute_result"
    }
   ],
   "source": [
    "b[0:10:3]"
   ]
  },
  {
   "cell_type": "code",
   "execution_count": 25,
   "id": "bf5a7094",
   "metadata": {},
   "outputs": [
    {
     "data": {
      "text/plain": [
       "''"
      ]
     },
     "execution_count": 25,
     "metadata": {},
     "output_type": "execute_result"
    }
   ],
   "source": [
    "b[0:10:-1]"
   ]
  },
  {
   "cell_type": "code",
   "execution_count": 26,
   "id": "6e9ac457",
   "metadata": {},
   "outputs": [],
   "source": [
    "x = b[0:10]"
   ]
  },
  {
   "cell_type": "code",
   "execution_count": 27,
   "id": "88de33b0",
   "metadata": {},
   "outputs": [
    {
     "data": {
      "text/plain": [
       "'si eman ym'"
      ]
     },
     "execution_count": 27,
     "metadata": {},
     "output_type": "execute_result"
    }
   ],
   "source": [
    "x[::-1]"
   ]
  },
  {
   "cell_type": "code",
   "execution_count": 28,
   "id": "4a44f132",
   "metadata": {},
   "outputs": [
    {
     "data": {
      "text/plain": [
       "'my name is Nikshit vora'"
      ]
     },
     "execution_count": 28,
     "metadata": {},
     "output_type": "execute_result"
    }
   ],
   "source": [
    "b"
   ]
  },
  {
   "cell_type": "code",
   "execution_count": 29,
   "id": "4077b11a",
   "metadata": {},
   "outputs": [
    {
     "data": {
      "text/plain": [
       "'m'"
      ]
     },
     "execution_count": 29,
     "metadata": {},
     "output_type": "execute_result"
    }
   ],
   "source": [
    "b[0]"
   ]
  },
  {
   "cell_type": "code",
   "execution_count": 30,
   "id": "6120e201",
   "metadata": {},
   "outputs": [],
   "source": [
    "n = \"Nikshit\""
   ]
  },
  {
   "cell_type": "code",
   "execution_count": 31,
   "id": "0434e2e2",
   "metadata": {},
   "outputs": [
    {
     "data": {
      "text/plain": [
       "'Nikshi'"
      ]
     },
     "execution_count": 31,
     "metadata": {},
     "output_type": "execute_result"
    }
   ],
   "source": [
    "n[0:-1]"
   ]
  },
  {
   "cell_type": "code",
   "execution_count": 32,
   "id": "29d77c35",
   "metadata": {},
   "outputs": [
    {
     "data": {
      "text/plain": [
       "'Nikshit'"
      ]
     },
     "execution_count": 32,
     "metadata": {},
     "output_type": "execute_result"
    }
   ],
   "source": [
    "n[0:7:1]"
   ]
  },
  {
   "cell_type": "code",
   "execution_count": 33,
   "id": "a2309ebe",
   "metadata": {},
   "outputs": [
    {
     "data": {
      "text/plain": [
       "'Nkht'"
      ]
     },
     "execution_count": 33,
     "metadata": {},
     "output_type": "execute_result"
    }
   ],
   "source": [
    "n[0:8:2]"
   ]
  },
  {
   "cell_type": "code",
   "execution_count": 34,
   "id": "475e8050",
   "metadata": {},
   "outputs": [
    {
     "data": {
      "text/plain": [
       "'tihskiN'"
      ]
     },
     "execution_count": 34,
     "metadata": {},
     "output_type": "execute_result"
    }
   ],
   "source": [
    "n[-1:-300:-1]"
   ]
  },
  {
   "cell_type": "code",
   "execution_count": 35,
   "id": "8d813141",
   "metadata": {},
   "outputs": [
    {
     "data": {
      "text/plain": [
       "''"
      ]
     },
     "execution_count": 35,
     "metadata": {},
     "output_type": "execute_result"
    }
   ],
   "source": [
    "n[-1:-5]"
   ]
  },
  {
   "cell_type": "code",
   "execution_count": 36,
   "id": "1364e0e1",
   "metadata": {},
   "outputs": [
    {
     "data": {
      "text/plain": [
       "'tihskiN'"
      ]
     },
     "execution_count": 36,
     "metadata": {},
     "output_type": "execute_result"
    }
   ],
   "source": [
    "n[-1:-8:-1]"
   ]
  },
  {
   "cell_type": "code",
   "execution_count": 37,
   "id": "0cd656bc",
   "metadata": {},
   "outputs": [
    {
     "data": {
      "text/plain": [
       "'N'"
      ]
     },
     "execution_count": 37,
     "metadata": {},
     "output_type": "execute_result"
    }
   ],
   "source": [
    "n[0:-10:-1]"
   ]
  },
  {
   "cell_type": "code",
   "execution_count": 38,
   "id": "fa31bd88",
   "metadata": {},
   "outputs": [
    {
     "data": {
      "text/plain": [
       "'Nikshit'"
      ]
     },
     "execution_count": 38,
     "metadata": {},
     "output_type": "execute_result"
    }
   ],
   "source": [
    "n[::]"
   ]
  },
  {
   "cell_type": "code",
   "execution_count": 39,
   "id": "f03db91a",
   "metadata": {},
   "outputs": [
    {
     "data": {
      "text/plain": [
       "'kshit'"
      ]
     },
     "execution_count": 39,
     "metadata": {},
     "output_type": "execute_result"
    }
   ],
   "source": [
    "n[2:]"
   ]
  },
  {
   "cell_type": "code",
   "execution_count": 40,
   "id": "b621f76f",
   "metadata": {},
   "outputs": [
    {
     "data": {
      "text/plain": [
       "'Nikshit'"
      ]
     },
     "execution_count": 40,
     "metadata": {},
     "output_type": "execute_result"
    }
   ],
   "source": [
    "n[:8]"
   ]
  },
  {
   "cell_type": "code",
   "execution_count": 41,
   "id": "921aa6cf",
   "metadata": {},
   "outputs": [
    {
     "data": {
      "text/plain": [
       "'tihskiN'"
      ]
     },
     "execution_count": 41,
     "metadata": {},
     "output_type": "execute_result"
    }
   ],
   "source": [
    "n[::-1]"
   ]
  },
  {
   "cell_type": "code",
   "execution_count": 42,
   "id": "46746844",
   "metadata": {},
   "outputs": [
    {
     "data": {
      "text/plain": [
       "'it'"
      ]
     },
     "execution_count": 42,
     "metadata": {},
     "output_type": "execute_result"
    }
   ],
   "source": [
    "n[-2:]"
   ]
  },
  {
   "cell_type": "code",
   "execution_count": 43,
   "id": "31c6f249",
   "metadata": {},
   "outputs": [
    {
     "data": {
      "text/plain": [
       "'t'"
      ]
     },
     "execution_count": 43,
     "metadata": {},
     "output_type": "execute_result"
    }
   ],
   "source": [
    "n[-1:]"
   ]
  },
  {
   "cell_type": "code",
   "execution_count": 44,
   "id": "187c57b0",
   "metadata": {},
   "outputs": [
    {
     "data": {
      "text/plain": [
       "'tihskiN'"
      ]
     },
     "execution_count": 44,
     "metadata": {},
     "output_type": "execute_result"
    }
   ],
   "source": [
    "n[-1::-1]"
   ]
  },
  {
   "cell_type": "code",
   "execution_count": 45,
   "id": "da686b92",
   "metadata": {},
   "outputs": [],
   "source": [
    "a = \"my name is nikshit vora...\""
   ]
  },
  {
   "cell_type": "code",
   "execution_count": 46,
   "id": "19566596",
   "metadata": {},
   "outputs": [
    {
     "data": {
      "text/plain": [
       "'my name is nikshit vora...'"
      ]
     },
     "execution_count": 46,
     "metadata": {},
     "output_type": "execute_result"
    }
   ],
   "source": [
    "a"
   ]
  },
  {
   "cell_type": "code",
   "execution_count": 47,
   "id": "b3f5bc04",
   "metadata": {},
   "outputs": [
    {
     "data": {
      "text/plain": [
       "''"
      ]
     },
     "execution_count": 47,
     "metadata": {},
     "output_type": "execute_result"
    }
   ],
   "source": [
    "a[-5:5]"
   ]
  },
  {
   "cell_type": "code",
   "execution_count": 48,
   "id": "62fd4259",
   "metadata": {},
   "outputs": [
    {
     "data": {
      "text/plain": [
       "'rov tihskin si e'"
      ]
     },
     "execution_count": 48,
     "metadata": {},
     "output_type": "execute_result"
    }
   ],
   "source": [
    "a[-5:5:-1]"
   ]
  },
  {
   "cell_type": "code",
   "execution_count": 49,
   "id": "f930ad21",
   "metadata": {},
   "outputs": [
    {
     "data": {
      "text/plain": [
       "''"
      ]
     },
     "execution_count": 49,
     "metadata": {},
     "output_type": "execute_result"
    }
   ],
   "source": [
    "a[-2:-10]"
   ]
  },
  {
   "cell_type": "code",
   "execution_count": 50,
   "id": "be935c7e",
   "metadata": {},
   "outputs": [
    {
     "data": {
      "text/plain": [
       "'..arov t'"
      ]
     },
     "execution_count": 50,
     "metadata": {},
     "output_type": "execute_result"
    }
   ],
   "source": [
    "a[-2:-10:-1]"
   ]
  },
  {
   "cell_type": "code",
   "execution_count": 51,
   "id": "79c69858",
   "metadata": {},
   "outputs": [
    {
     "data": {
      "text/plain": [
       "'VoraVoraVora'"
      ]
     },
     "execution_count": 51,
     "metadata": {},
     "output_type": "execute_result"
    }
   ],
   "source": [
    "\"Vora\"*3"
   ]
  },
  {
   "cell_type": "code",
   "execution_count": 52,
   "id": "09976c91",
   "metadata": {},
   "outputs": [
    {
     "ename": "TypeError",
     "evalue": "unsupported operand type(s) for ** or pow(): 'str' and 'int'",
     "output_type": "error",
     "traceback": [
      "\u001b[1;31m---------------------------------------------------------------------------\u001b[0m",
      "\u001b[1;31mTypeError\u001b[0m                                 Traceback (most recent call last)",
      "\u001b[1;32mC:\\Users\\NIKSHI~1.VOR\\AppData\\Local\\Temp/ipykernel_19300/976764804.py\u001b[0m in \u001b[0;36m<module>\u001b[1;34m\u001b[0m\n\u001b[1;32m----> 1\u001b[1;33m \u001b[1;34m\"Vora\"\u001b[0m\u001b[1;33m**\u001b[0m\u001b[1;36m3\u001b[0m\u001b[1;33m\u001b[0m\u001b[1;33m\u001b[0m\u001b[0m\n\u001b[0m",
      "\u001b[1;31mTypeError\u001b[0m: unsupported operand type(s) for ** or pow(): 'str' and 'int'"
     ]
    }
   ],
   "source": [
    "\"Vora\"**3"
   ]
  },
  {
   "cell_type": "code",
   "execution_count": 53,
   "id": "d4d2b79f",
   "metadata": {},
   "outputs": [
    {
     "data": {
      "text/plain": [
       "'Nikshit Vora'"
      ]
     },
     "execution_count": 53,
     "metadata": {},
     "output_type": "execute_result"
    }
   ],
   "source": [
    "\"Nikshit\" + \" Vora\""
   ]
  },
  {
   "cell_type": "code",
   "execution_count": 54,
   "id": "8ad806a7",
   "metadata": {},
   "outputs": [
    {
     "data": {
      "text/plain": [
       "26"
      ]
     },
     "execution_count": 54,
     "metadata": {},
     "output_type": "execute_result"
    }
   ],
   "source": [
    "len(a)"
   ]
  },
  {
   "cell_type": "code",
   "execution_count": 55,
   "id": "9b75a9ab",
   "metadata": {},
   "outputs": [
    {
     "data": {
      "text/plain": [
       "18"
      ]
     },
     "execution_count": 55,
     "metadata": {},
     "output_type": "execute_result"
    }
   ],
   "source": [
    "len(\"Nikshit Vora...!!!\")"
   ]
  },
  {
   "cell_type": "code",
   "execution_count": 57,
   "id": "b1ea36c3",
   "metadata": {},
   "outputs": [
    {
     "data": {
      "text/plain": [
       "4"
      ]
     },
     "execution_count": 57,
     "metadata": {},
     "output_type": "execute_result"
    }
   ],
   "source": [
    "a.find(\"a\")"
   ]
  },
  {
   "cell_type": "code",
   "execution_count": 58,
   "id": "8f4a0ca7",
   "metadata": {},
   "outputs": [
    {
     "data": {
      "text/plain": [
       "'my name is nikshit vora...'"
      ]
     },
     "execution_count": 58,
     "metadata": {},
     "output_type": "execute_result"
    }
   ],
   "source": [
    "a"
   ]
  },
  {
   "cell_type": "code",
   "execution_count": 59,
   "id": "e5002d82",
   "metadata": {},
   "outputs": [
    {
     "data": {
      "text/plain": [
       "8"
      ]
     },
     "execution_count": 59,
     "metadata": {},
     "output_type": "execute_result"
    }
   ],
   "source": [
    "a.find(\"i\")"
   ]
  },
  {
   "cell_type": "code",
   "execution_count": 60,
   "id": "db9339e0",
   "metadata": {},
   "outputs": [
    {
     "ename": "TypeError",
     "evalue": "'int' object is not subscriptable",
     "output_type": "error",
     "traceback": [
      "\u001b[1;31m---------------------------------------------------------------------------\u001b[0m",
      "\u001b[1;31mTypeError\u001b[0m                                 Traceback (most recent call last)",
      "\u001b[1;32mC:\\Users\\NIKSHI~1.VOR\\AppData\\Local\\Temp/ipykernel_19300/258460171.py\u001b[0m in \u001b[0;36m<module>\u001b[1;34m\u001b[0m\n\u001b[1;32m----> 1\u001b[1;33m \u001b[0ma\u001b[0m\u001b[1;33m.\u001b[0m\u001b[0mfind\u001b[0m\u001b[1;33m(\u001b[0m\u001b[1;34m\"i\"\u001b[0m\u001b[1;33m)\u001b[0m\u001b[1;33m[\u001b[0m\u001b[1;36m1\u001b[0m\u001b[1;33m]\u001b[0m\u001b[1;33m\u001b[0m\u001b[1;33m\u001b[0m\u001b[0m\n\u001b[0m",
      "\u001b[1;31mTypeError\u001b[0m: 'int' object is not subscriptable"
     ]
    }
   ],
   "source": [
    "a.find(\"i\")[1]"
   ]
  },
  {
   "cell_type": "code",
   "execution_count": 61,
   "id": "018ce562",
   "metadata": {},
   "outputs": [
    {
     "data": {
      "text/plain": [
       "-1"
      ]
     },
     "execution_count": 61,
     "metadata": {},
     "output_type": "execute_result"
    }
   ],
   "source": [
    "a.find(\"shhhhhh\")"
   ]
  },
  {
   "cell_type": "code",
   "execution_count": 62,
   "id": "b5e8b4d4",
   "metadata": {},
   "outputs": [
    {
     "data": {
      "text/plain": [
       "-1"
      ]
     },
     "execution_count": 62,
     "metadata": {},
     "output_type": "execute_result"
    }
   ],
   "source": [
    "a.find(\"Ni\")"
   ]
  },
  {
   "cell_type": "code",
   "execution_count": 63,
   "id": "c8bc3372",
   "metadata": {},
   "outputs": [
    {
     "data": {
      "text/plain": [
       "11"
      ]
     },
     "execution_count": 63,
     "metadata": {},
     "output_type": "execute_result"
    }
   ],
   "source": [
    "a.find(\"ni\")"
   ]
  },
  {
   "cell_type": "code",
   "execution_count": 64,
   "id": "a728251d",
   "metadata": {},
   "outputs": [
    {
     "data": {
      "text/plain": [
       "11"
      ]
     },
     "execution_count": 64,
     "metadata": {},
     "output_type": "execute_result"
    }
   ],
   "source": [
    "a.find(\"nik\")"
   ]
  },
  {
   "cell_type": "code",
   "execution_count": 65,
   "id": "1cfd417e",
   "metadata": {},
   "outputs": [
    {
     "data": {
      "text/plain": [
       "3"
      ]
     },
     "execution_count": 65,
     "metadata": {},
     "output_type": "execute_result"
    }
   ],
   "source": [
    "a.count(\"i\")"
   ]
  },
  {
   "cell_type": "code",
   "execution_count": 66,
   "id": "cc4e18b8",
   "metadata": {},
   "outputs": [
    {
     "data": {
      "text/plain": [
       "'my name is nikshit vora...'"
      ]
     },
     "execution_count": 66,
     "metadata": {},
     "output_type": "execute_result"
    }
   ],
   "source": [
    "a"
   ]
  },
  {
   "cell_type": "code",
   "execution_count": 67,
   "id": "928d0099",
   "metadata": {},
   "outputs": [
    {
     "data": {
      "text/plain": [
       "['my', 'name', 'is', 'nikshit', 'vora...']"
      ]
     },
     "execution_count": 67,
     "metadata": {},
     "output_type": "execute_result"
    }
   ],
   "source": [
    "a.split()"
   ]
  },
  {
   "cell_type": "code",
   "execution_count": 68,
   "id": "3ba4886e",
   "metadata": {},
   "outputs": [],
   "source": [
    "l = a.split()"
   ]
  },
  {
   "cell_type": "code",
   "execution_count": 69,
   "id": "97414e0b",
   "metadata": {},
   "outputs": [
    {
     "data": {
      "text/plain": [
       "['my', 'name', 'is', 'nikshit', 'vora...']"
      ]
     },
     "execution_count": 69,
     "metadata": {},
     "output_type": "execute_result"
    }
   ],
   "source": [
    "l"
   ]
  },
  {
   "cell_type": "code",
   "execution_count": 70,
   "id": "8d571547",
   "metadata": {},
   "outputs": [
    {
     "data": {
      "text/plain": [
       "'my'"
      ]
     },
     "execution_count": 70,
     "metadata": {},
     "output_type": "execute_result"
    }
   ],
   "source": [
    "l[0]"
   ]
  },
  {
   "cell_type": "code",
   "execution_count": 71,
   "id": "b47d1ed7",
   "metadata": {},
   "outputs": [
    {
     "data": {
      "text/plain": [
       "'name'"
      ]
     },
     "execution_count": 71,
     "metadata": {},
     "output_type": "execute_result"
    }
   ],
   "source": [
    "l[1]"
   ]
  },
  {
   "cell_type": "code",
   "execution_count": 72,
   "id": "6010844e",
   "metadata": {},
   "outputs": [
    {
     "data": {
      "text/plain": [
       "['my', 'name']"
      ]
     },
     "execution_count": 72,
     "metadata": {},
     "output_type": "execute_result"
    }
   ],
   "source": [
    "l[:2]"
   ]
  },
  {
   "cell_type": "code",
   "execution_count": 73,
   "id": "3d626c0a",
   "metadata": {},
   "outputs": [
    {
     "data": {
      "text/plain": [
       "['my name ', 's n', 'ksh', 't vora...']"
      ]
     },
     "execution_count": 73,
     "metadata": {},
     "output_type": "execute_result"
    }
   ],
   "source": [
    "a.split(\"i\")"
   ]
  },
  {
   "cell_type": "code",
   "execution_count": 74,
   "id": "1a36fc59",
   "metadata": {},
   "outputs": [
    {
     "data": {
      "text/plain": [
       "'MY NAME IS NIKSHIT VORA...'"
      ]
     },
     "execution_count": 74,
     "metadata": {},
     "output_type": "execute_result"
    }
   ],
   "source": [
    "a.upper()"
   ]
  },
  {
   "cell_type": "code",
   "execution_count": 75,
   "id": "61508dc7",
   "metadata": {},
   "outputs": [
    {
     "data": {
      "text/plain": [
       "'my name is nikshit vora...'"
      ]
     },
     "execution_count": 75,
     "metadata": {},
     "output_type": "execute_result"
    }
   ],
   "source": [
    "a.lower()"
   ]
  },
  {
   "cell_type": "code",
   "execution_count": 76,
   "id": "15755cef",
   "metadata": {},
   "outputs": [],
   "source": [
    "a = \"Nikshit Vora\""
   ]
  },
  {
   "cell_type": "code",
   "execution_count": 77,
   "id": "56cacb6d",
   "metadata": {},
   "outputs": [
    {
     "data": {
      "text/plain": [
       "'nIKSHIT vORA'"
      ]
     },
     "execution_count": 77,
     "metadata": {},
     "output_type": "execute_result"
    }
   ],
   "source": [
    "a.swapcase()"
   ]
  },
  {
   "cell_type": "code",
   "execution_count": 78,
   "id": "7657f521",
   "metadata": {},
   "outputs": [
    {
     "data": {
      "text/plain": [
       "'Nikshit Vora'"
      ]
     },
     "execution_count": 78,
     "metadata": {},
     "output_type": "execute_result"
    }
   ],
   "source": [
    "a.title()"
   ]
  },
  {
   "cell_type": "code",
   "execution_count": 79,
   "id": "a59af45e",
   "metadata": {},
   "outputs": [
    {
     "data": {
      "text/plain": [
       "'Nikshit vora'"
      ]
     },
     "execution_count": 79,
     "metadata": {},
     "output_type": "execute_result"
    }
   ],
   "source": [
    "a.capitalize()"
   ]
  },
  {
   "cell_type": "code",
   "execution_count": 80,
   "id": "67f993a7",
   "metadata": {},
   "outputs": [],
   "source": [
    "b= \"Nikshit\"\n",
    "c= \"Vora\""
   ]
  },
  {
   "cell_type": "code",
   "execution_count": 81,
   "id": "1b556184",
   "metadata": {},
   "outputs": [
    {
     "data": {
      "text/plain": [
       "'VNikshitoNikshitrNikshita'"
      ]
     },
     "execution_count": 81,
     "metadata": {},
     "output_type": "execute_result"
    }
   ],
   "source": [
    "b.join(c)"
   ]
  },
  {
   "cell_type": "code",
   "execution_count": 82,
   "id": "f3cb71ce",
   "metadata": {},
   "outputs": [
    {
     "data": {
      "text/plain": [
       "'N i k s h i t'"
      ]
     },
     "execution_count": 82,
     "metadata": {},
     "output_type": "execute_result"
    }
   ],
   "source": [
    "\" \".join(b)"
   ]
  },
  {
   "cell_type": "code",
   "execution_count": 83,
   "id": "8762a155",
   "metadata": {},
   "outputs": [
    {
     "data": {
      "text/plain": [
       "'V o r a'"
      ]
     },
     "execution_count": 83,
     "metadata": {},
     "output_type": "execute_result"
    }
   ],
   "source": [
    "\" \".join(c)"
   ]
  },
  {
   "cell_type": "code",
   "execution_count": 85,
   "id": "4d6d85c6",
   "metadata": {},
   "outputs": [
    {
     "name": "stdout",
     "output_type": "stream",
     "text": [
      "<reversed object at 0x000001EFC95EDAC0>\n"
     ]
    }
   ],
   "source": [
    "x = reversed(\"Nikshit\")\n",
    "print(x)"
   ]
  },
  {
   "cell_type": "code",
   "execution_count": 88,
   "id": "c522001f",
   "metadata": {},
   "outputs": [
    {
     "name": "stdout",
     "output_type": "stream",
     "text": [
      "t i h s k i N "
     ]
    }
   ],
   "source": [
    "for i in reversed(\"Nikshit\"):\n",
    "    print(i,end=\" \")"
   ]
  },
  {
   "cell_type": "code",
   "execution_count": 89,
   "id": "0999673d",
   "metadata": {},
   "outputs": [],
   "source": [
    "s = \" Nikshit \""
   ]
  },
  {
   "cell_type": "code",
   "execution_count": 90,
   "id": "b3027833",
   "metadata": {},
   "outputs": [
    {
     "data": {
      "text/plain": [
       "' Nikshit '"
      ]
     },
     "execution_count": 90,
     "metadata": {},
     "output_type": "execute_result"
    }
   ],
   "source": [
    "s\n"
   ]
  },
  {
   "cell_type": "code",
   "execution_count": 91,
   "id": "5446456e",
   "metadata": {},
   "outputs": [
    {
     "data": {
      "text/plain": [
       "' Nikshit'"
      ]
     },
     "execution_count": 91,
     "metadata": {},
     "output_type": "execute_result"
    }
   ],
   "source": [
    "s.rstrip()"
   ]
  },
  {
   "cell_type": "code",
   "execution_count": 92,
   "id": "51ff4ad3",
   "metadata": {},
   "outputs": [
    {
     "data": {
      "text/plain": [
       "'Nikshit '"
      ]
     },
     "execution_count": 92,
     "metadata": {},
     "output_type": "execute_result"
    }
   ],
   "source": [
    "s.lstrip()"
   ]
  },
  {
   "cell_type": "code",
   "execution_count": 93,
   "id": "2fef8b39",
   "metadata": {},
   "outputs": [
    {
     "data": {
      "text/plain": [
       "'Nikshit'"
      ]
     },
     "execution_count": 93,
     "metadata": {},
     "output_type": "execute_result"
    }
   ],
   "source": [
    "s.strip()"
   ]
  },
  {
   "cell_type": "code",
   "execution_count": 94,
   "id": "d4ef2515",
   "metadata": {},
   "outputs": [],
   "source": [
    "s= \"Nikshit\""
   ]
  },
  {
   "cell_type": "code",
   "execution_count": 95,
   "id": "521e946b",
   "metadata": {},
   "outputs": [
    {
     "data": {
      "text/plain": [
       "'Dixitikshit'"
      ]
     },
     "execution_count": 95,
     "metadata": {},
     "output_type": "execute_result"
    }
   ],
   "source": [
    "s.replace(\"N\",\"Dixit\")"
   ]
  },
  {
   "cell_type": "code",
   "execution_count": 96,
   "id": "43cb8f8d",
   "metadata": {},
   "outputs": [
    {
     "data": {
      "text/plain": [
       "'Nikshit'"
      ]
     },
     "execution_count": 96,
     "metadata": {},
     "output_type": "execute_result"
    }
   ],
   "source": [
    "s.replace(\"v\",\"JUI\")"
   ]
  },
  {
   "cell_type": "code",
   "execution_count": 97,
   "id": "45aa0ce9",
   "metadata": {},
   "outputs": [
    {
     "data": {
      "text/plain": [
       "'Nikshit Vora'"
      ]
     },
     "execution_count": 97,
     "metadata": {},
     "output_type": "execute_result"
    }
   ],
   "source": [
    "\"Nikshit\\tVora\".expandtabs()"
   ]
  },
  {
   "cell_type": "code",
   "execution_count": 98,
   "id": "d81ed128",
   "metadata": {},
   "outputs": [],
   "source": [
    "s = \"Nikshit\""
   ]
  },
  {
   "cell_type": "code",
   "execution_count": 99,
   "id": "a5420c2e",
   "metadata": {},
   "outputs": [
    {
     "ename": "TypeError",
     "evalue": "The fill character must be exactly one character long",
     "output_type": "error",
     "traceback": [
      "\u001b[1;31m---------------------------------------------------------------------------\u001b[0m",
      "\u001b[1;31mTypeError\u001b[0m                                 Traceback (most recent call last)",
      "\u001b[1;32mC:\\Users\\NIKSHI~1.VOR\\AppData\\Local\\Temp/ipykernel_19300/2802902689.py\u001b[0m in \u001b[0;36m<module>\u001b[1;34m\u001b[0m\n\u001b[1;32m----> 1\u001b[1;33m \u001b[0ms\u001b[0m\u001b[1;33m.\u001b[0m\u001b[0mcenter\u001b[0m\u001b[1;33m(\u001b[0m\u001b[1;36m40\u001b[0m\u001b[1;33m,\u001b[0m\u001b[1;34m\"Vora\"\u001b[0m\u001b[1;33m)\u001b[0m\u001b[1;33m\u001b[0m\u001b[1;33m\u001b[0m\u001b[0m\n\u001b[0m",
      "\u001b[1;31mTypeError\u001b[0m: The fill character must be exactly one character long"
     ]
    }
   ],
   "source": [
    "s.center(40,\"Vora\")"
   ]
  },
  {
   "cell_type": "code",
   "execution_count": 100,
   "id": "74a3fc35",
   "metadata": {},
   "outputs": [
    {
     "data": {
      "text/plain": [
       "'################Nikshit#################'"
      ]
     },
     "execution_count": 100,
     "metadata": {},
     "output_type": "execute_result"
    }
   ],
   "source": [
    "s.center(40,\"#\")"
   ]
  },
  {
   "cell_type": "code",
   "execution_count": 101,
   "id": "3ea1d250",
   "metadata": {},
   "outputs": [
    {
     "data": {
      "text/plain": [
       "'%%%%%%%%%%%%%%%%Nikshit%%%%%%%%%%%%%%%%%'"
      ]
     },
     "execution_count": 101,
     "metadata": {},
     "output_type": "execute_result"
    }
   ],
   "source": [
    "s.center(40,\"%\")"
   ]
  },
  {
   "cell_type": "code",
   "execution_count": 102,
   "id": "e2da187f",
   "metadata": {},
   "outputs": [
    {
     "data": {
      "text/plain": [
       "'VVVVVVVVVVVVVVVVNikshitVVVVVVVVVVVVVVVVV'"
      ]
     },
     "execution_count": 102,
     "metadata": {},
     "output_type": "execute_result"
    }
   ],
   "source": [
    "s.center(40,\"V\")"
   ]
  },
  {
   "cell_type": "code",
   "execution_count": 103,
   "id": "fe73ddef",
   "metadata": {},
   "outputs": [
    {
     "data": {
      "text/plain": [
       "False"
      ]
     },
     "execution_count": 103,
     "metadata": {},
     "output_type": "execute_result"
    }
   ],
   "source": [
    "s.isupper()"
   ]
  },
  {
   "cell_type": "code",
   "execution_count": 104,
   "id": "02885cba",
   "metadata": {},
   "outputs": [
    {
     "data": {
      "text/plain": [
       "False"
      ]
     },
     "execution_count": 104,
     "metadata": {},
     "output_type": "execute_result"
    }
   ],
   "source": [
    "s.islower()"
   ]
  },
  {
   "cell_type": "code",
   "execution_count": 105,
   "id": "c79b4aea",
   "metadata": {},
   "outputs": [
    {
     "data": {
      "text/plain": [
       "True"
      ]
     },
     "execution_count": 105,
     "metadata": {},
     "output_type": "execute_result"
    }
   ],
   "source": [
    "s.istitle()"
   ]
  },
  {
   "cell_type": "code",
   "execution_count": 106,
   "id": "9ea0af58",
   "metadata": {},
   "outputs": [
    {
     "ename": "AttributeError",
     "evalue": "'str' object has no attribute 'iscapitalize'",
     "output_type": "error",
     "traceback": [
      "\u001b[1;31m---------------------------------------------------------------------------\u001b[0m",
      "\u001b[1;31mAttributeError\u001b[0m                            Traceback (most recent call last)",
      "\u001b[1;32mC:\\Users\\NIKSHI~1.VOR\\AppData\\Local\\Temp/ipykernel_19300/4058203279.py\u001b[0m in \u001b[0;36m<module>\u001b[1;34m\u001b[0m\n\u001b[1;32m----> 1\u001b[1;33m \u001b[0ms\u001b[0m\u001b[1;33m.\u001b[0m\u001b[0miscapitalize\u001b[0m\u001b[1;33m(\u001b[0m\u001b[1;33m)\u001b[0m\u001b[1;33m\u001b[0m\u001b[1;33m\u001b[0m\u001b[0m\n\u001b[0m",
      "\u001b[1;31mAttributeError\u001b[0m: 'str' object has no attribute 'iscapitalize'"
     ]
    }
   ],
   "source": [
    "s.iscapitalize()"
   ]
  },
  {
   "cell_type": "code",
   "execution_count": 107,
   "id": "7bb9411e",
   "metadata": {},
   "outputs": [
    {
     "data": {
      "text/plain": [
       "False"
      ]
     },
     "execution_count": 107,
     "metadata": {},
     "output_type": "execute_result"
    }
   ],
   "source": [
    "s.isspace()"
   ]
  },
  {
   "cell_type": "code",
   "execution_count": 108,
   "id": "5531118e",
   "metadata": {},
   "outputs": [],
   "source": [
    "p = \"     nik\""
   ]
  },
  {
   "cell_type": "code",
   "execution_count": 109,
   "id": "f9d16ffb",
   "metadata": {},
   "outputs": [
    {
     "data": {
      "text/plain": [
       "False"
      ]
     },
     "execution_count": 109,
     "metadata": {},
     "output_type": "execute_result"
    }
   ],
   "source": [
    "p.isspace()"
   ]
  },
  {
   "cell_type": "code",
   "execution_count": 110,
   "id": "18f668fc",
   "metadata": {},
   "outputs": [],
   "source": [
    "p = \"    \""
   ]
  },
  {
   "cell_type": "code",
   "execution_count": 111,
   "id": "c5f17287",
   "metadata": {},
   "outputs": [
    {
     "data": {
      "text/plain": [
       "True"
      ]
     },
     "execution_count": 111,
     "metadata": {},
     "output_type": "execute_result"
    }
   ],
   "source": [
    "p.isspace()"
   ]
  },
  {
   "cell_type": "code",
   "execution_count": 112,
   "id": "5e6c2475",
   "metadata": {},
   "outputs": [],
   "source": [
    "p =\"324\""
   ]
  },
  {
   "cell_type": "code",
   "execution_count": 113,
   "id": "4a51331d",
   "metadata": {},
   "outputs": [
    {
     "data": {
      "text/plain": [
       "True"
      ]
     },
     "execution_count": 113,
     "metadata": {},
     "output_type": "execute_result"
    }
   ],
   "source": [
    "p.isdigit()"
   ]
  },
  {
   "cell_type": "code",
   "execution_count": 114,
   "id": "c0091b37",
   "metadata": {},
   "outputs": [],
   "source": [
    "p = \"Nij123\""
   ]
  },
  {
   "cell_type": "code",
   "execution_count": 115,
   "id": "3659e0ef",
   "metadata": {},
   "outputs": [
    {
     "data": {
      "text/plain": [
       "False"
      ]
     },
     "execution_count": 115,
     "metadata": {},
     "output_type": "execute_result"
    }
   ],
   "source": [
    "p.isdigit()"
   ]
  },
  {
   "cell_type": "code",
   "execution_count": 116,
   "id": "c53d6931",
   "metadata": {},
   "outputs": [
    {
     "data": {
      "text/plain": [
       "False"
      ]
     },
     "execution_count": 116,
     "metadata": {},
     "output_type": "execute_result"
    }
   ],
   "source": [
    "p.endswith(\"k\")"
   ]
  },
  {
   "cell_type": "code",
   "execution_count": 117,
   "id": "609728f1",
   "metadata": {},
   "outputs": [
    {
     "data": {
      "text/plain": [
       "True"
      ]
     },
     "execution_count": 117,
     "metadata": {},
     "output_type": "execute_result"
    }
   ],
   "source": [
    "p.endswith(\"3\")"
   ]
  },
  {
   "cell_type": "code",
   "execution_count": 118,
   "id": "7090b53e",
   "metadata": {},
   "outputs": [
    {
     "data": {
      "text/plain": [
       "False"
      ]
     },
     "execution_count": 118,
     "metadata": {},
     "output_type": "execute_result"
    }
   ],
   "source": [
    "p.startswith(\"l\")"
   ]
  },
  {
   "cell_type": "code",
   "execution_count": 119,
   "id": "2eaf4fe1",
   "metadata": {},
   "outputs": [
    {
     "data": {
      "text/plain": [
       "True"
      ]
     },
     "execution_count": 119,
     "metadata": {},
     "output_type": "execute_result"
    }
   ],
   "source": [
    "p.startswith(\"N\")"
   ]
  },
  {
   "cell_type": "code",
   "execution_count": 120,
   "id": "30480005",
   "metadata": {},
   "outputs": [
    {
     "data": {
      "text/plain": [
       "True"
      ]
     },
     "execution_count": 120,
     "metadata": {},
     "output_type": "execute_result"
    }
   ],
   "source": [
    "p.istitle()"
   ]
  },
  {
   "cell_type": "code",
   "execution_count": 121,
   "id": "da776645",
   "metadata": {},
   "outputs": [
    {
     "data": {
      "text/plain": [
       "b'Nij123'"
      ]
     },
     "execution_count": 121,
     "metadata": {},
     "output_type": "execute_result"
    }
   ],
   "source": [
    "p.encode()"
   ]
  },
  {
   "cell_type": "code",
   "execution_count": 122,
   "id": "a9678fe9",
   "metadata": {},
   "outputs": [],
   "source": [
    "l = [1,2.5,2+3j,\"Nikshit\"]"
   ]
  },
  {
   "cell_type": "code",
   "execution_count": 124,
   "id": "ebadf983",
   "metadata": {},
   "outputs": [
    {
     "name": "stdout",
     "output_type": "stream",
     "text": [
      "1,2.5,(2+3j),Nikshit,"
     ]
    }
   ],
   "source": [
    "for i in l:\n",
    "    print(i,end=\",\")"
   ]
  },
  {
   "cell_type": "code",
   "execution_count": 125,
   "id": "de3418c8",
   "metadata": {},
   "outputs": [
    {
     "data": {
      "text/plain": [
       "list"
      ]
     },
     "execution_count": 125,
     "metadata": {},
     "output_type": "execute_result"
    }
   ],
   "source": [
    "type(l)"
   ]
  },
  {
   "cell_type": "code",
   "execution_count": 126,
   "id": "52b4fa07",
   "metadata": {},
   "outputs": [
    {
     "data": {
      "text/plain": [
       "1"
      ]
     },
     "execution_count": 126,
     "metadata": {},
     "output_type": "execute_result"
    }
   ],
   "source": [
    "l[0]"
   ]
  },
  {
   "cell_type": "code",
   "execution_count": 127,
   "id": "6c186cd9",
   "metadata": {},
   "outputs": [
    {
     "data": {
      "text/plain": [
       "'Nikshit'"
      ]
     },
     "execution_count": 127,
     "metadata": {},
     "output_type": "execute_result"
    }
   ],
   "source": [
    "l[-1]"
   ]
  },
  {
   "cell_type": "code",
   "execution_count": 128,
   "id": "2d7686aa",
   "metadata": {},
   "outputs": [
    {
     "data": {
      "text/plain": [
       "[1, 2.5, (2+3j), 'Nikshit']"
      ]
     },
     "execution_count": 128,
     "metadata": {},
     "output_type": "execute_result"
    }
   ],
   "source": [
    "l[0:4]"
   ]
  },
  {
   "cell_type": "code",
   "execution_count": 129,
   "id": "939c709c",
   "metadata": {},
   "outputs": [
    {
     "data": {
      "text/plain": [
       "['Nikshit', (2+3j), 2.5, 1]"
      ]
     },
     "execution_count": 129,
     "metadata": {},
     "output_type": "execute_result"
    }
   ],
   "source": [
    "l[::-1]"
   ]
  },
  {
   "cell_type": "code",
   "execution_count": 130,
   "id": "ef8293af",
   "metadata": {},
   "outputs": [
    {
     "data": {
      "text/plain": [
       "1"
      ]
     },
     "execution_count": 130,
     "metadata": {},
     "output_type": "execute_result"
    }
   ],
   "source": [
    "l[0]"
   ]
  },
  {
   "cell_type": "code",
   "execution_count": 131,
   "id": "d75da439",
   "metadata": {},
   "outputs": [
    {
     "data": {
      "text/plain": [
       "'Nikshit'"
      ]
     },
     "execution_count": 131,
     "metadata": {},
     "output_type": "execute_result"
    }
   ],
   "source": [
    "l[3]"
   ]
  },
  {
   "cell_type": "code",
   "execution_count": 132,
   "id": "03076446",
   "metadata": {},
   "outputs": [
    {
     "data": {
      "text/plain": [
       "str"
      ]
     },
     "execution_count": 132,
     "metadata": {},
     "output_type": "execute_result"
    }
   ],
   "source": [
    "type(l[3])"
   ]
  },
  {
   "cell_type": "code",
   "execution_count": 133,
   "id": "153ab169",
   "metadata": {},
   "outputs": [
    {
     "data": {
      "text/plain": [
       "'tihskiN'"
      ]
     },
     "execution_count": 133,
     "metadata": {},
     "output_type": "execute_result"
    }
   ],
   "source": [
    "l[3][::-1]"
   ]
  },
  {
   "cell_type": "code",
   "execution_count": 134,
   "id": "b409eed4",
   "metadata": {},
   "outputs": [],
   "source": [
    "l1 = [1,2,3]\n",
    "l2 = [4,5,6,7]"
   ]
  },
  {
   "cell_type": "code",
   "execution_count": 135,
   "id": "ca4b012d",
   "metadata": {},
   "outputs": [
    {
     "data": {
      "text/plain": [
       "[1, 2, 3, 4, 5, 6, 7]"
      ]
     },
     "execution_count": 135,
     "metadata": {},
     "output_type": "execute_result"
    }
   ],
   "source": [
    "l1+l2"
   ]
  },
  {
   "cell_type": "code",
   "execution_count": 136,
   "id": "a0a2acfd",
   "metadata": {},
   "outputs": [
    {
     "data": {
      "text/plain": [
       "[1, 2, 3, 1, 2, 3, 1, 2, 3, 1, 2, 3]"
      ]
     },
     "execution_count": 136,
     "metadata": {},
     "output_type": "execute_result"
    }
   ],
   "source": [
    "l1*4"
   ]
  },
  {
   "cell_type": "code",
   "execution_count": 137,
   "id": "8042647e",
   "metadata": {},
   "outputs": [
    {
     "data": {
      "text/plain": [
       "[1,\n",
       " 2,\n",
       " 3,\n",
       " 4,\n",
       " 5,\n",
       " 6,\n",
       " 7,\n",
       " 1,\n",
       " 2,\n",
       " 3,\n",
       " 4,\n",
       " 5,\n",
       " 6,\n",
       " 7,\n",
       " 1,\n",
       " 2,\n",
       " 3,\n",
       " 4,\n",
       " 5,\n",
       " 6,\n",
       " 7,\n",
       " 1,\n",
       " 2,\n",
       " 3,\n",
       " 4,\n",
       " 5,\n",
       " 6,\n",
       " 7]"
      ]
     },
     "execution_count": 137,
     "metadata": {},
     "output_type": "execute_result"
    }
   ],
   "source": [
    "(l1+l2)*4"
   ]
  },
  {
   "cell_type": "code",
   "execution_count": 138,
   "id": "0e6f73f2",
   "metadata": {},
   "outputs": [],
   "source": [
    "l1[0]=\"Nikshit\""
   ]
  },
  {
   "cell_type": "code",
   "execution_count": 139,
   "id": "eef80ce5",
   "metadata": {},
   "outputs": [
    {
     "data": {
      "text/plain": [
       "['Nikshit', 2, 3]"
      ]
     },
     "execution_count": 139,
     "metadata": {},
     "output_type": "execute_result"
    }
   ],
   "source": [
    "l1"
   ]
  },
  {
   "cell_type": "code",
   "execution_count": 140,
   "id": "94b6e28b",
   "metadata": {},
   "outputs": [
    {
     "ename": "TypeError",
     "evalue": "'str' object does not support item assignment",
     "output_type": "error",
     "traceback": [
      "\u001b[1;31m---------------------------------------------------------------------------\u001b[0m",
      "\u001b[1;31mTypeError\u001b[0m                                 Traceback (most recent call last)",
      "\u001b[1;32mC:\\Users\\NIKSHI~1.VOR\\AppData\\Local\\Temp/ipykernel_19300/67771038.py\u001b[0m in \u001b[0;36m<module>\u001b[1;34m\u001b[0m\n\u001b[1;32m----> 1\u001b[1;33m \u001b[0ml1\u001b[0m\u001b[1;33m[\u001b[0m\u001b[1;36m0\u001b[0m\u001b[1;33m]\u001b[0m\u001b[1;33m[\u001b[0m\u001b[1;36m0\u001b[0m\u001b[1;33m]\u001b[0m \u001b[1;33m=\u001b[0m \u001b[1;34m\"D\"\u001b[0m\u001b[1;33m\u001b[0m\u001b[1;33m\u001b[0m\u001b[0m\n\u001b[0m",
      "\u001b[1;31mTypeError\u001b[0m: 'str' object does not support item assignment"
     ]
    }
   ],
   "source": [
    "l1[0][0] = \"D\""
   ]
  },
  {
   "cell_type": "code",
   "execution_count": 141,
   "id": "69073798",
   "metadata": {},
   "outputs": [
    {
     "data": {
      "text/plain": [
       "'N'"
      ]
     },
     "execution_count": 141,
     "metadata": {},
     "output_type": "execute_result"
    }
   ],
   "source": [
    "l1[0][0]"
   ]
  },
  {
   "cell_type": "code",
   "execution_count": 142,
   "id": "8081933c",
   "metadata": {},
   "outputs": [],
   "source": [
    "s = \"Nikshit\""
   ]
  },
  {
   "cell_type": "code",
   "execution_count": 143,
   "id": "74698646",
   "metadata": {},
   "outputs": [
    {
     "data": {
      "text/plain": [
       "'Aikshit'"
      ]
     },
     "execution_count": 143,
     "metadata": {},
     "output_type": "execute_result"
    }
   ],
   "source": [
    "s.replace(\"N\",\"A\")"
   ]
  },
  {
   "cell_type": "code",
   "execution_count": 144,
   "id": "da19c5ba",
   "metadata": {},
   "outputs": [
    {
     "data": {
      "text/plain": [
       "'Nikshit'"
      ]
     },
     "execution_count": 144,
     "metadata": {},
     "output_type": "execute_result"
    }
   ],
   "source": [
    "s"
   ]
  },
  {
   "cell_type": "code",
   "execution_count": 145,
   "id": "2385f4b7",
   "metadata": {},
   "outputs": [
    {
     "data": {
      "text/plain": [
       "'N'"
      ]
     },
     "execution_count": 145,
     "metadata": {},
     "output_type": "execute_result"
    }
   ],
   "source": [
    "s[0]"
   ]
  },
  {
   "cell_type": "code",
   "execution_count": 146,
   "id": "dce08295",
   "metadata": {},
   "outputs": [
    {
     "data": {
      "text/plain": [
       "3"
      ]
     },
     "execution_count": 146,
     "metadata": {},
     "output_type": "execute_result"
    }
   ],
   "source": [
    "len(l1)"
   ]
  },
  {
   "cell_type": "code",
   "execution_count": 147,
   "id": "f5276676",
   "metadata": {},
   "outputs": [
    {
     "data": {
      "text/plain": [
       "False"
      ]
     },
     "execution_count": 147,
     "metadata": {},
     "output_type": "execute_result"
    }
   ],
   "source": [
    "\"n\" in l1"
   ]
  },
  {
   "cell_type": "code",
   "execution_count": 148,
   "id": "a0c87373",
   "metadata": {},
   "outputs": [
    {
     "data": {
      "text/plain": [
       "False"
      ]
     },
     "execution_count": 148,
     "metadata": {},
     "output_type": "execute_result"
    }
   ],
   "source": [
    "1 in l1"
   ]
  },
  {
   "cell_type": "code",
   "execution_count": 149,
   "id": "6f13d52a",
   "metadata": {},
   "outputs": [
    {
     "data": {
      "text/plain": [
       "True"
      ]
     },
     "execution_count": 149,
     "metadata": {},
     "output_type": "execute_result"
    }
   ],
   "source": [
    "2 in l1"
   ]
  },
  {
   "cell_type": "code",
   "execution_count": 150,
   "id": "c889a959",
   "metadata": {},
   "outputs": [
    {
     "data": {
      "text/plain": [
       "['Nikshit', 2, 3]"
      ]
     },
     "execution_count": 150,
     "metadata": {},
     "output_type": "execute_result"
    }
   ],
   "source": [
    "l1"
   ]
  },
  {
   "cell_type": "code",
   "execution_count": 151,
   "id": "db5c7889",
   "metadata": {},
   "outputs": [],
   "source": [
    "l1.append(\"Vora\")"
   ]
  },
  {
   "cell_type": "code",
   "execution_count": 152,
   "id": "f09565e4",
   "metadata": {},
   "outputs": [
    {
     "data": {
      "text/plain": [
       "['Nikshit', 2, 3, 'Vora']"
      ]
     },
     "execution_count": 152,
     "metadata": {},
     "output_type": "execute_result"
    }
   ],
   "source": [
    "l1"
   ]
  },
  {
   "cell_type": "code",
   "execution_count": 153,
   "id": "ae7c290f",
   "metadata": {},
   "outputs": [
    {
     "data": {
      "text/plain": [
       "'Vora'"
      ]
     },
     "execution_count": 153,
     "metadata": {},
     "output_type": "execute_result"
    }
   ],
   "source": [
    "l1.pop()"
   ]
  },
  {
   "cell_type": "code",
   "execution_count": 154,
   "id": "ba8b7167",
   "metadata": {},
   "outputs": [
    {
     "ename": "IndexError",
     "evalue": "pop index out of range",
     "output_type": "error",
     "traceback": [
      "\u001b[1;31m---------------------------------------------------------------------------\u001b[0m",
      "\u001b[1;31mIndexError\u001b[0m                                Traceback (most recent call last)",
      "\u001b[1;32mC:\\Users\\NIKSHI~1.VOR\\AppData\\Local\\Temp/ipykernel_19300/619608321.py\u001b[0m in \u001b[0;36m<module>\u001b[1;34m\u001b[0m\n\u001b[1;32m----> 1\u001b[1;33m \u001b[0ml1\u001b[0m\u001b[1;33m.\u001b[0m\u001b[0mpop\u001b[0m\u001b[1;33m(\u001b[0m\u001b[1;36m3\u001b[0m\u001b[1;33m)\u001b[0m\u001b[1;33m\u001b[0m\u001b[1;33m\u001b[0m\u001b[0m\n\u001b[0m",
      "\u001b[1;31mIndexError\u001b[0m: pop index out of range"
     ]
    }
   ],
   "source": [
    "l1.pop(3)"
   ]
  },
  {
   "cell_type": "code",
   "execution_count": 157,
   "id": "b4965334",
   "metadata": {},
   "outputs": [
    {
     "ename": "IndexError",
     "evalue": "pop index out of range",
     "output_type": "error",
     "traceback": [
      "\u001b[1;31m---------------------------------------------------------------------------\u001b[0m",
      "\u001b[1;31mIndexError\u001b[0m                                Traceback (most recent call last)",
      "\u001b[1;32mC:\\Users\\NIKSHI~1.VOR\\AppData\\Local\\Temp/ipykernel_19300/2644557776.py\u001b[0m in \u001b[0;36m<module>\u001b[1;34m\u001b[0m\n\u001b[1;32m----> 1\u001b[1;33m \u001b[0ml1\u001b[0m\u001b[1;33m.\u001b[0m\u001b[0mpop\u001b[0m\u001b[1;33m(\u001b[0m\u001b[1;36m2\u001b[0m\u001b[1;33m)\u001b[0m\u001b[1;33m\u001b[0m\u001b[1;33m\u001b[0m\u001b[0m\n\u001b[0m",
      "\u001b[1;31mIndexError\u001b[0m: pop index out of range"
     ]
    }
   ],
   "source": [
    "l1.pop(2)"
   ]
  },
  {
   "cell_type": "code",
   "execution_count": 156,
   "id": "ac579cd2",
   "metadata": {},
   "outputs": [
    {
     "data": {
      "text/plain": [
       "['Nikshit', 2]"
      ]
     },
     "execution_count": 156,
     "metadata": {},
     "output_type": "execute_result"
    }
   ],
   "source": [
    "l1"
   ]
  },
  {
   "cell_type": "code",
   "execution_count": 158,
   "id": "e1cca069",
   "metadata": {},
   "outputs": [],
   "source": [
    "l1[0]=\"Vora\""
   ]
  },
  {
   "cell_type": "code",
   "execution_count": 159,
   "id": "b110e7ec",
   "metadata": {},
   "outputs": [
    {
     "data": {
      "text/plain": [
       "['Vora', 2]"
      ]
     },
     "execution_count": 159,
     "metadata": {},
     "output_type": "execute_result"
    }
   ],
   "source": [
    "l1"
   ]
  },
  {
   "cell_type": "code",
   "execution_count": 160,
   "id": "4283d1af",
   "metadata": {},
   "outputs": [],
   "source": [
    "l1.insert(1,\"Nikshit\")"
   ]
  },
  {
   "cell_type": "code",
   "execution_count": 161,
   "id": "b6b9a05f",
   "metadata": {},
   "outputs": [
    {
     "data": {
      "text/plain": [
       "['Vora', 'Nikshit', 2]"
      ]
     },
     "execution_count": 161,
     "metadata": {},
     "output_type": "execute_result"
    }
   ],
   "source": [
    "l1"
   ]
  },
  {
   "cell_type": "code",
   "execution_count": 162,
   "id": "209eac4a",
   "metadata": {},
   "outputs": [],
   "source": [
    "l1.reverse()"
   ]
  },
  {
   "cell_type": "code",
   "execution_count": 163,
   "id": "ce4b471f",
   "metadata": {},
   "outputs": [
    {
     "data": {
      "text/plain": [
       "[2, 'Nikshit', 'Vora']"
      ]
     },
     "execution_count": 163,
     "metadata": {},
     "output_type": "execute_result"
    }
   ],
   "source": [
    "l1"
   ]
  },
  {
   "cell_type": "code",
   "execution_count": 164,
   "id": "da57b857",
   "metadata": {},
   "outputs": [
    {
     "data": {
      "text/plain": [
       "1"
      ]
     },
     "execution_count": 164,
     "metadata": {},
     "output_type": "execute_result"
    }
   ],
   "source": [
    "l1.count(2)"
   ]
  },
  {
   "cell_type": "code",
   "execution_count": 165,
   "id": "d56d4be0",
   "metadata": {},
   "outputs": [
    {
     "data": {
      "text/plain": [
       "1"
      ]
     },
     "execution_count": 165,
     "metadata": {},
     "output_type": "execute_result"
    }
   ],
   "source": [
    "l1.count(\"Nikshit\")"
   ]
  },
  {
   "cell_type": "code",
   "execution_count": 166,
   "id": "a89f7551",
   "metadata": {},
   "outputs": [],
   "source": [
    "l1.append(\"abcd\")"
   ]
  },
  {
   "cell_type": "code",
   "execution_count": 167,
   "id": "9003f22b",
   "metadata": {},
   "outputs": [
    {
     "data": {
      "text/plain": [
       "[2, 'Nikshit', 'Vora', 'abcd']"
      ]
     },
     "execution_count": 167,
     "metadata": {},
     "output_type": "execute_result"
    }
   ],
   "source": [
    "l1"
   ]
  },
  {
   "cell_type": "code",
   "execution_count": 168,
   "id": "1fffc905",
   "metadata": {},
   "outputs": [
    {
     "data": {
      "text/plain": [
       "4"
      ]
     },
     "execution_count": 168,
     "metadata": {},
     "output_type": "execute_result"
    }
   ],
   "source": [
    "len(l1)"
   ]
  },
  {
   "cell_type": "code",
   "execution_count": 169,
   "id": "6eccfaa5",
   "metadata": {},
   "outputs": [],
   "source": [
    "l1.extend([5,8,9,10])"
   ]
  },
  {
   "cell_type": "code",
   "execution_count": 170,
   "id": "0e212383",
   "metadata": {},
   "outputs": [
    {
     "data": {
      "text/plain": [
       "[2, 'Nikshit', 'Vora', 'abcd', 5, 8, 9, 10]"
      ]
     },
     "execution_count": 170,
     "metadata": {},
     "output_type": "execute_result"
    }
   ],
   "source": [
    "l1"
   ]
  },
  {
   "cell_type": "code",
   "execution_count": 172,
   "id": "0b558910",
   "metadata": {},
   "outputs": [],
   "source": [
    "l1 = [1,2,3]\n",
    "l2 = l1"
   ]
  },
  {
   "cell_type": "code",
   "execution_count": 173,
   "id": "24363f28",
   "metadata": {},
   "outputs": [],
   "source": [
    "l[0]=5"
   ]
  },
  {
   "cell_type": "code",
   "execution_count": 174,
   "id": "c486271a",
   "metadata": {},
   "outputs": [],
   "source": [
    "l1[0]=5"
   ]
  },
  {
   "cell_type": "code",
   "execution_count": 175,
   "id": "8407eb40",
   "metadata": {},
   "outputs": [],
   "source": [
    "l1 = [1,2,3]\n",
    "l2 = l1"
   ]
  },
  {
   "cell_type": "code",
   "execution_count": 176,
   "id": "4f2f8e10",
   "metadata": {},
   "outputs": [],
   "source": [
    "l2[0]=5"
   ]
  },
  {
   "cell_type": "code",
   "execution_count": 177,
   "id": "bd979b3a",
   "metadata": {},
   "outputs": [
    {
     "data": {
      "text/plain": [
       "[5, 2, 3]"
      ]
     },
     "execution_count": 177,
     "metadata": {},
     "output_type": "execute_result"
    }
   ],
   "source": [
    "l2"
   ]
  },
  {
   "cell_type": "code",
   "execution_count": 178,
   "id": "ebfb2f10",
   "metadata": {},
   "outputs": [
    {
     "data": {
      "text/plain": [
       "[5, 2, 3]"
      ]
     },
     "execution_count": 178,
     "metadata": {},
     "output_type": "execute_result"
    }
   ],
   "source": [
    "l1"
   ]
  },
  {
   "cell_type": "code",
   "execution_count": 179,
   "id": "1f8e7cb5",
   "metadata": {},
   "outputs": [],
   "source": [
    "n = \"Nikshit\"\n",
    "s = n"
   ]
  },
  {
   "cell_type": "code",
   "execution_count": 180,
   "id": "3193083e",
   "metadata": {},
   "outputs": [
    {
     "data": {
      "text/plain": [
       "'N'"
      ]
     },
     "execution_count": 180,
     "metadata": {},
     "output_type": "execute_result"
    }
   ],
   "source": [
    "s[0]"
   ]
  },
  {
   "cell_type": "code",
   "execution_count": 181,
   "id": "ee31897d",
   "metadata": {},
   "outputs": [
    {
     "ename": "TypeError",
     "evalue": "'str' object does not support item assignment",
     "output_type": "error",
     "traceback": [
      "\u001b[1;31m---------------------------------------------------------------------------\u001b[0m",
      "\u001b[1;31mTypeError\u001b[0m                                 Traceback (most recent call last)",
      "\u001b[1;32mC:\\Users\\NIKSHI~1.VOR\\AppData\\Local\\Temp/ipykernel_19300/1331351295.py\u001b[0m in \u001b[0;36m<module>\u001b[1;34m\u001b[0m\n\u001b[1;32m----> 1\u001b[1;33m \u001b[0ms\u001b[0m\u001b[1;33m[\u001b[0m\u001b[1;36m0\u001b[0m\u001b[1;33m]\u001b[0m\u001b[1;33m=\u001b[0m\u001b[1;36m5\u001b[0m\u001b[1;33m\u001b[0m\u001b[1;33m\u001b[0m\u001b[0m\n\u001b[0m",
      "\u001b[1;31mTypeError\u001b[0m: 'str' object does not support item assignment"
     ]
    }
   ],
   "source": [
    "s[0]=5"
   ]
  },
  {
   "cell_type": "code",
   "execution_count": 182,
   "id": "194d33b1",
   "metadata": {},
   "outputs": [
    {
     "data": {
      "text/plain": [
       "'Dikshit'"
      ]
     },
     "execution_count": 182,
     "metadata": {},
     "output_type": "execute_result"
    }
   ],
   "source": [
    "s.replace(\"N\",\"D\")"
   ]
  },
  {
   "cell_type": "code",
   "execution_count": 183,
   "id": "ef5729ea",
   "metadata": {},
   "outputs": [
    {
     "data": {
      "text/plain": [
       "'Nikshit'"
      ]
     },
     "execution_count": 183,
     "metadata": {},
     "output_type": "execute_result"
    }
   ],
   "source": [
    "n"
   ]
  },
  {
   "cell_type": "code",
   "execution_count": 184,
   "id": "cade9ec2",
   "metadata": {},
   "outputs": [
    {
     "data": {
      "text/plain": [
       "'Nikshit'"
      ]
     },
     "execution_count": 184,
     "metadata": {},
     "output_type": "execute_result"
    }
   ],
   "source": [
    "s"
   ]
  },
  {
   "cell_type": "code",
   "execution_count": null,
   "id": "963b0d88",
   "metadata": {},
   "outputs": [],
   "source": []
  }
 ],
 "metadata": {
  "kernelspec": {
   "display_name": "Python 3 (ipykernel)",
   "language": "python",
   "name": "python3"
  },
  "language_info": {
   "codemirror_mode": {
    "name": "ipython",
    "version": 3
   },
   "file_extension": ".py",
   "mimetype": "text/x-python",
   "name": "python",
   "nbconvert_exporter": "python",
   "pygments_lexer": "ipython3",
   "version": "3.9.7"
  }
 },
 "nbformat": 4,
 "nbformat_minor": 5
}
