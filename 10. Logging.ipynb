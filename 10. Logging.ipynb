{
 "cells": [
  {
   "cell_type": "code",
   "execution_count": 1,
   "id": "a3ec7a20",
   "metadata": {},
   "outputs": [
    {
     "name": "stdout",
     "output_type": "stream",
     "text": [
      "my name is nikshit......\n"
     ]
    }
   ],
   "source": [
    "print(\"my name is nikshit......\")"
   ]
  },
  {
   "cell_type": "code",
   "execution_count": 2,
   "id": "161b3468",
   "metadata": {},
   "outputs": [],
   "source": [
    "import logging"
   ]
  },
  {
   "cell_type": "code",
   "execution_count": 3,
   "id": "1546469b",
   "metadata": {},
   "outputs": [],
   "source": [
    "logging.basicConfig(filename = \"test.log\")"
   ]
  },
  {
   "cell_type": "code",
   "execution_count": 4,
   "id": "6bd4f2cb",
   "metadata": {},
   "outputs": [
    {
     "data": {
      "text/plain": [
       "'C:\\\\Users\\\\Nikshit.Vora'"
      ]
     },
     "execution_count": 4,
     "metadata": {},
     "output_type": "execute_result"
    }
   ],
   "source": [
    "pwd()"
   ]
  },
  {
   "cell_type": "code",
   "execution_count": 5,
   "id": "169e263b",
   "metadata": {},
   "outputs": [],
   "source": [
    "logging.info(\"this is my info.........\")\n",
    "logging.warning(\"this is my warnings!!!\")\n",
    "logging.error(\"this is my errro\")"
   ]
  },
  {
   "cell_type": "code",
   "execution_count": 6,
   "id": "28a68bd7",
   "metadata": {},
   "outputs": [],
   "source": [
    "logging.shutdown()"
   ]
  },
  {
   "cell_type": "code",
   "execution_count": 7,
   "id": "122a2ad7",
   "metadata": {},
   "outputs": [],
   "source": [
    "logging.basicConfig(filename = \"test.log\",level = logging.INFO)"
   ]
  },
  {
   "cell_type": "code",
   "execution_count": 8,
   "id": "e85ec79f",
   "metadata": {},
   "outputs": [],
   "source": [
    "logging.info(\"this is my info.........\")\n",
    "logging.warning(\"this is my warnings!!!\")\n",
    "logging.error(\"this is my errro\")"
   ]
  },
  {
   "cell_type": "code",
   "execution_count": 9,
   "id": "52724562",
   "metadata": {},
   "outputs": [],
   "source": [
    "logging.basicConfig(filename=\"test2.log\",level = logging.DEBUG, format = \"%(scstime)s %(levelname)s   % (message)s\")"
   ]
  },
  {
   "cell_type": "code",
   "execution_count": 10,
   "id": "1bd84b30",
   "metadata": {},
   "outputs": [],
   "source": [
    "logging.info(\"this is my info log..\")\n",
    "logging.warning(\"this is my warning log\")\n",
    "logging.error(\"this is my error...\")"
   ]
  },
  {
   "cell_type": "code",
   "execution_count": 11,
   "id": "5d68cdbf",
   "metadata": {},
   "outputs": [
    {
     "ename": "SyntaxError",
     "evalue": "invalid syntax (Temp/ipykernel_12348/2525651347.py, line 1)",
     "output_type": "error",
     "traceback": [
      "\u001b[1;36m  File \u001b[1;32m\"C:\\Users\\NIKSHI~1.VOR\\AppData\\Local\\Temp/ipykernel_12348/2525651347.py\"\u001b[1;36m, line \u001b[1;32m1\u001b[0m\n\u001b[1;33m    PRIORITY WISE LEVEL\u001b[0m\n\u001b[1;37m             ^\u001b[0m\n\u001b[1;31mSyntaxError\u001b[0m\u001b[1;31m:\u001b[0m invalid syntax\n"
     ]
    }
   ],
   "source": [
    "PRIORITY WISE LEVEL\n",
    "\n",
    "ERROR\n",
    "WARNING\n",
    "INFO\n",
    "DEBUG"
   ]
  },
  {
   "cell_type": "code",
   "execution_count": null,
   "id": "1cd6008b",
   "metadata": {},
   "outputs": [],
   "source": [
    "import logging"
   ]
  },
  {
   "cell_type": "code",
   "execution_count": null,
   "id": "81aea3a7",
   "metadata": {},
   "outputs": [],
   "source": [
    "logging.basicConfig(filename=\"test2.log\",level = logging.DEBUG, format = \"%(scstime)s %(levelname)s   % (message)s\")"
   ]
  },
  {
   "cell_type": "code",
   "execution_count": null,
   "id": "e232610d",
   "metadata": {},
   "outputs": [],
   "source": [
    "def divbyzero(a,b):\n",
    "    logging.info(\"this is the start of my code.... and i am trying to enter %s and %s\",a,b)\n",
    "    try:\n",
    "        div = a/b\n",
    "        logging.info(\"executed successfully....\")\n",
    "    except Exception as e:\n",
    "        logging.error(\"error has happened....\")\n",
    "        logging.exception(\"exception has occurred \"+str(e))"
   ]
  },
  {
   "cell_type": "code",
   "execution_count": null,
   "id": "b3863ada",
   "metadata": {},
   "outputs": [],
   "source": [
    "divbyzero(4,5)"
   ]
  },
  {
   "cell_type": "code",
   "execution_count": null,
   "id": "5cc34650",
   "metadata": {},
   "outputs": [],
   "source": [
    "divbyzero(5/0)"
   ]
  },
  {
   "cell_type": "code",
   "execution_count": null,
   "id": "0d23c157",
   "metadata": {},
   "outputs": [],
   "source": []
  }
 ],
 "metadata": {
  "kernelspec": {
   "display_name": "Python 3 (ipykernel)",
   "language": "python",
   "name": "python3"
  },
  "language_info": {
   "codemirror_mode": {
    "name": "ipython",
    "version": 3
   },
   "file_extension": ".py",
   "mimetype": "text/x-python",
   "name": "python",
   "nbconvert_exporter": "python",
   "pygments_lexer": "ipython3",
   "version": "3.9.7"
  }
 },
 "nbformat": 4,
 "nbformat_minor": 5
}
