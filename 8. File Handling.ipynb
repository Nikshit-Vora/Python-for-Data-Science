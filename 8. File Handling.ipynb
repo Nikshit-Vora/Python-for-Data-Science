{
 "cells": [
  {
   "cell_type": "code",
   "execution_count": 1,
   "id": "b16a84ba",
   "metadata": {},
   "outputs": [
    {
     "name": "stdout",
     "output_type": "stream",
     "text": [
      "something in console\n"
     ]
    }
   ],
   "source": [
    "print(\"something in console\")"
   ]
  },
  {
   "cell_type": "code",
   "execution_count": 7,
   "id": "6b4e9a94",
   "metadata": {},
   "outputs": [],
   "source": [
    "f = open(\"test1080.txt\",\"w\")"
   ]
  },
  {
   "cell_type": "code",
   "execution_count": 8,
   "id": "197ac187",
   "metadata": {},
   "outputs": [
    {
     "name": "stdout",
     "output_type": "stream",
     "text": [
      " Volume in drive C is Local Disk\n",
      " Volume Serial Number is 7E89-5E2E\n",
      "\n",
      " Directory of C:\\Users\\Nikshit.Vora\n",
      "\n",
      "12/19/2022  03:40 PM    <DIR>          .\n",
      "12/19/2022  03:40 PM    <DIR>          ..\n",
      "06/30/2022  01:22 PM    <DIR>          .anaconda\n",
      "12/18/2022  09:53 PM    <DIR>          .conda\n",
      "05/04/2022  11:32 AM               245 .condarc\n",
      "05/04/2022  11:24 AM    <DIR>          .continuum\n",
      "02/25/2022  06:01 PM    <DIR>          .idlerc\n",
      "12/19/2022  03:34 PM    <DIR>          .ipynb_checkpoints\n",
      "05/04/2022  11:54 AM    <DIR>          .ipython\n",
      "05/04/2022  04:00 PM    <DIR>          .jupyter\n",
      "05/04/2022  06:50 PM    <DIR>          .matplotlib\n",
      "03/30/2022  07:29 AM    <DIR>          .ms-ad\n",
      "04/24/2022  10:54 AM    <DIR>          .plotly\n",
      "12/09/2022  01:15 PM    <DIR>          .spyder-py3\n",
      "12/16/2022  10:49 AM            27,060 1. Python basics.ipynb\n",
      "12/16/2022  04:17 PM            59,788 2. String, List, Indexing.ipynb\n",
      "12/17/2022  04:48 PM            31,122 3. Tuple, Set, Dict.ipynb\n",
      "10/19/2021  10:58 AM    <DIR>          3D Objects\n",
      "12/17/2022  10:00 PM         1,937,584 4. If & else, loops, range.ipynb\n",
      "12/18/2022  07:09 PM            48,221 5. Function & Examples.ipynb\n",
      "12/18/2022  09:53 PM            29,319 6. Function, args, kwargs, lambda, iter.ipynb\n",
      "12/19/2022  03:34 PM            58,351 7. iterators & generators.ipynb\n",
      "12/19/2022  03:39 PM             6,549 8. File Handling.ipynb\n",
      "12/18/2022  05:29 PM    <DIR>          Anaconda3\n",
      "12/07/2022  11:26 AM             6,763 Automation of Downloading Excel Files from EPW CTT.py\n",
      "05/06/2022  07:41 PM            19,172 Bm Automation final.ipynb\n",
      "05/06/2022  07:41 PM            16,652 BM automation.ipynb\n",
      "07/15/2022  02:03 PM             5,193 BMMMMMMMMM.ipynb\n",
      "12/18/2022  05:03 PM           893,756 combined.pdf\n",
      "10/28/2022  02:22 PM            44,485 command.tmp\n",
      "10/19/2021  10:58 AM    <DIR>          Contacts\n",
      "07/22/2022  06:54 PM            41,314 Data extraction using python.ipynb\n",
      "12/18/2022  04:25 PM    <DIR>          Desktop\n",
      "12/02/2022  06:23 PM             1,626 dic.py\n",
      "12/19/2022  12:31 PM    <DIR>          Downloads\n",
      "11/29/2022  04:39 PM             5,802 final one for M.py\n",
      "12/01/2022  06:29 PM             7,273 final one with zero logic.py\n",
      "10/28/2022  02:22 PM         2,674,019 GlobalProtectLogs.zip\n",
      "10/28/2022  02:22 PM                 0 GlobalProtectLogs_is_ready\n",
      "07/15/2022  06:24 PM             1,724 HCEA Automation.ipynb\n",
      "06/24/2022  03:27 PM    <DIR>          Jedi\n",
      "10/19/2021  10:58 AM    <DIR>          Links\n",
      "02/02/2022  07:23 PM    <DIR>          Microsoft\n",
      "09/04/2022  09:47 AM    <DIR>          New project\n",
      "11/16/2022  10:00 PM             1,274 New_Project.py\n",
      "07/25/2022  07:00 PM            19,873 NEWWWWWWWWWWWWWW.ipynb\n",
      "11/21/2022  09:36 PM            36,984 number 21 game.ipynb\n",
      "12/19/2022  08:01 AM    <DIR>          OneDrive - Shell\n",
      "08/22/2022  01:05 PM    <DIR>          Oracle\n",
      "07/08/2022  07:10 PM            87,294 projects.ipynb\n",
      "07/14/2022  02:11 PM         3,489,162 Python essentials.ipynb\n",
      "08/02/2022  12:17 PM           403,164 Python OOP.ipynb\n",
      "08/04/2022  11:28 AM            37,433 python real world examples.ipynb\n",
      "10/28/2022  02:22 PM             2,554 regval.tmp\n",
      "10/19/2021  10:58 AM    <DIR>          Saved Games\n",
      "12/19/2022  03:39 PM                 0 test108.txt\n",
      "12/19/2022  03:40 PM                 0 test1080.txt\n",
      "12/09/2022  11:35 AM             8,015 tic tac toe - game.ipynb\n",
      "12/07/2022  03:04 PM             1,896 top file.py\n",
      "05/04/2022  03:54 PM            16,652 Untitled.ipynb\n",
      "05/04/2022  05:54 PM             7,377 Untitled1.ipynb\n",
      "12/07/2022  12:19 PM               804 untitled1.py\n",
      "12/17/2022  04:50 PM                72 Untitled10.ipynb\n",
      "06/10/2022  11:25 AM             1,173 Untitled2.ipynb\n",
      "12/07/2022  12:49 PM               507 untitled2.py\n",
      "07/05/2022  03:53 PM             1,057 Untitled3.ipynb\n",
      "07/08/2022  03:03 PM               588 Untitled4.ipynb\n",
      "07/22/2022  04:20 PM               588 Untitled5.ipynb\n",
      "07/25/2022  07:00 PM             8,520 Untitled6.ipynb\n",
      "07/25/2022  07:00 PM             9,853 Untitled7.ipynb\n",
      "11/11/2022  09:16 PM             1,269 Untitled8.ipynb\n",
      "12/15/2022  02:08 PM            28,461 Untitled9.ipynb\n",
      "11/15/2022  09:41 PM             2,690 WCTT - Well Cost Tracking Tool.ipynb\n",
      "11/29/2022  03:39 PM             3,161 WCTT final.py\n",
      "11/29/2022  03:53 PM            10,700 with more feature.py\n",
      "              50 File(s)     10,097,139 bytes\n",
      "              25 Dir(s)  367,115,304,960 bytes free\n"
     ]
    }
   ],
   "source": [
    "%ls"
   ]
  },
  {
   "cell_type": "code",
   "execution_count": 9,
   "id": "29c3063a",
   "metadata": {},
   "outputs": [],
   "source": [
    "f = open(\"test20.txt\",\"w\")"
   ]
  },
  {
   "cell_type": "code",
   "execution_count": 10,
   "id": "2a52b9a6",
   "metadata": {},
   "outputs": [
    {
     "data": {
      "text/plain": [
       "62"
      ]
     },
     "execution_count": 10,
     "metadata": {},
     "output_type": "execute_result"
    }
   ],
   "source": [
    "f.write(\"This is my first file operation in my test20.txt file......!!!\")"
   ]
  },
  {
   "cell_type": "code",
   "execution_count": 11,
   "id": "3ea1d115",
   "metadata": {},
   "outputs": [],
   "source": [
    "f.close()"
   ]
  },
  {
   "cell_type": "code",
   "execution_count": 12,
   "id": "fd1049dd",
   "metadata": {},
   "outputs": [
    {
     "name": "stdout",
     "output_type": "stream",
     "text": [
      "Writing test22.txt\n"
     ]
    }
   ],
   "source": [
    "%%writefile test22.txt\n",
    "this is another methode to store the data...."
   ]
  },
  {
   "cell_type": "code",
   "execution_count": 13,
   "id": "35a093e9",
   "metadata": {},
   "outputs": [],
   "source": [
    "f = open(\"test20.txt\")"
   ]
  },
  {
   "cell_type": "code",
   "execution_count": 14,
   "id": "66e8ab46",
   "metadata": {},
   "outputs": [
    {
     "data": {
      "text/plain": [
       "'This is my first file operation in my test20.txt file......!!!'"
      ]
     },
     "execution_count": 14,
     "metadata": {},
     "output_type": "execute_result"
    }
   ],
   "source": [
    "f.read()"
   ]
  },
  {
   "cell_type": "code",
   "execution_count": 15,
   "id": "8d1654bc",
   "metadata": {},
   "outputs": [
    {
     "ename": "UnsupportedOperation",
     "evalue": "not writable",
     "output_type": "error",
     "traceback": [
      "\u001b[1;31m---------------------------------------------------------------------------\u001b[0m",
      "\u001b[1;31mUnsupportedOperation\u001b[0m                      Traceback (most recent call last)",
      "\u001b[1;32mC:\\Users\\NIKSHI~1.VOR\\AppData\\Local\\Temp/ipykernel_21100/3688062645.py\u001b[0m in \u001b[0;36m<module>\u001b[1;34m\u001b[0m\n\u001b[1;32m----> 1\u001b[1;33m \u001b[0mf\u001b[0m\u001b[1;33m.\u001b[0m\u001b[0mwrite\u001b[0m\u001b[1;33m(\u001b[0m\u001b[1;34m\"nikshit\"\u001b[0m\u001b[1;33m)\u001b[0m\u001b[1;33m\u001b[0m\u001b[1;33m\u001b[0m\u001b[0m\n\u001b[0m",
      "\u001b[1;31mUnsupportedOperation\u001b[0m: not writable"
     ]
    }
   ],
   "source": [
    "f.write(\"nikshit\")"
   ]
  },
  {
   "cell_type": "code",
   "execution_count": 16,
   "id": "67126e31",
   "metadata": {},
   "outputs": [
    {
     "data": {
      "text/plain": [
       "''"
      ]
     },
     "execution_count": 16,
     "metadata": {},
     "output_type": "execute_result"
    }
   ],
   "source": [
    "f.read()"
   ]
  },
  {
   "cell_type": "code",
   "execution_count": 17,
   "id": "a63d8cc8",
   "metadata": {},
   "outputs": [
    {
     "data": {
      "text/plain": [
       "5"
      ]
     },
     "execution_count": 17,
     "metadata": {},
     "output_type": "execute_result"
    }
   ],
   "source": [
    "f.seek(5)"
   ]
  },
  {
   "cell_type": "code",
   "execution_count": 18,
   "id": "d6ce67f8",
   "metadata": {},
   "outputs": [
    {
     "data": {
      "text/plain": [
       "'is my first file operation in my test20.txt file......!!!'"
      ]
     },
     "execution_count": 18,
     "metadata": {},
     "output_type": "execute_result"
    }
   ],
   "source": [
    "f.read()"
   ]
  },
  {
   "cell_type": "code",
   "execution_count": 19,
   "id": "2c383963",
   "metadata": {},
   "outputs": [
    {
     "data": {
      "text/plain": [
       "10"
      ]
     },
     "execution_count": 19,
     "metadata": {},
     "output_type": "execute_result"
    }
   ],
   "source": [
    "f.seek(10)"
   ]
  },
  {
   "cell_type": "code",
   "execution_count": 20,
   "id": "21237135",
   "metadata": {},
   "outputs": [
    {
     "data": {
      "text/plain": [
       "' first file operation in my test20.txt file......!!!'"
      ]
     },
     "execution_count": 20,
     "metadata": {},
     "output_type": "execute_result"
    }
   ],
   "source": [
    "f.read()"
   ]
  },
  {
   "cell_type": "code",
   "execution_count": 21,
   "id": "cdddfa25",
   "metadata": {},
   "outputs": [
    {
     "data": {
      "text/plain": [
       "0"
      ]
     },
     "execution_count": 21,
     "metadata": {},
     "output_type": "execute_result"
    }
   ],
   "source": [
    "f.seek(0)"
   ]
  },
  {
   "cell_type": "code",
   "execution_count": 22,
   "id": "91631e8b",
   "metadata": {},
   "outputs": [
    {
     "data": {
      "text/plain": [
       "'This is my first file operation in my test20.txt file......!!!'"
      ]
     },
     "execution_count": 22,
     "metadata": {},
     "output_type": "execute_result"
    }
   ],
   "source": [
    "f.read()"
   ]
  },
  {
   "cell_type": "code",
   "execution_count": 23,
   "id": "88cf89f2",
   "metadata": {},
   "outputs": [
    {
     "data": {
      "text/plain": [
       "62"
      ]
     },
     "execution_count": 23,
     "metadata": {},
     "output_type": "execute_result"
    }
   ],
   "source": [
    "f.tell()"
   ]
  },
  {
   "cell_type": "code",
   "execution_count": 24,
   "id": "184f82d5",
   "metadata": {},
   "outputs": [],
   "source": [
    "f.close()"
   ]
  },
  {
   "cell_type": "code",
   "execution_count": 26,
   "id": "d86cb301",
   "metadata": {},
   "outputs": [],
   "source": [
    "f = open(\"test20.txt\",\"r+\")"
   ]
  },
  {
   "cell_type": "code",
   "execution_count": 27,
   "id": "16b1ad43",
   "metadata": {},
   "outputs": [
    {
     "data": {
      "text/plain": [
       "'This is my first file operation in my test20.txt file......!!!'"
      ]
     },
     "execution_count": 27,
     "metadata": {},
     "output_type": "execute_result"
    }
   ],
   "source": [
    "f.read()"
   ]
  },
  {
   "cell_type": "code",
   "execution_count": 28,
   "id": "8747be43",
   "metadata": {},
   "outputs": [
    {
     "data": {
      "text/plain": [
       "''"
      ]
     },
     "execution_count": 28,
     "metadata": {},
     "output_type": "execute_result"
    }
   ],
   "source": [
    "f.readline()"
   ]
  },
  {
   "cell_type": "code",
   "execution_count": 29,
   "id": "c494835d",
   "metadata": {},
   "outputs": [
    {
     "data": {
      "text/plain": [
       "62"
      ]
     },
     "execution_count": 29,
     "metadata": {},
     "output_type": "execute_result"
    }
   ],
   "source": [
    "f.tell()"
   ]
  },
  {
   "cell_type": "code",
   "execution_count": 30,
   "id": "5bb3acc0",
   "metadata": {},
   "outputs": [
    {
     "data": {
      "text/plain": [
       "0"
      ]
     },
     "execution_count": 30,
     "metadata": {},
     "output_type": "execute_result"
    }
   ],
   "source": [
    "f.seek(0)"
   ]
  },
  {
   "cell_type": "code",
   "execution_count": 31,
   "id": "3c248691",
   "metadata": {},
   "outputs": [
    {
     "data": {
      "text/plain": [
       "'This is my first file operation in my test20.txt file......!!!'"
      ]
     },
     "execution_count": 31,
     "metadata": {},
     "output_type": "execute_result"
    }
   ],
   "source": [
    "f.readline()"
   ]
  },
  {
   "cell_type": "code",
   "execution_count": 32,
   "id": "7b84b553",
   "metadata": {},
   "outputs": [
    {
     "data": {
      "text/plain": [
       "62"
      ]
     },
     "execution_count": 32,
     "metadata": {},
     "output_type": "execute_result"
    }
   ],
   "source": [
    "f.tell()"
   ]
  },
  {
   "cell_type": "code",
   "execution_count": 33,
   "id": "7902f5c6",
   "metadata": {},
   "outputs": [],
   "source": [
    "f.close()"
   ]
  },
  {
   "cell_type": "code",
   "execution_count": 34,
   "id": "edd0656e",
   "metadata": {},
   "outputs": [],
   "source": [
    "f = open(\"test20021.txt\",\"r+\")"
   ]
  },
  {
   "cell_type": "code",
   "execution_count": 35,
   "id": "72f5725c",
   "metadata": {},
   "outputs": [
    {
     "data": {
      "text/plain": [
       "'This is my first file operation in my test20.txt file......!!!\\nbn\\nvf\\ndfs\\ng\\nsdfgsd\\nfgsd\\nfgsd\\nfg\\nsdfg\\nsdfg\\nsdf\\ngsd\\ng\\nsdg\\n'"
      ]
     },
     "execution_count": 35,
     "metadata": {},
     "output_type": "execute_result"
    }
   ],
   "source": [
    "f.read()"
   ]
  },
  {
   "cell_type": "code",
   "execution_count": 36,
   "id": "c4349bbf",
   "metadata": {},
   "outputs": [
    {
     "data": {
      "text/plain": [
       "''"
      ]
     },
     "execution_count": 36,
     "metadata": {},
     "output_type": "execute_result"
    }
   ],
   "source": [
    "f.readline()"
   ]
  },
  {
   "cell_type": "code",
   "execution_count": 37,
   "id": "5aef5fc9",
   "metadata": {},
   "outputs": [
    {
     "data": {
      "text/plain": [
       "0"
      ]
     },
     "execution_count": 37,
     "metadata": {},
     "output_type": "execute_result"
    }
   ],
   "source": [
    "f.seek(0)"
   ]
  },
  {
   "cell_type": "code",
   "execution_count": 38,
   "id": "ae7be503",
   "metadata": {},
   "outputs": [
    {
     "data": {
      "text/plain": [
       "'This is my first file operation in my test20.txt file......!!!\\n'"
      ]
     },
     "execution_count": 38,
     "metadata": {},
     "output_type": "execute_result"
    }
   ],
   "source": [
    "f.readline()"
   ]
  },
  {
   "cell_type": "code",
   "execution_count": 39,
   "id": "fa3abade",
   "metadata": {},
   "outputs": [
    {
     "data": {
      "text/plain": [
       "'bn\\n'"
      ]
     },
     "execution_count": 39,
     "metadata": {},
     "output_type": "execute_result"
    }
   ],
   "source": [
    "f.readline()"
   ]
  },
  {
   "cell_type": "code",
   "execution_count": 40,
   "id": "9bba2da2",
   "metadata": {},
   "outputs": [
    {
     "data": {
      "text/plain": [
       "'vf\\n'"
      ]
     },
     "execution_count": 40,
     "metadata": {},
     "output_type": "execute_result"
    }
   ],
   "source": [
    "f.readline()"
   ]
  },
  {
   "cell_type": "code",
   "execution_count": 42,
   "id": "a8c031f0",
   "metadata": {},
   "outputs": [
    {
     "name": "stdout",
     "output_type": "stream",
     "text": [
      "T\n",
      "h\n",
      "i\n",
      "s\n",
      " \n",
      "i\n",
      "s\n",
      " \n",
      "m\n",
      "y\n",
      " \n",
      "f\n",
      "i\n",
      "r\n",
      "s\n",
      "t\n",
      " \n",
      "f\n",
      "i\n",
      "l\n",
      "e\n",
      " \n",
      "o\n",
      "p\n",
      "e\n",
      "r\n",
      "a\n",
      "t\n",
      "i\n",
      "o\n",
      "n\n",
      " \n",
      "i\n",
      "n\n",
      " \n",
      "m\n",
      "y\n",
      " \n",
      "t\n",
      "e\n",
      "s\n",
      "t\n",
      "2\n",
      "0\n",
      ".\n",
      "t\n",
      "x\n",
      "t\n",
      " \n",
      "f\n",
      "i\n",
      "l\n",
      "e\n",
      ".\n",
      ".\n",
      ".\n",
      ".\n",
      ".\n",
      ".\n",
      "!\n",
      "!\n",
      "!\n",
      "\n",
      "\n"
     ]
    }
   ],
   "source": [
    "f.seek(0)\n",
    "for i in f.readline():\n",
    "    print(i)"
   ]
  },
  {
   "cell_type": "code",
   "execution_count": 43,
   "id": "4875b959",
   "metadata": {},
   "outputs": [
    {
     "name": "stdout",
     "output_type": "stream",
     "text": [
      "T\n",
      "h\n",
      "i\n",
      "s\n",
      " \n",
      "i\n",
      "s\n",
      " \n",
      "m\n",
      "y\n",
      " \n",
      "f\n",
      "i\n",
      "r\n",
      "s\n",
      "t\n",
      " \n",
      "f\n",
      "i\n",
      "l\n",
      "e\n",
      " \n",
      "o\n",
      "p\n",
      "e\n",
      "r\n",
      "a\n",
      "t\n",
      "i\n",
      "o\n",
      "n\n",
      " \n",
      "i\n",
      "n\n",
      " \n",
      "m\n",
      "y\n",
      " \n",
      "t\n",
      "e\n",
      "s\n",
      "t\n",
      "2\n",
      "0\n",
      ".\n",
      "t\n",
      "x\n",
      "t\n",
      " \n",
      "f\n",
      "i\n",
      "l\n",
      "e\n",
      ".\n",
      ".\n",
      ".\n",
      ".\n",
      ".\n",
      ".\n",
      "!\n",
      "!\n",
      "!\n",
      "\n",
      "\n"
     ]
    }
   ],
   "source": [
    "f.seek(0)\n",
    "for i in f.readline():\n",
    "    print(i)"
   ]
  },
  {
   "cell_type": "code",
   "execution_count": 44,
   "id": "307e6f8f",
   "metadata": {},
   "outputs": [
    {
     "data": {
      "text/plain": [
       "0"
      ]
     },
     "execution_count": 44,
     "metadata": {},
     "output_type": "execute_result"
    }
   ],
   "source": [
    "f.seek(0)"
   ]
  },
  {
   "cell_type": "code",
   "execution_count": 45,
   "id": "0747f5ae",
   "metadata": {},
   "outputs": [
    {
     "data": {
      "text/plain": [
       "'This is my first file operation in my test20.txt file......!!!\\nbn\\nvf\\ndfs\\ng\\nsdfgsd\\nfgsd\\nfgsd\\nfg\\nsdfg\\nsdfg\\nsdf\\ngsd\\ng\\nsdg\\n'"
      ]
     },
     "execution_count": 45,
     "metadata": {},
     "output_type": "execute_result"
    }
   ],
   "source": [
    "f.read()"
   ]
  },
  {
   "cell_type": "code",
   "execution_count": 46,
   "id": "3e4935c0",
   "metadata": {},
   "outputs": [
    {
     "data": {
      "text/plain": [
       "0"
      ]
     },
     "execution_count": 46,
     "metadata": {},
     "output_type": "execute_result"
    }
   ],
   "source": [
    "f.seek(0)"
   ]
  },
  {
   "cell_type": "code",
   "execution_count": 47,
   "id": "d6d0bf85",
   "metadata": {},
   "outputs": [],
   "source": [
    "s = f.read()"
   ]
  },
  {
   "cell_type": "code",
   "execution_count": 48,
   "id": "ca26d8e8",
   "metadata": {},
   "outputs": [
    {
     "data": {
      "text/plain": [
       "['This is my first file operation in my test20.txt file......!!!',\n",
       " 'bn',\n",
       " 'vf',\n",
       " 'dfs',\n",
       " 'g',\n",
       " 'sdfgsd',\n",
       " 'fgsd',\n",
       " 'fgsd',\n",
       " 'fg',\n",
       " 'sdfg',\n",
       " 'sdfg',\n",
       " 'sdf',\n",
       " 'gsd',\n",
       " 'g',\n",
       " 'sdg',\n",
       " '']"
      ]
     },
     "execution_count": 48,
     "metadata": {},
     "output_type": "execute_result"
    }
   ],
   "source": [
    "s.split(\"\\n\")"
   ]
  },
  {
   "cell_type": "code",
   "execution_count": 49,
   "id": "11de8ef7",
   "metadata": {},
   "outputs": [],
   "source": [
    "f.close()"
   ]
  },
  {
   "cell_type": "code",
   "execution_count": 50,
   "id": "9054eaa2",
   "metadata": {},
   "outputs": [],
   "source": [
    "f = open(\"test20021.txt\",\"r+\")"
   ]
  },
  {
   "cell_type": "code",
   "execution_count": 58,
   "id": "9bb17138",
   "metadata": {},
   "outputs": [
    {
     "name": "stdout",
     "output_type": "stream",
     "text": [
      "This is my first file operation in my test20.txt file......!!!\n",
      "            bn\n",
      "            vf\n",
      "            dfs\n",
      "            g\n",
      "            sdfgsd\n",
      "            fgsd\n",
      "            fgsd\n",
      "            fg\n",
      "            sdfg\n",
      "            sdfg\n",
      "            sdf\n",
      "            gsd\n",
      "            g\n",
      "            sdg\n",
      "            "
     ]
    }
   ],
   "source": [
    "f.seek(0)\n",
    "for line in f:\n",
    "    print(line,end=\"            \")"
   ]
  },
  {
   "cell_type": "code",
   "execution_count": 59,
   "id": "24479b4f",
   "metadata": {},
   "outputs": [
    {
     "name": "stdout",
     "output_type": "stream",
     "text": [
      "This is my first file operation in my test20.txt file......!!!\n",
      "\n",
      "bn\n",
      "\n",
      "vf\n",
      "\n",
      "dfs\n",
      "\n",
      "g\n",
      "\n",
      "sdfgsd\n",
      "\n",
      "fgsd\n",
      "\n",
      "fgsd\n",
      "\n",
      "fg\n",
      "\n",
      "sdfg\n",
      "\n",
      "sdfg\n",
      "\n",
      "sdf\n",
      "\n",
      "gsd\n",
      "\n",
      "g\n",
      "\n",
      "sdg\n",
      "\n"
     ]
    }
   ],
   "source": [
    "f.seek(0)\n",
    "for line in f:\n",
    "    print(line)"
   ]
  },
  {
   "cell_type": "code",
   "execution_count": 60,
   "id": "ee8cd900",
   "metadata": {},
   "outputs": [
    {
     "data": {
      "text/plain": [
       "23"
      ]
     },
     "execution_count": 60,
     "metadata": {},
     "output_type": "execute_result"
    }
   ],
   "source": [
    "f.write(\"hey i am nikshit!!!!...\")"
   ]
  },
  {
   "cell_type": "code",
   "execution_count": 61,
   "id": "b3d27a3b",
   "metadata": {},
   "outputs": [
    {
     "data": {
      "text/plain": [
       "0"
      ]
     },
     "execution_count": 61,
     "metadata": {},
     "output_type": "execute_result"
    }
   ],
   "source": [
    "f.seek(0)"
   ]
  },
  {
   "cell_type": "code",
   "execution_count": 62,
   "id": "57b635d0",
   "metadata": {},
   "outputs": [
    {
     "data": {
      "text/plain": [
       "'This is my first file operation in my test20.txt file......!!!\\nbn\\nvf\\ndfs\\ng\\nsdfgsd\\nfgsd\\nfgsd\\nfg\\nsdfg\\nsdfg\\nsdf\\ngsd\\ng\\nsdg\\nhey i am nikshit!!!!...'"
      ]
     },
     "execution_count": 62,
     "metadata": {},
     "output_type": "execute_result"
    }
   ],
   "source": [
    "f.read()"
   ]
  },
  {
   "cell_type": "code",
   "execution_count": 63,
   "id": "8423ddae",
   "metadata": {},
   "outputs": [],
   "source": [
    "f.close()"
   ]
  },
  {
   "cell_type": "code",
   "execution_count": 3,
   "id": "27dd4209",
   "metadata": {},
   "outputs": [],
   "source": [
    "f = open(\"test20021.txt\",\"r+\")"
   ]
  },
  {
   "cell_type": "code",
   "execution_count": 4,
   "id": "a81cfa3f",
   "metadata": {},
   "outputs": [
    {
     "data": {
      "text/plain": [
       "['This is my first file operation in my test20.txt file......!!!\\n',\n",
       " 'bn\\n',\n",
       " 'vf\\n',\n",
       " 'dfs\\n',\n",
       " 'g\\n',\n",
       " 'sdfgsd\\n',\n",
       " 'fgsd\\n',\n",
       " 'fgsd\\n',\n",
       " 'fg\\n',\n",
       " 'sdfg\\n',\n",
       " 'sdfg\\n',\n",
       " 'sdf\\n',\n",
       " 'gsd\\n',\n",
       " 'g\\n',\n",
       " 'sdg\\n',\n",
       " 'hey i am nikshit!!!!...']"
      ]
     },
     "execution_count": 4,
     "metadata": {},
     "output_type": "execute_result"
    }
   ],
   "source": [
    "f.readlines()"
   ]
  },
  {
   "cell_type": "code",
   "execution_count": 5,
   "id": "85c5aa18",
   "metadata": {},
   "outputs": [
    {
     "data": {
      "text/plain": [
       "0"
      ]
     },
     "execution_count": 5,
     "metadata": {},
     "output_type": "execute_result"
    }
   ],
   "source": [
    "f.seek(0)"
   ]
  },
  {
   "cell_type": "code",
   "execution_count": 7,
   "id": "47952f4d",
   "metadata": {},
   "outputs": [
    {
     "data": {
      "text/plain": [
       "'bn\\n'"
      ]
     },
     "execution_count": 7,
     "metadata": {},
     "output_type": "execute_result"
    }
   ],
   "source": [
    "f.readline()"
   ]
  },
  {
   "cell_type": "code",
   "execution_count": 8,
   "id": "10b073fb",
   "metadata": {},
   "outputs": [
    {
     "data": {
      "text/plain": [
       "'vf\\n'"
      ]
     },
     "execution_count": 8,
     "metadata": {},
     "output_type": "execute_result"
    }
   ],
   "source": [
    "f.readline()"
   ]
  },
  {
   "cell_type": "code",
   "execution_count": 9,
   "id": "e53b3996",
   "metadata": {},
   "outputs": [
    {
     "data": {
      "text/plain": [
       "'dfs\\n'"
      ]
     },
     "execution_count": 9,
     "metadata": {},
     "output_type": "execute_result"
    }
   ],
   "source": [
    "f.readline()"
   ]
  },
  {
   "cell_type": "code",
   "execution_count": 10,
   "id": "0c7bef72",
   "metadata": {},
   "outputs": [
    {
     "data": {
      "text/plain": [
       "0"
      ]
     },
     "execution_count": 10,
     "metadata": {},
     "output_type": "execute_result"
    }
   ],
   "source": [
    "f.seek(0)"
   ]
  },
  {
   "cell_type": "code",
   "execution_count": 11,
   "id": "c7f6076b",
   "metadata": {},
   "outputs": [
    {
     "data": {
      "text/plain": [
       "['This is my first file operation in my test20.txt file......!!!\\n',\n",
       " 'bn\\n',\n",
       " 'vf\\n',\n",
       " 'dfs\\n',\n",
       " 'g\\n',\n",
       " 'sdfgsd\\n',\n",
       " 'fgsd\\n',\n",
       " 'fgsd\\n',\n",
       " 'fg\\n',\n",
       " 'sdfg\\n',\n",
       " 'sdfg\\n',\n",
       " 'sdf\\n',\n",
       " 'gsd\\n',\n",
       " 'g\\n',\n",
       " 'sdg\\n',\n",
       " 'hey i am nikshit!!!!...']"
      ]
     },
     "execution_count": 11,
     "metadata": {},
     "output_type": "execute_result"
    }
   ],
   "source": [
    "f.readlines()"
   ]
  },
  {
   "cell_type": "code",
   "execution_count": 12,
   "id": "73bb0c08",
   "metadata": {},
   "outputs": [
    {
     "data": {
      "text/plain": [
       "0"
      ]
     },
     "execution_count": 12,
     "metadata": {},
     "output_type": "execute_result"
    }
   ],
   "source": [
    "f.seek(0)"
   ]
  },
  {
   "cell_type": "code",
   "execution_count": 13,
   "id": "30fb0740",
   "metadata": {},
   "outputs": [],
   "source": [
    "l = f.readlines()"
   ]
  },
  {
   "cell_type": "code",
   "execution_count": 14,
   "id": "42884758",
   "metadata": {},
   "outputs": [
    {
     "data": {
      "text/plain": [
       "['This is my first file operation in my test20.txt file......!!!\\n',\n",
       " 'bn\\n',\n",
       " 'vf\\n',\n",
       " 'dfs\\n',\n",
       " 'g\\n',\n",
       " 'sdfgsd\\n',\n",
       " 'fgsd\\n',\n",
       " 'fgsd\\n',\n",
       " 'fg\\n',\n",
       " 'sdfg\\n',\n",
       " 'sdfg\\n',\n",
       " 'sdf\\n',\n",
       " 'gsd\\n',\n",
       " 'g\\n',\n",
       " 'sdg\\n',\n",
       " 'hey i am nikshit!!!!...']"
      ]
     },
     "execution_count": 14,
     "metadata": {},
     "output_type": "execute_result"
    }
   ],
   "source": [
    "l"
   ]
  },
  {
   "cell_type": "code",
   "execution_count": 15,
   "id": "110db378",
   "metadata": {},
   "outputs": [
    {
     "data": {
      "text/plain": [
       "'This is my first file operation in my test20.txt file......!!!\\n'"
      ]
     },
     "execution_count": 15,
     "metadata": {},
     "output_type": "execute_result"
    }
   ],
   "source": [
    "l[0]"
   ]
  },
  {
   "cell_type": "code",
   "execution_count": 16,
   "id": "43760361",
   "metadata": {},
   "outputs": [
    {
     "data": {
      "text/plain": [
       "['This',\n",
       " 'is',\n",
       " 'my',\n",
       " 'first',\n",
       " 'file',\n",
       " 'operation',\n",
       " 'in',\n",
       " 'my',\n",
       " 'test20.txt',\n",
       " 'file......!!!']"
      ]
     },
     "execution_count": 16,
     "metadata": {},
     "output_type": "execute_result"
    }
   ],
   "source": [
    "l[0].split()"
   ]
  },
  {
   "cell_type": "code",
   "execution_count": 17,
   "id": "faa44649",
   "metadata": {},
   "outputs": [
    {
     "name": "stdout",
     "output_type": "stream",
     "text": [
      "['T', 'i', 'm', 'f', 'f', 'o', 'i', 'm', 't', 'f']\n"
     ]
    }
   ],
   "source": [
    "x=[]\n",
    "for i in l[0].split():\n",
    "    x.append(i[0])\n",
    "print(x)"
   ]
  },
  {
   "cell_type": "code",
   "execution_count": 18,
   "id": "5f1d207b",
   "metadata": {},
   "outputs": [
    {
     "data": {
      "text/plain": [
       "157"
      ]
     },
     "execution_count": 18,
     "metadata": {},
     "output_type": "execute_result"
    }
   ],
   "source": [
    "f.tell()"
   ]
  },
  {
   "cell_type": "code",
   "execution_count": 19,
   "id": "8a82044e",
   "metadata": {},
   "outputs": [
    {
     "data": {
      "text/plain": [
       "5"
      ]
     },
     "execution_count": 19,
     "metadata": {},
     "output_type": "execute_result"
    }
   ],
   "source": [
    "f.seek(5)"
   ]
  },
  {
   "cell_type": "code",
   "execution_count": 20,
   "id": "0ffbd328",
   "metadata": {},
   "outputs": [
    {
     "data": {
      "text/plain": [
       "5"
      ]
     },
     "execution_count": 20,
     "metadata": {},
     "output_type": "execute_result"
    }
   ],
   "source": [
    "f.tell()"
   ]
  },
  {
   "cell_type": "code",
   "execution_count": 21,
   "id": "aa457b6f",
   "metadata": {},
   "outputs": [
    {
     "data": {
      "text/plain": [
       "<function TextIOWrapper.tell()>"
      ]
     },
     "execution_count": 21,
     "metadata": {},
     "output_type": "execute_result"
    }
   ],
   "source": [
    "f.tell"
   ]
  },
  {
   "cell_type": "code",
   "execution_count": 22,
   "id": "9b6e812e",
   "metadata": {},
   "outputs": [
    {
     "data": {
      "text/plain": [
       "5"
      ]
     },
     "execution_count": 22,
     "metadata": {},
     "output_type": "execute_result"
    }
   ],
   "source": [
    "f.tell()"
   ]
  },
  {
   "cell_type": "code",
   "execution_count": 23,
   "id": "c00306da",
   "metadata": {},
   "outputs": [
    {
     "data": {
      "text/plain": [
       "'is my first file operation in my test20.txt file......!!!\\nbn\\nvf\\ndfs\\ng\\nsdfgsd\\nfgsd\\nfgsd\\nfg\\nsdfg\\nsdfg\\nsdf\\ngsd\\ng\\nsdg\\nhey i am nikshit!!!!...'"
      ]
     },
     "execution_count": 23,
     "metadata": {},
     "output_type": "execute_result"
    }
   ],
   "source": [
    "l = [\"this is my line 1...\",\"this is my line 2\",\"line 3\",\"line 4\"]\n",
    "f.read()\n"
   ]
  },
  {
   "cell_type": "code",
   "execution_count": 24,
   "id": "02c415eb",
   "metadata": {},
   "outputs": [
    {
     "data": {
      "text/plain": [
       "''"
      ]
     },
     "execution_count": 24,
     "metadata": {},
     "output_type": "execute_result"
    }
   ],
   "source": [
    "f.read()"
   ]
  },
  {
   "cell_type": "code",
   "execution_count": 25,
   "id": "958864c0",
   "metadata": {},
   "outputs": [],
   "source": [
    "for i in l:\n",
    "    f.write(i)"
   ]
  },
  {
   "cell_type": "code",
   "execution_count": 26,
   "id": "c7fcbd7b",
   "metadata": {},
   "outputs": [
    {
     "data": {
      "text/plain": [
       "''"
      ]
     },
     "execution_count": 26,
     "metadata": {},
     "output_type": "execute_result"
    }
   ],
   "source": [
    "f.read()"
   ]
  },
  {
   "cell_type": "code",
   "execution_count": 27,
   "id": "dc551671",
   "metadata": {},
   "outputs": [
    {
     "data": {
      "text/plain": [
       "0"
      ]
     },
     "execution_count": 27,
     "metadata": {},
     "output_type": "execute_result"
    }
   ],
   "source": [
    "f.seek(0)"
   ]
  },
  {
   "cell_type": "code",
   "execution_count": 28,
   "id": "97130ece",
   "metadata": {},
   "outputs": [
    {
     "data": {
      "text/plain": [
       "'This is my first file operation in my test20.txt file......!!!\\nbn\\nvf\\ndfs\\ng\\nsdfgsd\\nfgsd\\nfgsd\\nfg\\nsdfg\\nsdfg\\nsdf\\ngsd\\ng\\nsdg\\nhey i am nikshit!!!!...this is my line 1...this is my line 2line 3line 4'"
      ]
     },
     "execution_count": 28,
     "metadata": {},
     "output_type": "execute_result"
    }
   ],
   "source": [
    "f.read()"
   ]
  },
  {
   "cell_type": "code",
   "execution_count": 29,
   "id": "73c22d40",
   "metadata": {},
   "outputs": [
    {
     "ename": "TypeError",
     "evalue": "write() argument must be str, not list",
     "output_type": "error",
     "traceback": [
      "\u001b[1;31m---------------------------------------------------------------------------\u001b[0m",
      "\u001b[1;31mTypeError\u001b[0m                                 Traceback (most recent call last)",
      "\u001b[1;32mC:\\Users\\NIKSHI~1.VOR\\AppData\\Local\\Temp/ipykernel_6532/2313015972.py\u001b[0m in \u001b[0;36m<module>\u001b[1;34m\u001b[0m\n\u001b[1;32m----> 1\u001b[1;33m \u001b[0mf\u001b[0m\u001b[1;33m.\u001b[0m\u001b[0mwrite\u001b[0m\u001b[1;33m(\u001b[0m\u001b[0ml\u001b[0m\u001b[1;33m)\u001b[0m\u001b[1;33m\u001b[0m\u001b[1;33m\u001b[0m\u001b[0m\n\u001b[0m",
      "\u001b[1;31mTypeError\u001b[0m: write() argument must be str, not list"
     ]
    }
   ],
   "source": [
    "f.write(l)"
   ]
  },
  {
   "cell_type": "code",
   "execution_count": 30,
   "id": "804da6f0",
   "metadata": {},
   "outputs": [],
   "source": [
    "f.writelines(l)"
   ]
  },
  {
   "cell_type": "code",
   "execution_count": 31,
   "id": "438bbbfd",
   "metadata": {},
   "outputs": [
    {
     "data": {
      "text/plain": [
       "''"
      ]
     },
     "execution_count": 31,
     "metadata": {},
     "output_type": "execute_result"
    }
   ],
   "source": [
    "f.read()"
   ]
  },
  {
   "cell_type": "code",
   "execution_count": 32,
   "id": "6662b5ee",
   "metadata": {},
   "outputs": [
    {
     "data": {
      "text/plain": [
       "0"
      ]
     },
     "execution_count": 32,
     "metadata": {},
     "output_type": "execute_result"
    }
   ],
   "source": [
    "f.seek(0)"
   ]
  },
  {
   "cell_type": "code",
   "execution_count": 33,
   "id": "3974e72c",
   "metadata": {},
   "outputs": [
    {
     "data": {
      "text/plain": [
       "'This is my first file operation in my test20.txt file......!!!\\nbn\\nvf\\ndfs\\ng\\nsdfgsd\\nfgsd\\nfgsd\\nfg\\nsdfg\\nsdfg\\nsdf\\ngsd\\ng\\nsdg\\nhey i am nikshit!!!!...this is my line 1...this is my line 2line 3line 4this is my line 1...this is my line 2line 3line 4'"
      ]
     },
     "execution_count": 33,
     "metadata": {},
     "output_type": "execute_result"
    }
   ],
   "source": [
    "f.read()"
   ]
  },
  {
   "cell_type": "code",
   "execution_count": 34,
   "id": "e0152c91",
   "metadata": {},
   "outputs": [],
   "source": [
    "f.close()"
   ]
  },
  {
   "cell_type": "code",
   "execution_count": 35,
   "id": "9832b9f4",
   "metadata": {},
   "outputs": [],
   "source": [
    "f = open(\"test20021.txt\",\"r+\")"
   ]
  },
  {
   "cell_type": "code",
   "execution_count": 36,
   "id": "a60581e0",
   "metadata": {},
   "outputs": [
    {
     "data": {
      "text/plain": [
       "4"
      ]
     },
     "execution_count": 36,
     "metadata": {},
     "output_type": "execute_result"
    }
   ],
   "source": [
    "f.fileno()"
   ]
  },
  {
   "cell_type": "code",
   "execution_count": 37,
   "id": "8daf90ca",
   "metadata": {},
   "outputs": [
    {
     "name": "stdout",
     "output_type": "stream",
     "text": [
      " Volume in drive C is Local Disk\n",
      " Volume Serial Number is 7E89-5E2E\n",
      "\n",
      " Directory of C:\\Users\\Nikshit.Vora\n",
      "\n",
      "12/22/2022  11:38 AM    <DIR>          .\n",
      "12/22/2022  11:38 AM    <DIR>          ..\n",
      "06/30/2022  01:22 PM    <DIR>          .anaconda\n",
      "12/18/2022  09:53 PM    <DIR>          .conda\n",
      "05/04/2022  11:32 AM               245 .condarc\n",
      "05/04/2022  11:24 AM    <DIR>          .continuum\n",
      "02/25/2022  06:01 PM    <DIR>          .idlerc\n",
      "12/19/2022  03:34 PM    <DIR>          .ipynb_checkpoints\n",
      "05/04/2022  11:54 AM    <DIR>          .ipython\n",
      "05/04/2022  04:00 PM    <DIR>          .jupyter\n",
      "05/04/2022  06:50 PM    <DIR>          .matplotlib\n",
      "03/30/2022  07:29 AM    <DIR>          .ms-ad\n",
      "04/24/2022  10:54 AM    <DIR>          .plotly\n",
      "12/09/2022  01:15 PM    <DIR>          .spyder-py3\n",
      "12/16/2022  10:49 AM            27,060 1. Python basics.ipynb\n",
      "12/16/2022  04:17 PM            59,788 2. String, List, Indexing.ipynb\n",
      "12/17/2022  04:48 PM            31,122 3. Tuple, Set, Dict.ipynb\n",
      "10/19/2021  10:58 AM    <DIR>          3D Objects\n",
      "12/17/2022  10:00 PM         1,937,584 4. If & else, loops, range.ipynb\n",
      "12/18/2022  07:09 PM            48,221 5. Function & Examples.ipynb\n",
      "12/18/2022  09:53 PM            29,319 6. Function, args, kwargs, lambda, iter.ipynb\n",
      "12/19/2022  03:34 PM            58,351 7. iterators & generators.ipynb\n",
      "12/22/2022  11:38 AM            36,355 8. File Handling.ipynb\n",
      "12/18/2022  05:29 PM    <DIR>          Anaconda3\n",
      "12/07/2022  11:26 AM             6,763 Automation of Downloading Excel Files from EPW CTT.py\n",
      "05/06/2022  07:41 PM            19,172 Bm Automation final.ipynb\n",
      "05/06/2022  07:41 PM            16,652 BM automation.ipynb\n",
      "07/15/2022  02:03 PM             5,193 BMMMMMMMMM.ipynb\n",
      "12/18/2022  05:03 PM           893,756 combined.pdf\n",
      "10/28/2022  02:22 PM            44,485 command.tmp\n",
      "10/19/2021  10:58 AM    <DIR>          Contacts\n",
      "07/22/2022  06:54 PM            41,314 Data extraction using python.ipynb\n",
      "12/20/2022  08:21 PM    <DIR>          Desktop\n",
      "12/02/2022  06:23 PM             1,626 dic.py\n",
      "12/22/2022  10:45 AM    <DIR>          Downloads\n",
      "11/29/2022  04:39 PM             5,802 final one for M.py\n",
      "12/01/2022  06:29 PM             7,273 final one with zero logic.py\n",
      "10/28/2022  02:22 PM         2,674,019 GlobalProtectLogs.zip\n",
      "10/28/2022  02:22 PM                 0 GlobalProtectLogs_is_ready\n",
      "07/15/2022  06:24 PM             1,724 HCEA Automation.ipynb\n",
      "06/24/2022  03:27 PM    <DIR>          Jedi\n",
      "10/19/2021  10:58 AM    <DIR>          Links\n",
      "02/02/2022  07:23 PM    <DIR>          Microsoft\n",
      "09/04/2022  09:47 AM    <DIR>          New project\n",
      "11/16/2022  10:00 PM             1,274 New_Project.py\n",
      "07/25/2022  07:00 PM            19,873 NEWWWWWWWWWWWWWW.ipynb\n",
      "11/21/2022  09:36 PM            36,984 number 21 game.ipynb\n",
      "12/22/2022  10:15 AM    <DIR>          OneDrive - Shell\n",
      "08/22/2022  01:05 PM    <DIR>          Oracle\n",
      "07/08/2022  07:10 PM            87,294 projects.ipynb\n",
      "07/14/2022  02:11 PM         3,489,162 Python essentials.ipynb\n",
      "08/02/2022  12:17 PM           403,164 Python OOP.ipynb\n",
      "08/04/2022  11:28 AM            37,433 python real world examples.ipynb\n",
      "10/28/2022  02:22 PM             2,554 regval.tmp\n",
      "10/19/2021  10:58 AM    <DIR>          Saved Games\n",
      "12/19/2022  03:39 PM                 0 test108.txt\n",
      "12/19/2022  03:40 PM                 0 test1080.txt\n",
      "12/19/2022  03:42 PM                62 test20.txt\n",
      "12/22/2022  11:30 AM               255 test20021.txt\n",
      "12/19/2022  03:45 PM                47 test22.txt\n",
      "12/09/2022  11:35 AM             8,015 tic tac toe - game.ipynb\n",
      "12/07/2022  03:04 PM             1,896 top file.py\n",
      "05/04/2022  03:54 PM            16,652 Untitled.ipynb\n",
      "05/04/2022  05:54 PM             7,377 Untitled1.ipynb\n",
      "12/07/2022  12:19 PM               804 untitled1.py\n",
      "12/17/2022  04:50 PM                72 Untitled10.ipynb\n",
      "06/10/2022  11:25 AM             1,173 Untitled2.ipynb\n",
      "12/07/2022  12:49 PM               507 untitled2.py\n",
      "07/05/2022  03:53 PM             1,057 Untitled3.ipynb\n",
      "07/08/2022  03:03 PM               588 Untitled4.ipynb\n",
      "07/22/2022  04:20 PM               588 Untitled5.ipynb\n",
      "07/25/2022  07:00 PM             8,520 Untitled6.ipynb\n",
      "07/25/2022  07:00 PM             9,853 Untitled7.ipynb\n",
      "11/11/2022  09:16 PM             1,269 Untitled8.ipynb\n",
      "12/15/2022  02:08 PM            28,461 Untitled9.ipynb\n",
      "11/15/2022  09:41 PM             2,690 WCTT - Well Cost Tracking Tool.ipynb\n",
      "11/29/2022  03:39 PM             3,161 WCTT final.py\n",
      "11/29/2022  03:53 PM            10,700 with more feature.py\n",
      "              53 File(s)     10,127,309 bytes\n",
      "              25 Dir(s)  365,758,062,592 bytes free\n"
     ]
    }
   ],
   "source": [
    "%ls"
   ]
  },
  {
   "cell_type": "code",
   "execution_count": 38,
   "id": "699cc297",
   "metadata": {},
   "outputs": [
    {
     "ename": "SyntaxError",
     "evalue": "invalid syntax (Temp/ipykernel_6532/952713657.py, line 1)",
     "output_type": "error",
     "traceback": [
      "\u001b[1;36m  File \u001b[1;32m\"C:\\Users\\NIKSHI~1.VOR\\AppData\\Local\\Temp/ipykernel_6532/952713657.py\"\u001b[1;36m, line \u001b[1;32m1\u001b[0m\n\u001b[1;33m    for i in %ls:\u001b[0m\n\u001b[1;37m             ^\u001b[0m\n\u001b[1;31mSyntaxError\u001b[0m\u001b[1;31m:\u001b[0m invalid syntax\n"
     ]
    }
   ],
   "source": [
    "for i in %ls:\n",
    "    print(i)"
   ]
  },
  {
   "cell_type": "code",
   "execution_count": 39,
   "id": "a157d723",
   "metadata": {},
   "outputs": [],
   "source": [
    "import os"
   ]
  },
  {
   "cell_type": "code",
   "execution_count": 40,
   "id": "a41e68cd",
   "metadata": {},
   "outputs": [],
   "source": [
    "f.close()"
   ]
  },
  {
   "cell_type": "code",
   "execution_count": 41,
   "id": "08c8287b",
   "metadata": {},
   "outputs": [],
   "source": [
    "os.remove(\"test20021.txt\")"
   ]
  },
  {
   "cell_type": "code",
   "execution_count": 42,
   "id": "82b08c1b",
   "metadata": {},
   "outputs": [
    {
     "name": "stdout",
     "output_type": "stream",
     "text": [
      " Volume in drive C is Local Disk\n",
      " Volume Serial Number is 7E89-5E2E\n",
      "\n",
      " Directory of C:\\Users\\Nikshit.Vora\n",
      "\n",
      "12/22/2022  11:41 AM    <DIR>          .\n",
      "12/22/2022  11:41 AM    <DIR>          ..\n",
      "06/30/2022  01:22 PM    <DIR>          .anaconda\n",
      "12/18/2022  09:53 PM    <DIR>          .conda\n",
      "05/04/2022  11:32 AM               245 .condarc\n",
      "05/04/2022  11:24 AM    <DIR>          .continuum\n",
      "02/25/2022  06:01 PM    <DIR>          .idlerc\n",
      "12/19/2022  03:34 PM    <DIR>          .ipynb_checkpoints\n",
      "05/04/2022  11:54 AM    <DIR>          .ipython\n",
      "05/04/2022  04:00 PM    <DIR>          .jupyter\n",
      "05/04/2022  06:50 PM    <DIR>          .matplotlib\n",
      "03/30/2022  07:29 AM    <DIR>          .ms-ad\n",
      "04/24/2022  10:54 AM    <DIR>          .plotly\n",
      "12/09/2022  01:15 PM    <DIR>          .spyder-py3\n",
      "12/16/2022  10:49 AM            27,060 1. Python basics.ipynb\n",
      "12/16/2022  04:17 PM            59,788 2. String, List, Indexing.ipynb\n",
      "12/17/2022  04:48 PM            31,122 3. Tuple, Set, Dict.ipynb\n",
      "10/19/2021  10:58 AM    <DIR>          3D Objects\n",
      "12/17/2022  10:00 PM         1,937,584 4. If & else, loops, range.ipynb\n",
      "12/18/2022  07:09 PM            48,221 5. Function & Examples.ipynb\n",
      "12/18/2022  09:53 PM            29,319 6. Function, args, kwargs, lambda, iter.ipynb\n",
      "12/19/2022  03:34 PM            58,351 7. iterators & generators.ipynb\n",
      "12/22/2022  11:40 AM            43,425 8. File Handling.ipynb\n",
      "12/18/2022  05:29 PM    <DIR>          Anaconda3\n",
      "12/07/2022  11:26 AM             6,763 Automation of Downloading Excel Files from EPW CTT.py\n",
      "05/06/2022  07:41 PM            19,172 Bm Automation final.ipynb\n",
      "05/06/2022  07:41 PM            16,652 BM automation.ipynb\n",
      "07/15/2022  02:03 PM             5,193 BMMMMMMMMM.ipynb\n",
      "12/18/2022  05:03 PM           893,756 combined.pdf\n",
      "10/28/2022  02:22 PM            44,485 command.tmp\n",
      "10/19/2021  10:58 AM    <DIR>          Contacts\n",
      "07/22/2022  06:54 PM            41,314 Data extraction using python.ipynb\n",
      "12/20/2022  08:21 PM    <DIR>          Desktop\n",
      "12/02/2022  06:23 PM             1,626 dic.py\n",
      "12/22/2022  10:45 AM    <DIR>          Downloads\n",
      "11/29/2022  04:39 PM             5,802 final one for M.py\n",
      "12/01/2022  06:29 PM             7,273 final one with zero logic.py\n",
      "10/28/2022  02:22 PM         2,674,019 GlobalProtectLogs.zip\n",
      "10/28/2022  02:22 PM                 0 GlobalProtectLogs_is_ready\n",
      "07/15/2022  06:24 PM             1,724 HCEA Automation.ipynb\n",
      "06/24/2022  03:27 PM    <DIR>          Jedi\n",
      "10/19/2021  10:58 AM    <DIR>          Links\n",
      "02/02/2022  07:23 PM    <DIR>          Microsoft\n",
      "09/04/2022  09:47 AM    <DIR>          New project\n",
      "11/16/2022  10:00 PM             1,274 New_Project.py\n",
      "07/25/2022  07:00 PM            19,873 NEWWWWWWWWWWWWWW.ipynb\n",
      "11/21/2022  09:36 PM            36,984 number 21 game.ipynb\n",
      "12/22/2022  10:15 AM    <DIR>          OneDrive - Shell\n",
      "08/22/2022  01:05 PM    <DIR>          Oracle\n",
      "07/08/2022  07:10 PM            87,294 projects.ipynb\n",
      "07/14/2022  02:11 PM         3,489,162 Python essentials.ipynb\n",
      "08/02/2022  12:17 PM           403,164 Python OOP.ipynb\n",
      "08/04/2022  11:28 AM            37,433 python real world examples.ipynb\n",
      "10/28/2022  02:22 PM             2,554 regval.tmp\n",
      "10/19/2021  10:58 AM    <DIR>          Saved Games\n",
      "12/19/2022  03:39 PM                 0 test108.txt\n",
      "12/19/2022  03:40 PM                 0 test1080.txt\n",
      "12/19/2022  03:42 PM                62 test20.txt\n",
      "12/19/2022  03:45 PM                47 test22.txt\n",
      "12/09/2022  11:35 AM             8,015 tic tac toe - game.ipynb\n",
      "12/07/2022  03:04 PM             1,896 top file.py\n",
      "05/04/2022  03:54 PM            16,652 Untitled.ipynb\n",
      "05/04/2022  05:54 PM             7,377 Untitled1.ipynb\n",
      "12/07/2022  12:19 PM               804 untitled1.py\n",
      "12/17/2022  04:50 PM                72 Untitled10.ipynb\n",
      "06/10/2022  11:25 AM             1,173 Untitled2.ipynb\n",
      "12/07/2022  12:49 PM               507 untitled2.py\n",
      "07/05/2022  03:53 PM             1,057 Untitled3.ipynb\n",
      "07/08/2022  03:03 PM               588 Untitled4.ipynb\n",
      "07/22/2022  04:20 PM               588 Untitled5.ipynb\n",
      "07/25/2022  07:00 PM             8,520 Untitled6.ipynb\n",
      "07/25/2022  07:00 PM             9,853 Untitled7.ipynb\n",
      "11/11/2022  09:16 PM             1,269 Untitled8.ipynb\n",
      "12/15/2022  02:08 PM            28,461 Untitled9.ipynb\n",
      "11/15/2022  09:41 PM             2,690 WCTT - Well Cost Tracking Tool.ipynb\n",
      "11/29/2022  03:39 PM             3,161 WCTT final.py\n",
      "11/29/2022  03:53 PM            10,700 with more feature.py\n",
      "              52 File(s)     10,134,124 bytes\n",
      "              25 Dir(s)  365,758,513,152 bytes free\n"
     ]
    }
   ],
   "source": [
    "%ls"
   ]
  },
  {
   "cell_type": "code",
   "execution_count": 43,
   "id": "11f179d5",
   "metadata": {},
   "outputs": [
    {
     "data": {
      "text/plain": [
       "'C:\\\\Users\\\\Nikshit.Vora'"
      ]
     },
     "execution_count": 43,
     "metadata": {},
     "output_type": "execute_result"
    }
   ],
   "source": [
    "os.getcwd()"
   ]
  },
  {
   "cell_type": "code",
   "execution_count": 44,
   "id": "c6e1574e",
   "metadata": {},
   "outputs": [
    {
     "data": {
      "text/plain": [
       "'C:\\\\Users\\\\Nikshit.Vora'"
      ]
     },
     "execution_count": 44,
     "metadata": {},
     "output_type": "execute_result"
    }
   ],
   "source": [
    "pwd()"
   ]
  },
  {
   "cell_type": "code",
   "execution_count": 45,
   "id": "17cd23fd",
   "metadata": {},
   "outputs": [
    {
     "data": {
      "text/plain": [
       "<function nt.listdir(path=None)>"
      ]
     },
     "execution_count": 45,
     "metadata": {},
     "output_type": "execute_result"
    }
   ],
   "source": [
    "os.listdir"
   ]
  },
  {
   "cell_type": "code",
   "execution_count": 46,
   "id": "e5390e6c",
   "metadata": {},
   "outputs": [
    {
     "data": {
      "text/plain": [
       "['.anaconda',\n",
       " '.conda',\n",
       " '.condarc',\n",
       " '.continuum',\n",
       " '.idlerc',\n",
       " '.ipynb_checkpoints',\n",
       " '.ipython',\n",
       " '.jupyter',\n",
       " '.matplotlib',\n",
       " '.ms-ad',\n",
       " '.plotly',\n",
       " '.spyder-py3',\n",
       " '1. Python basics.ipynb',\n",
       " '2. String, List, Indexing.ipynb',\n",
       " '3. Tuple, Set, Dict.ipynb',\n",
       " '3D Objects',\n",
       " '4. If & else, loops, range.ipynb',\n",
       " '5. Function & Examples.ipynb',\n",
       " '6. Function, args, kwargs, lambda, iter.ipynb',\n",
       " '7. iterators & generators.ipynb',\n",
       " '8. File Handling.ipynb',\n",
       " 'Anaconda3',\n",
       " 'AppData',\n",
       " 'Application Data',\n",
       " 'Automation of Downloading Excel Files from EPW CTT.py',\n",
       " 'Bm Automation final.ipynb',\n",
       " 'BM automation.ipynb',\n",
       " 'BMMMMMMMMM.ipynb',\n",
       " 'combined.pdf',\n",
       " 'command.tmp',\n",
       " 'Contacts',\n",
       " 'Cookies',\n",
       " 'Data extraction using python.ipynb',\n",
       " 'Desktop',\n",
       " 'dic.py',\n",
       " 'Downloads',\n",
       " 'final one for M.py',\n",
       " 'final one with zero logic.py',\n",
       " 'GlobalProtectLogs.zip',\n",
       " 'GlobalProtectLogs_is_ready',\n",
       " 'HCEA Automation.ipynb',\n",
       " 'IntelGraphicsProfiles',\n",
       " 'Jedi',\n",
       " 'Links',\n",
       " 'Local Settings',\n",
       " 'Microsoft',\n",
       " 'My Documents',\n",
       " 'NetHood',\n",
       " 'New project',\n",
       " 'NEWWWWWWWWWWWWWW.ipynb',\n",
       " 'New_Project.py',\n",
       " 'NTUSER.DAT',\n",
       " 'ntuser.dat.LOG1',\n",
       " 'ntuser.dat.LOG2',\n",
       " 'NTUSER.DAT{53b39e88-18c4-11ea-a811-000d3aa4692b}.TM.blf',\n",
       " 'NTUSER.DAT{53b39e88-18c4-11ea-a811-000d3aa4692b}.TMContainer00000000000000000001.regtrans-ms',\n",
       " 'NTUSER.DAT{53b39e88-18c4-11ea-a811-000d3aa4692b}.TMContainer00000000000000000002.regtrans-ms',\n",
       " 'ntuser.ini',\n",
       " 'number 21 game.ipynb',\n",
       " 'OneDrive - Shell',\n",
       " 'Oracle',\n",
       " 'PrintHood',\n",
       " 'projects.ipynb',\n",
       " 'Python essentials.ipynb',\n",
       " 'Python OOP.ipynb',\n",
       " 'python real world examples.ipynb',\n",
       " 'Recent',\n",
       " 'regval.tmp',\n",
       " 'Saved Games',\n",
       " 'SendTo',\n",
       " 'Start Menu',\n",
       " 'Templates',\n",
       " 'test108.txt',\n",
       " 'test1080.txt',\n",
       " 'test20.txt',\n",
       " 'test22.txt',\n",
       " 'tic tac toe - game.ipynb',\n",
       " 'top file.py',\n",
       " 'Untitled.ipynb',\n",
       " 'Untitled1.ipynb',\n",
       " 'untitled1.py',\n",
       " 'Untitled10.ipynb',\n",
       " 'Untitled2.ipynb',\n",
       " 'untitled2.py',\n",
       " 'Untitled3.ipynb',\n",
       " 'Untitled4.ipynb',\n",
       " 'Untitled5.ipynb',\n",
       " 'Untitled6.ipynb',\n",
       " 'Untitled7.ipynb',\n",
       " 'Untitled8.ipynb',\n",
       " 'Untitled9.ipynb',\n",
       " 'WCTT - Well Cost Tracking Tool.ipynb',\n",
       " 'WCTT final.py',\n",
       " 'with more feature.py']"
      ]
     },
     "execution_count": 46,
     "metadata": {},
     "output_type": "execute_result"
    }
   ],
   "source": [
    "os.listdir()"
   ]
  },
  {
   "cell_type": "code",
   "execution_count": 47,
   "id": "33150bc9",
   "metadata": {},
   "outputs": [
    {
     "data": {
      "text/plain": [
       "'C:\\\\Users\\\\Nikshit.Vora'"
      ]
     },
     "execution_count": 47,
     "metadata": {},
     "output_type": "execute_result"
    }
   ],
   "source": [
    "os.getcwd()"
   ]
  },
  {
   "cell_type": "code",
   "execution_count": null,
   "id": "afbcd274",
   "metadata": {},
   "outputs": [],
   "source": []
  }
 ],
 "metadata": {
  "kernelspec": {
   "display_name": "Python 3 (ipykernel)",
   "language": "python",
   "name": "python3"
  },
  "language_info": {
   "codemirror_mode": {
    "name": "ipython",
    "version": 3
   },
   "file_extension": ".py",
   "mimetype": "text/x-python",
   "name": "python",
   "nbconvert_exporter": "python",
   "pygments_lexer": "ipython3",
   "version": "3.9.7"
  }
 },
 "nbformat": 4,
 "nbformat_minor": 5
}
