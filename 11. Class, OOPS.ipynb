{
 "cells": [
  {
   "cell_type": "code",
   "execution_count": 1,
   "id": "018a82cb",
   "metadata": {},
   "outputs": [
    {
     "name": "stdout",
     "output_type": "stream",
     "text": [
      "1\n",
      "2\n",
      "3\n",
      "4\n",
      "5\n",
      "6\n",
      "7\n",
      "8\n",
      "9\n"
     ]
    }
   ],
   "source": [
    "l = [1,2,3,4,5,6,7,8,9]\n",
    "for i in l:\n",
    "    print(i)"
   ]
  },
  {
   "cell_type": "code",
   "execution_count": 3,
   "id": "10d7773b",
   "metadata": {},
   "outputs": [
    {
     "ename": "IndentationError",
     "evalue": "expected an indented block (Temp/ipykernel_2332/2524229445.py, line 1)",
     "output_type": "error",
     "traceback": [
      "\u001b[1;36m  File \u001b[1;32m\"C:\\Users\\NIKSHI~1.VOR\\AppData\\Local\\Temp/ipykernel_2332/2524229445.py\"\u001b[1;36m, line \u001b[1;32m1\u001b[0m\n\u001b[1;33m    class car:\u001b[0m\n\u001b[1;37m              ^\u001b[0m\n\u001b[1;31mIndentationError\u001b[0m\u001b[1;31m:\u001b[0m expected an indented block\n"
     ]
    }
   ],
   "source": [
    "class car:"
   ]
  },
  {
   "cell_type": "code",
   "execution_count": 4,
   "id": "6264bf5a",
   "metadata": {},
   "outputs": [],
   "source": [
    "class car:\n",
    "    pass"
   ]
  },
  {
   "cell_type": "code",
   "execution_count": 9,
   "id": "4553d38f",
   "metadata": {},
   "outputs": [],
   "source": [
    "class car:\n",
    "    def __init__(self,brand_name,fuel_type,body_type):\n",
    "        self.brand_name=brand_name\n",
    "        self.fuel_type=fuel_type\n",
    "        self.body_type=body_type\n",
    "        \n",
    "    def des_car(self):\n",
    "        print(self.brand_name,self.fuel_type,self.body_type)"
   ]
  },
  {
   "cell_type": "code",
   "execution_count": 10,
   "id": "b5d1edb7",
   "metadata": {},
   "outputs": [
    {
     "ename": "TypeError",
     "evalue": "__init__() missing 3 required positional arguments: 'brand_name', 'fuel_type', and 'body_type'",
     "output_type": "error",
     "traceback": [
      "\u001b[1;31m---------------------------------------------------------------------------\u001b[0m",
      "\u001b[1;31mTypeError\u001b[0m                                 Traceback (most recent call last)",
      "\u001b[1;32mC:\\Users\\NIKSHI~1.VOR\\AppData\\Local\\Temp/ipykernel_2332/2739734105.py\u001b[0m in \u001b[0;36m<module>\u001b[1;34m\u001b[0m\n\u001b[1;32m----> 1\u001b[1;33m \u001b[0minnova\u001b[0m \u001b[1;33m=\u001b[0m \u001b[0mcar\u001b[0m\u001b[1;33m(\u001b[0m\u001b[1;33m)\u001b[0m\u001b[1;33m\u001b[0m\u001b[1;33m\u001b[0m\u001b[0m\n\u001b[0m",
      "\u001b[1;31mTypeError\u001b[0m: __init__() missing 3 required positional arguments: 'brand_name', 'fuel_type', and 'body_type'"
     ]
    }
   ],
   "source": [
    "innova = car()"
   ]
  },
  {
   "cell_type": "code",
   "execution_count": 11,
   "id": "ee09756b",
   "metadata": {},
   "outputs": [],
   "source": [
    "innova = car(\"Toyoto\",\"Petrol\",\"SUV\")"
   ]
  },
  {
   "cell_type": "code",
   "execution_count": 12,
   "id": "3895bf68",
   "metadata": {},
   "outputs": [
    {
     "name": "stdout",
     "output_type": "stream",
     "text": [
      "Toyoto Petrol SUV\n"
     ]
    }
   ],
   "source": [
    "innova.des_car()"
   ]
  },
  {
   "cell_type": "code",
   "execution_count": 13,
   "id": "c7e32bd7",
   "metadata": {},
   "outputs": [
    {
     "data": {
      "text/plain": [
       "'Toyoto'"
      ]
     },
     "execution_count": 13,
     "metadata": {},
     "output_type": "execute_result"
    }
   ],
   "source": [
    "innova.brand_name"
   ]
  },
  {
   "cell_type": "code",
   "execution_count": 15,
   "id": "7704446e",
   "metadata": {},
   "outputs": [
    {
     "data": {
      "text/plain": [
       "'Toyoto'"
      ]
     },
     "execution_count": 15,
     "metadata": {},
     "output_type": "execute_result"
    }
   ],
   "source": [
    "innova.brand_name"
   ]
  },
  {
   "cell_type": "code",
   "execution_count": 16,
   "id": "bbd276a0",
   "metadata": {},
   "outputs": [],
   "source": [
    "nexon = car(\"TATA\",\"CNG\",\"Min SUV\")"
   ]
  },
  {
   "cell_type": "code",
   "execution_count": 17,
   "id": "8aee8f94",
   "metadata": {},
   "outputs": [],
   "source": [
    "fortuner = car(\"Toyota\",\"Diesel\",\"SUV\")"
   ]
  },
  {
   "cell_type": "code",
   "execution_count": 18,
   "id": "66f698fd",
   "metadata": {},
   "outputs": [
    {
     "name": "stdout",
     "output_type": "stream",
     "text": [
      "<class 'int'>\n"
     ]
    }
   ],
   "source": [
    "a = 10\n",
    "print(type(a))"
   ]
  },
  {
   "cell_type": "code",
   "execution_count": 28,
   "id": "c09a0bf4",
   "metadata": {},
   "outputs": [],
   "source": [
    "class car:\n",
    "    def __init__(self,body_type,engine,fuel_type):\n",
    "        self.body_type=body_type\n",
    "        self.engine=engine\n",
    "        self.fuel_type=fuel_type\n",
    "        \n",
    "    def test(self):\n",
    "        print(\"this is my first methode in my car class.........\")"
   ]
  },
  {
   "cell_type": "code",
   "execution_count": 29,
   "id": "30b61119",
   "metadata": {},
   "outputs": [
    {
     "name": "stdout",
     "output_type": "stream",
     "text": [
      "ghh\n"
     ]
    }
   ],
   "source": [
    "a = input()"
   ]
  },
  {
   "cell_type": "code",
   "execution_count": 30,
   "id": "841e57a5",
   "metadata": {},
   "outputs": [],
   "source": [
    "n = \"nikshit\""
   ]
  },
  {
   "cell_type": "code",
   "execution_count": 31,
   "id": "893a7303",
   "metadata": {},
   "outputs": [
    {
     "name": "stdout",
     "output_type": "stream",
     "text": [
      "<class 'str'>\n"
     ]
    }
   ],
   "source": [
    "print(type(n))"
   ]
  },
  {
   "cell_type": "code",
   "execution_count": 32,
   "id": "194e0c69",
   "metadata": {},
   "outputs": [],
   "source": [
    "fortuner = car(\"suv\",\"bs4\",\"Petrol\")"
   ]
  },
  {
   "cell_type": "code",
   "execution_count": 33,
   "id": "894cedec",
   "metadata": {},
   "outputs": [
    {
     "data": {
      "text/plain": [
       "'suv'"
      ]
     },
     "execution_count": 33,
     "metadata": {},
     "output_type": "execute_result"
    }
   ],
   "source": [
    "fortuner.body_type"
   ]
  },
  {
   "cell_type": "code",
   "execution_count": 34,
   "id": "946886d3",
   "metadata": {},
   "outputs": [
    {
     "data": {
      "text/plain": [
       "'bs4'"
      ]
     },
     "execution_count": 34,
     "metadata": {},
     "output_type": "execute_result"
    }
   ],
   "source": [
    "fortuner.engine"
   ]
  },
  {
   "cell_type": "code",
   "execution_count": 36,
   "id": "810b584c",
   "metadata": {},
   "outputs": [],
   "source": [
    "class car:\n",
    "    def __init__(self,body_type,engine,fuel_type):\n",
    "        self.body_type1=body_type\n",
    "        self.engine1=engine\n",
    "        self.fuel_type1=fuel_type\n",
    "        \n",
    "    def test(self):\n",
    "        print(\"this is my first methode in my car class.........\")\n",
    "        \n",
    "fortuner = car(\"suv\",\"bs4\",\"Petrol\")"
   ]
  },
  {
   "cell_type": "code",
   "execution_count": 38,
   "id": "a632611f",
   "metadata": {},
   "outputs": [
    {
     "ename": "AttributeError",
     "evalue": "'car' object has no attribute 'body_type'",
     "output_type": "error",
     "traceback": [
      "\u001b[1;31m---------------------------------------------------------------------------\u001b[0m",
      "\u001b[1;31mAttributeError\u001b[0m                            Traceback (most recent call last)",
      "\u001b[1;32mC:\\Users\\NIKSHI~1.VOR\\AppData\\Local\\Temp/ipykernel_2332/3138332200.py\u001b[0m in \u001b[0;36m<module>\u001b[1;34m\u001b[0m\n\u001b[1;32m----> 1\u001b[1;33m \u001b[0mfortuner\u001b[0m\u001b[1;33m.\u001b[0m\u001b[0mbody_type\u001b[0m\u001b[1;33m\u001b[0m\u001b[1;33m\u001b[0m\u001b[0m\n\u001b[0m",
      "\u001b[1;31mAttributeError\u001b[0m: 'car' object has no attribute 'body_type'"
     ]
    }
   ],
   "source": [
    "fortuner.body_type"
   ]
  },
  {
   "cell_type": "code",
   "execution_count": 39,
   "id": "4d844144",
   "metadata": {},
   "outputs": [
    {
     "data": {
      "text/plain": [
       "'suv'"
      ]
     },
     "execution_count": 39,
     "metadata": {},
     "output_type": "execute_result"
    }
   ],
   "source": [
    "fortuner.body_type1"
   ]
  },
  {
   "cell_type": "code",
   "execution_count": 40,
   "id": "79b1b050",
   "metadata": {},
   "outputs": [],
   "source": [
    "class car:\n",
    "    def __init__(self,body_type,engine,fuel_type):\n",
    "        self.a=body_type\n",
    "        self.b=engine\n",
    "        self.c=fuel_type\n",
    "        \n",
    "    def test(self):\n",
    "        print(\"this is my first methode in my car class.........\")\n",
    "        \n",
    "fortuner = car(\"suv\",\"bs4\",\"Petrol\")"
   ]
  },
  {
   "cell_type": "code",
   "execution_count": 41,
   "id": "31f19db3",
   "metadata": {},
   "outputs": [
    {
     "data": {
      "text/plain": [
       "'suv'"
      ]
     },
     "execution_count": 41,
     "metadata": {},
     "output_type": "execute_result"
    }
   ],
   "source": [
    "fortuner.a"
   ]
  },
  {
   "cell_type": "code",
   "execution_count": 42,
   "id": "16edf74b",
   "metadata": {},
   "outputs": [],
   "source": [
    "class car:\n",
    "    def __init__(Nik,body_type,engine,fuel_type):\n",
    "        Nik.a=body_type\n",
    "        Nik.b=engine\n",
    "        Nik.c=fuel_type\n",
    "        \n",
    "    def test(Nik):\n",
    "        print(\"this is my first methode in my car class.........\")\n",
    "        \n",
    "fortuner = car(\"suv\",\"bs4\",\"Petrol\")"
   ]
  },
  {
   "cell_type": "code",
   "execution_count": 43,
   "id": "947ee28f",
   "metadata": {},
   "outputs": [
    {
     "data": {
      "text/plain": [
       "'suv'"
      ]
     },
     "execution_count": 43,
     "metadata": {},
     "output_type": "execute_result"
    }
   ],
   "source": [
    "fortuner.a"
   ]
  },
  {
   "cell_type": "code",
   "execution_count": 44,
   "id": "f7e64d7d",
   "metadata": {},
   "outputs": [],
   "source": [
    "class car:\n",
    "    def test(self):\n",
    "        print(\"this is without __init____\")"
   ]
  },
  {
   "cell_type": "code",
   "execution_count": 45,
   "id": "56c9e747",
   "metadata": {},
   "outputs": [],
   "source": [
    "x = car()"
   ]
  },
  {
   "cell_type": "code",
   "execution_count": 46,
   "id": "d14c563d",
   "metadata": {},
   "outputs": [
    {
     "name": "stdout",
     "output_type": "stream",
     "text": [
      "this is without __init____\n"
     ]
    }
   ],
   "source": [
    "x.test()"
   ]
  },
  {
   "cell_type": "code",
   "execution_count": 47,
   "id": "0178fb5b",
   "metadata": {},
   "outputs": [
    {
     "data": {
      "text/plain": [
       "<bound method car.test of <__main__.car object at 0x000001F85B7E7DF0>>"
      ]
     },
     "execution_count": 47,
     "metadata": {},
     "output_type": "execute_result"
    }
   ],
   "source": [
    "x.test"
   ]
  },
  {
   "cell_type": "code",
   "execution_count": 48,
   "id": "a0be82cf",
   "metadata": {},
   "outputs": [
    {
     "name": "stdout",
     "output_type": "stream",
     "text": [
      "this is without __init____\n"
     ]
    }
   ],
   "source": [
    "x.test()"
   ]
  },
  {
   "cell_type": "code",
   "execution_count": 50,
   "id": "0399f694",
   "metadata": {},
   "outputs": [],
   "source": [
    "class car:\n",
    "    def test(self,b,c):\n",
    "        print(\"this is without __init____\")\n",
    "        \n",
    "x = car()"
   ]
  },
  {
   "cell_type": "code",
   "execution_count": 51,
   "id": "6a3979be",
   "metadata": {},
   "outputs": [
    {
     "name": "stdout",
     "output_type": "stream",
     "text": [
      "this is without __init____\n"
     ]
    }
   ],
   "source": [
    "x.test(6,7)"
   ]
  },
  {
   "cell_type": "code",
   "execution_count": 52,
   "id": "c22fe7dd",
   "metadata": {},
   "outputs": [
    {
     "data": {
      "text/plain": [
       "__main__.car"
      ]
     },
     "execution_count": 52,
     "metadata": {},
     "output_type": "execute_result"
    }
   ],
   "source": [
    "type(x)"
   ]
  },
  {
   "cell_type": "code",
   "execution_count": 53,
   "id": "9ded4223",
   "metadata": {},
   "outputs": [
    {
     "name": "stdout",
     "output_type": "stream",
     "text": [
      "<class '__main__.car'>\n"
     ]
    }
   ],
   "source": [
    "print(type(x))"
   ]
  },
  {
   "cell_type": "code",
   "execution_count": 55,
   "id": "ae122550",
   "metadata": {},
   "outputs": [],
   "source": [
    "class list_parser():\n",
    "    \n",
    "    def parser(self,a):\n",
    "        if type(a)==list:\n",
    "            for i in a:\n",
    "                print(i)"
   ]
  },
  {
   "cell_type": "code",
   "execution_count": 56,
   "id": "09191841",
   "metadata": {},
   "outputs": [],
   "source": [
    "c = list_parser()"
   ]
  },
  {
   "cell_type": "code",
   "execution_count": 57,
   "id": "410ecc25",
   "metadata": {},
   "outputs": [
    {
     "name": "stdout",
     "output_type": "stream",
     "text": [
      "1\n",
      "2\n",
      "3\n",
      "45\n",
      "5\n",
      "6\n",
      "8\n",
      "99\n",
      "100\n"
     ]
    }
   ],
   "source": [
    "c.parser([1,2,3,45,5,6,8,99,100])"
   ]
  },
  {
   "cell_type": "code",
   "execution_count": 59,
   "id": "e05cca58",
   "metadata": {},
   "outputs": [],
   "source": [
    "class list_parser():\n",
    "    \n",
    "    def parser(self,a):\n",
    "        if type(a)==list:\n",
    "            for i in a:\n",
    "                print(i)\n",
    "                \n",
    "    def reverse_list(self,a):\n",
    "        if type(a)==list:\n",
    "            return a[::-1]\n",
    "        \n",
    "c = list_parser()"
   ]
  },
  {
   "cell_type": "code",
   "execution_count": 62,
   "id": "ad9a9840",
   "metadata": {},
   "outputs": [
    {
     "data": {
      "text/plain": [
       "[8, 6, 65, 45, 3, 2, 1]"
      ]
     },
     "execution_count": 62,
     "metadata": {},
     "output_type": "execute_result"
    }
   ],
   "source": [
    "c.reverse_list([1,2,3,45,65,6,8])"
   ]
  },
  {
   "cell_type": "code",
   "execution_count": 63,
   "id": "8571def2",
   "metadata": {},
   "outputs": [],
   "source": [
    "l  = [1,2,3,4,5,6,7,8,9,10,11,12,13,14,15,16,17,18,19,20]"
   ]
  },
  {
   "cell_type": "code",
   "execution_count": 65,
   "id": "ffd6e194",
   "metadata": {},
   "outputs": [],
   "source": [
    "class list_parser():\n",
    "    \n",
    "    def __init__(self,l):\n",
    "        self.l=l\n",
    "    \n",
    "    def parser(self):\n",
    "        if type(self.l)==list:\n",
    "            for i in self.l:\n",
    "                print(i)\n",
    "                \n",
    "    def reverse_list(self):\n",
    "        if type(self.l)==list:\n",
    "            return self.l[::-1]\n",
    "        \n",
    "c = list_parser([1,2,3,4,5,6,8])"
   ]
  },
  {
   "cell_type": "code",
   "execution_count": 66,
   "id": "32cd380c",
   "metadata": {},
   "outputs": [
    {
     "name": "stdout",
     "output_type": "stream",
     "text": [
      "1\n",
      "2\n",
      "3\n",
      "4\n",
      "5\n",
      "6\n",
      "8\n"
     ]
    }
   ],
   "source": [
    "c.parser()"
   ]
  },
  {
   "cell_type": "code",
   "execution_count": 67,
   "id": "6071ee66",
   "metadata": {},
   "outputs": [
    {
     "data": {
      "text/plain": [
       "[8, 6, 5, 4, 3, 2, 1]"
      ]
     },
     "execution_count": 67,
     "metadata": {},
     "output_type": "execute_result"
    }
   ],
   "source": [
    "c.reverse_list()"
   ]
  },
  {
   "cell_type": "code",
   "execution_count": 77,
   "id": "121f0265",
   "metadata": {},
   "outputs": [],
   "source": [
    "class dic:\n",
    "    def __init__(self,a):\n",
    "        self.a=a\n",
    "        \n",
    "    def unwrap_keys(self):\n",
    "        for i in self.a.keys():\n",
    "            print(i)\n",
    "            \n",
    "    def unwrap_values(self):\n",
    "        for i in self.a.values():\n",
    "            print(i)\n",
    "            \n",
    "    def add(self):\n",
    "        a=input(\"enter the key: \")\n",
    "        b=input(\"enter the value: \")\n",
    "        \n",
    "        self.a[a]=b\n",
    "        \n",
    "    def p_d(self):\n",
    "        print(self.a)\n",
    "        "
   ]
  },
  {
   "cell_type": "code",
   "execution_count": 78,
   "id": "c81a2638",
   "metadata": {},
   "outputs": [],
   "source": [
    "a={1:2,3:4,5:6}\n",
    "c = dic(a)"
   ]
  },
  {
   "cell_type": "code",
   "execution_count": 79,
   "id": "3aed8160",
   "metadata": {},
   "outputs": [
    {
     "name": "stdout",
     "output_type": "stream",
     "text": [
      "1\n",
      "3\n",
      "5\n"
     ]
    }
   ],
   "source": [
    "c.unwrap_keys()"
   ]
  },
  {
   "cell_type": "code",
   "execution_count": 80,
   "id": "4af47152",
   "metadata": {},
   "outputs": [
    {
     "name": "stdout",
     "output_type": "stream",
     "text": [
      "2\n",
      "4\n",
      "6\n"
     ]
    }
   ],
   "source": [
    "c.unwrap_values()"
   ]
  },
  {
   "cell_type": "code",
   "execution_count": 81,
   "id": "5763b829",
   "metadata": {},
   "outputs": [
    {
     "name": "stdout",
     "output_type": "stream",
     "text": [
      "enter the key: 7\n",
      "enter the value: 8\n"
     ]
    }
   ],
   "source": [
    "c.add()"
   ]
  },
  {
   "cell_type": "code",
   "execution_count": 82,
   "id": "385be8fb",
   "metadata": {},
   "outputs": [
    {
     "name": "stdout",
     "output_type": "stream",
     "text": [
      "{1: 2, 3: 4, 5: 6, '7': '8'}\n"
     ]
    }
   ],
   "source": [
    "c.p_d()"
   ]
  },
  {
   "cell_type": "code",
   "execution_count": 86,
   "id": "bdc8d151",
   "metadata": {},
   "outputs": [],
   "source": [
    "class dic:\n",
    "    def __init__(self,a):\n",
    "        self.a=a\n",
    "        \n",
    "    def unwrap_keys(self):\n",
    "        if self.dic_c():\n",
    "            for i in self.a.keys():\n",
    "                print(i)\n",
    "            \n",
    "    def unwrap_values(self):\n",
    "        if self.dic_c():\n",
    "            for i in self.a.values():\n",
    "                print(i)\n",
    "            \n",
    "    def add(self):\n",
    "        if self.dic_c():\n",
    "            a=input(\"enter the key: \")\n",
    "            b=input(\"enter the value: \")\n",
    "\n",
    "            self.a[a]=b\n",
    "        \n",
    "    def p_d(self):\n",
    "        if self.dic_c():\n",
    "            print(self.a)\n",
    "        \n",
    "    def dic_c(self):\n",
    "        if type(self.a)!=dict:\n",
    "            raise Exception(self.a,\"not a dictionary.....\")\n",
    "        else:\n",
    "            return 1"
   ]
  },
  {
   "cell_type": "code",
   "execution_count": 87,
   "id": "2cfc5fc3",
   "metadata": {},
   "outputs": [],
   "source": [
    "a={1:2,3:4,5:6}\n",
    "c = dic(a)"
   ]
  },
  {
   "cell_type": "code",
   "execution_count": 88,
   "id": "dcb04d0d",
   "metadata": {},
   "outputs": [
    {
     "data": {
      "text/plain": [
       "1"
      ]
     },
     "execution_count": 88,
     "metadata": {},
     "output_type": "execute_result"
    }
   ],
   "source": [
    "c.dic_c()"
   ]
  },
  {
   "cell_type": "code",
   "execution_count": 89,
   "id": "b602440e",
   "metadata": {},
   "outputs": [],
   "source": [
    "b=[1,2,3,4,5,6,7,8]\n",
    "c= dic(b)"
   ]
  },
  {
   "cell_type": "code",
   "execution_count": 90,
   "id": "e4d0258b",
   "metadata": {},
   "outputs": [
    {
     "ename": "Exception",
     "evalue": "([1, 2, 3, 4, 5, 6, 7, 8], 'not a dictionary.....')",
     "output_type": "error",
     "traceback": [
      "\u001b[1;31m---------------------------------------------------------------------------\u001b[0m",
      "\u001b[1;31mException\u001b[0m                                 Traceback (most recent call last)",
      "\u001b[1;32mC:\\Users\\NIKSHI~1.VOR\\AppData\\Local\\Temp/ipykernel_2332/1157436163.py\u001b[0m in \u001b[0;36m<module>\u001b[1;34m\u001b[0m\n\u001b[1;32m----> 1\u001b[1;33m \u001b[0mc\u001b[0m\u001b[1;33m.\u001b[0m\u001b[0mdic_c\u001b[0m\u001b[1;33m(\u001b[0m\u001b[1;33m)\u001b[0m\u001b[1;33m\u001b[0m\u001b[1;33m\u001b[0m\u001b[0m\n\u001b[0m",
      "\u001b[1;32mC:\\Users\\NIKSHI~1.VOR\\AppData\\Local\\Temp/ipykernel_2332/3820902984.py\u001b[0m in \u001b[0;36mdic_c\u001b[1;34m(self)\u001b[0m\n\u001b[0;32m     26\u001b[0m     \u001b[1;32mdef\u001b[0m \u001b[0mdic_c\u001b[0m\u001b[1;33m(\u001b[0m\u001b[0mself\u001b[0m\u001b[1;33m)\u001b[0m\u001b[1;33m:\u001b[0m\u001b[1;33m\u001b[0m\u001b[1;33m\u001b[0m\u001b[0m\n\u001b[0;32m     27\u001b[0m         \u001b[1;32mif\u001b[0m \u001b[0mtype\u001b[0m\u001b[1;33m(\u001b[0m\u001b[0mself\u001b[0m\u001b[1;33m.\u001b[0m\u001b[0ma\u001b[0m\u001b[1;33m)\u001b[0m\u001b[1;33m!=\u001b[0m\u001b[0mdict\u001b[0m\u001b[1;33m:\u001b[0m\u001b[1;33m\u001b[0m\u001b[1;33m\u001b[0m\u001b[0m\n\u001b[1;32m---> 28\u001b[1;33m             \u001b[1;32mraise\u001b[0m \u001b[0mException\u001b[0m\u001b[1;33m(\u001b[0m\u001b[0mself\u001b[0m\u001b[1;33m.\u001b[0m\u001b[0ma\u001b[0m\u001b[1;33m,\u001b[0m\u001b[1;34m\"not a dictionary.....\"\u001b[0m\u001b[1;33m)\u001b[0m\u001b[1;33m\u001b[0m\u001b[1;33m\u001b[0m\u001b[0m\n\u001b[0m\u001b[0;32m     29\u001b[0m         \u001b[1;32melse\u001b[0m\u001b[1;33m:\u001b[0m\u001b[1;33m\u001b[0m\u001b[1;33m\u001b[0m\u001b[0m\n\u001b[0;32m     30\u001b[0m             \u001b[1;32mreturn\u001b[0m \u001b[1;36m1\u001b[0m\u001b[1;33m\u001b[0m\u001b[1;33m\u001b[0m\u001b[0m\n",
      "\u001b[1;31mException\u001b[0m: ([1, 2, 3, 4, 5, 6, 7, 8], 'not a dictionary.....')"
     ]
    }
   ],
   "source": [
    "c.dic_c()"
   ]
  },
  {
   "cell_type": "code",
   "execution_count": 91,
   "id": "8a807141",
   "metadata": {},
   "outputs": [
    {
     "ename": "Exception",
     "evalue": "([1, 2, 3, 4, 5, 6, 7, 8], 'not a dictionary.....')",
     "output_type": "error",
     "traceback": [
      "\u001b[1;31m---------------------------------------------------------------------------\u001b[0m",
      "\u001b[1;31mException\u001b[0m                                 Traceback (most recent call last)",
      "\u001b[1;32mC:\\Users\\NIKSHI~1.VOR\\AppData\\Local\\Temp/ipykernel_2332/2521352801.py\u001b[0m in \u001b[0;36m<module>\u001b[1;34m\u001b[0m\n\u001b[1;32m----> 1\u001b[1;33m \u001b[0mc\u001b[0m\u001b[1;33m.\u001b[0m\u001b[0mp_d\u001b[0m\u001b[1;33m(\u001b[0m\u001b[1;33m)\u001b[0m\u001b[1;33m\u001b[0m\u001b[1;33m\u001b[0m\u001b[0m\n\u001b[0m",
      "\u001b[1;32mC:\\Users\\NIKSHI~1.VOR\\AppData\\Local\\Temp/ipykernel_2332/3820902984.py\u001b[0m in \u001b[0;36mp_d\u001b[1;34m(self)\u001b[0m\n\u001b[0;32m     21\u001b[0m \u001b[1;33m\u001b[0m\u001b[0m\n\u001b[0;32m     22\u001b[0m     \u001b[1;32mdef\u001b[0m \u001b[0mp_d\u001b[0m\u001b[1;33m(\u001b[0m\u001b[0mself\u001b[0m\u001b[1;33m)\u001b[0m\u001b[1;33m:\u001b[0m\u001b[1;33m\u001b[0m\u001b[1;33m\u001b[0m\u001b[0m\n\u001b[1;32m---> 23\u001b[1;33m         \u001b[1;32mif\u001b[0m \u001b[0mself\u001b[0m\u001b[1;33m.\u001b[0m\u001b[0mdic_c\u001b[0m\u001b[1;33m(\u001b[0m\u001b[1;33m)\u001b[0m\u001b[1;33m:\u001b[0m\u001b[1;33m\u001b[0m\u001b[1;33m\u001b[0m\u001b[0m\n\u001b[0m\u001b[0;32m     24\u001b[0m             \u001b[0mprint\u001b[0m\u001b[1;33m(\u001b[0m\u001b[0mself\u001b[0m\u001b[1;33m.\u001b[0m\u001b[0ma\u001b[0m\u001b[1;33m)\u001b[0m\u001b[1;33m\u001b[0m\u001b[1;33m\u001b[0m\u001b[0m\n\u001b[0;32m     25\u001b[0m \u001b[1;33m\u001b[0m\u001b[0m\n",
      "\u001b[1;32mC:\\Users\\NIKSHI~1.VOR\\AppData\\Local\\Temp/ipykernel_2332/3820902984.py\u001b[0m in \u001b[0;36mdic_c\u001b[1;34m(self)\u001b[0m\n\u001b[0;32m     26\u001b[0m     \u001b[1;32mdef\u001b[0m \u001b[0mdic_c\u001b[0m\u001b[1;33m(\u001b[0m\u001b[0mself\u001b[0m\u001b[1;33m)\u001b[0m\u001b[1;33m:\u001b[0m\u001b[1;33m\u001b[0m\u001b[1;33m\u001b[0m\u001b[0m\n\u001b[0;32m     27\u001b[0m         \u001b[1;32mif\u001b[0m \u001b[0mtype\u001b[0m\u001b[1;33m(\u001b[0m\u001b[0mself\u001b[0m\u001b[1;33m.\u001b[0m\u001b[0ma\u001b[0m\u001b[1;33m)\u001b[0m\u001b[1;33m!=\u001b[0m\u001b[0mdict\u001b[0m\u001b[1;33m:\u001b[0m\u001b[1;33m\u001b[0m\u001b[1;33m\u001b[0m\u001b[0m\n\u001b[1;32m---> 28\u001b[1;33m             \u001b[1;32mraise\u001b[0m \u001b[0mException\u001b[0m\u001b[1;33m(\u001b[0m\u001b[0mself\u001b[0m\u001b[1;33m.\u001b[0m\u001b[0ma\u001b[0m\u001b[1;33m,\u001b[0m\u001b[1;34m\"not a dictionary.....\"\u001b[0m\u001b[1;33m)\u001b[0m\u001b[1;33m\u001b[0m\u001b[1;33m\u001b[0m\u001b[0m\n\u001b[0m\u001b[0;32m     29\u001b[0m         \u001b[1;32melse\u001b[0m\u001b[1;33m:\u001b[0m\u001b[1;33m\u001b[0m\u001b[1;33m\u001b[0m\u001b[0m\n\u001b[0;32m     30\u001b[0m             \u001b[1;32mreturn\u001b[0m \u001b[1;36m1\u001b[0m\u001b[1;33m\u001b[0m\u001b[1;33m\u001b[0m\u001b[0m\n",
      "\u001b[1;31mException\u001b[0m: ([1, 2, 3, 4, 5, 6, 7, 8], 'not a dictionary.....')"
     ]
    }
   ],
   "source": [
    "c.p_d()"
   ]
  },
  {
   "cell_type": "code",
   "execution_count": 92,
   "id": "25d1a937",
   "metadata": {},
   "outputs": [],
   "source": [
    "x = open(\"mydic.py\",\"w\")"
   ]
  },
  {
   "cell_type": "code",
   "execution_count": 93,
   "id": "14a60404",
   "metadata": {},
   "outputs": [
    {
     "name": "stdout",
     "output_type": "stream",
     "text": [
      " Volume in drive C is Local Disk\n",
      " Volume Serial Number is 7E89-5E2E\n",
      "\n",
      " Directory of C:\\Users\\Nikshit.Vora\n",
      "\n",
      "01/08/2023  03:33 PM    <DIR>          .\n",
      "01/08/2023  03:33 PM    <DIR>          ..\n",
      "06/30/2022  01:22 PM    <DIR>          .anaconda\n",
      "01/08/2023  01:12 PM    <DIR>          .conda\n",
      "05/04/2022  11:32 AM               245 .condarc\n",
      "05/04/2022  11:24 AM    <DIR>          .continuum\n",
      "02/25/2022  06:01 PM    <DIR>          .idlerc\n",
      "01/07/2023  11:08 AM    <DIR>          .ipynb_checkpoints\n",
      "05/04/2022  11:54 AM    <DIR>          .ipython\n",
      "05/04/2022  04:00 PM    <DIR>          .jupyter\n",
      "05/04/2022  06:50 PM    <DIR>          .matplotlib\n",
      "03/30/2022  07:29 AM    <DIR>          .ms-ad\n",
      "04/24/2022  10:54 AM    <DIR>          .plotly\n",
      "12/09/2022  01:15 PM    <DIR>          .spyder-py3\n",
      "01/07/2023  12:00 PM    <DIR>          __pycache__\n",
      "12/16/2022  10:49 AM            27,060 1. Python basics.ipynb\n",
      "01/07/2023  11:02 AM             5,074 10. Logging.ipynb\n",
      "01/08/2023  03:33 PM            25,824 11. Class .ipynb\n",
      "12/16/2022  04:17 PM            59,788 2. String, List, Indexing.ipynb\n",
      "12/17/2022  04:48 PM            31,122 3. Tuple, Set, Dict.ipynb\n",
      "10/19/2021  10:58 AM    <DIR>          3D Objects\n",
      "12/17/2022  10:00 PM         1,937,584 4. If & else, loops, range.ipynb\n",
      "12/18/2022  07:09 PM            48,221 5. Function & Examples.ipynb\n",
      "12/18/2022  09:53 PM            29,319 6. Function, args, kwargs, lambda, iter.ipynb\n",
      "12/19/2022  03:34 PM            58,351 7. iterators & generators.ipynb\n",
      "12/22/2022  12:04 PM            54,339 8. File Handling.ipynb\n",
      "01/05/2023  07:47 PM            48,002 9. Exception Handling.ipynb\n",
      "12/18/2022  05:29 PM    <DIR>          Anaconda3\n",
      "12/07/2022  11:26 AM             6,763 Automation of Downloading Excel Files from EPW CTT.py\n",
      "05/06/2022  07:41 PM            19,172 Bm Automation final.ipynb\n",
      "05/06/2022  07:41 PM            16,652 BM automation.ipynb\n",
      "07/15/2022  02:03 PM             5,193 BMMMMMMMMM.ipynb\n",
      "12/18/2022  05:03 PM           893,756 combined.pdf\n",
      "10/28/2022  02:22 PM            44,485 command.tmp\n",
      "10/19/2021  10:58 AM    <DIR>          Contacts\n",
      "07/22/2022  06:54 PM            41,314 Data extraction using python.ipynb\n",
      "01/05/2023  03:20 PM    <DIR>          Desktop\n",
      "12/02/2022  06:23 PM             1,626 dic.py\n",
      "01/08/2023  03:15 PM    <DIR>          Downloads\n",
      "01/05/2023  05:59 PM                25 fgdgdfgfg.txt\n",
      "11/29/2022  04:39 PM             5,802 final one for M.py\n",
      "12/01/2022  06:29 PM             7,273 final one with zero logic.py\n",
      "10/28/2022  02:22 PM         2,674,019 GlobalProtectLogs.zip\n",
      "10/28/2022  02:22 PM                 0 GlobalProtectLogs_is_ready\n",
      "07/15/2022  06:24 PM             1,724 HCEA Automation.ipynb\n",
      "06/24/2022  03:27 PM    <DIR>          Jedi\n",
      "10/19/2021  10:58 AM    <DIR>          Links\n",
      "02/02/2022  07:23 PM    <DIR>          Microsoft\n",
      "01/08/2023  01:13 PM                 0 MP.py\n",
      "01/07/2023  12:01 PM                26 my_module.py\n",
      "01/08/2023  03:33 PM                 0 mydic.py\n",
      "01/07/2023  11:19 AM                 0 nb.txt\n",
      "09/04/2022  09:47 AM    <DIR>          New project\n",
      "11/16/2022  10:00 PM             1,274 New_Project.py\n",
      "07/25/2022  07:00 PM            19,873 NEWWWWWWWWWWWWWW.ipynb\n",
      "01/07/2023  11:43 AM                59 NI.py\n",
      "01/07/2023  11:29 AM               204 notebook.py\n",
      "11/21/2022  09:36 PM            36,984 number 21 game.ipynb\n",
      "12/27/2022  07:12 PM           145,061 NumPy.ipynb\n",
      "01/07/2023  09:03 AM    <DIR>          OneDrive - Shell\n",
      "08/22/2022  01:05 PM    <DIR>          Oracle\n",
      "07/08/2022  07:10 PM            87,294 projects.ipynb\n",
      "07/14/2022  02:11 PM         3,489,162 Python essentials.ipynb\n",
      "08/02/2022  12:17 PM           403,164 Python OOP.ipynb\n",
      "08/04/2022  11:28 AM            37,433 python real world examples.ipynb\n",
      "10/28/2022  02:22 PM             2,554 regval.tmp\n",
      "10/19/2021  10:58 AM    <DIR>          Saved Games\n",
      "12/23/2022  05:37 PM    <DIR>          TERR\n",
      "01/07/2023  10:58 AM             1,441 test.log\n",
      "12/19/2022  03:39 PM                 0 test108.txt\n",
      "12/19/2022  03:40 PM                 0 test1080.txt\n",
      "01/07/2023  10:40 AM                 0 test2.log\n",
      "12/19/2022  03:42 PM                62 test20.txt\n",
      "12/19/2022  03:45 PM                47 test22.txt\n",
      "01/05/2023  06:05 PM                 0 test43.txt\n",
      "01/05/2023  05:59 PM                23 testnik.txt\n",
      "12/09/2022  11:35 AM             8,015 tic tac toe - game.ipynb\n",
      "12/07/2022  03:04 PM             1,896 top file.py\n",
      "05/04/2022  03:54 PM            16,652 Untitled.ipynb\n",
      "05/04/2022  05:54 PM             7,377 Untitled1.ipynb\n",
      "12/07/2022  12:19 PM               804 untitled1.py\n",
      "12/17/2022  04:50 PM                72 Untitled10.ipynb\n",
      "06/10/2022  11:25 AM             1,173 Untitled2.ipynb\n",
      "12/07/2022  12:49 PM               507 untitled2.py\n",
      "07/05/2022  03:53 PM             1,057 Untitled3.ipynb\n",
      "07/08/2022  03:03 PM               588 Untitled4.ipynb\n",
      "07/22/2022  04:20 PM               588 Untitled5.ipynb\n",
      "07/25/2022  07:00 PM             8,520 Untitled6.ipynb\n",
      "07/25/2022  07:00 PM             9,853 Untitled7.ipynb\n",
      "11/11/2022  09:16 PM             1,269 Untitled8.ipynb\n",
      "12/15/2022  02:08 PM            28,461 Untitled9.ipynb\n",
      "11/15/2022  09:41 PM             2,690 WCTT - Well Cost Tracking Tool.ipynb\n",
      "11/29/2022  03:39 PM             3,161 WCTT final.py\n",
      "11/29/2022  03:53 PM            10,700 with more feature.py\n",
      "              67 File(s)     10,370,777 bytes\n",
      "              27 Dir(s)  357,099,839,488 bytes free\n"
     ]
    }
   ],
   "source": [
    "ls"
   ]
  },
  {
   "cell_type": "code",
   "execution_count": 94,
   "id": "df85a6d4",
   "metadata": {},
   "outputs": [],
   "source": [
    "import mydic"
   ]
  },
  {
   "cell_type": "code",
   "execution_count": 95,
   "id": "5fd8bc59",
   "metadata": {},
   "outputs": [],
   "source": [
    "a={1:2,3:4,5:6}"
   ]
  },
  {
   "cell_type": "code",
   "execution_count": 96,
   "id": "3f46b797",
   "metadata": {},
   "outputs": [],
   "source": [
    "c= dic(a)"
   ]
  },
  {
   "cell_type": "code",
   "execution_count": 97,
   "id": "b5208def",
   "metadata": {},
   "outputs": [
    {
     "name": "stdout",
     "output_type": "stream",
     "text": [
      "enter the key: 10\n",
      "enter the value: 11\n"
     ]
    }
   ],
   "source": [
    "c.add()"
   ]
  },
  {
   "cell_type": "code",
   "execution_count": 98,
   "id": "2aa52984",
   "metadata": {},
   "outputs": [
    {
     "name": "stdout",
     "output_type": "stream",
     "text": [
      "{1: 2, 3: 4, 5: 6, '10': '11'}\n"
     ]
    }
   ],
   "source": [
    "c.p_d()"
   ]
  },
  {
   "cell_type": "code",
   "execution_count": 1,
   "id": "2e2a7fa3",
   "metadata": {},
   "outputs": [],
   "source": [
    "class xyz:\n",
    "    def __init__(self,a,b,c):\n",
    "        self.a=a\n",
    "        self.b=b\n",
    "        self.c=c\n",
    "        \n",
    "    def test(self):\n",
    "        print(\"this is my first test methode of xyz class....\")\n",
    "        \n",
    "    def test1(self):\n",
    "        print(\"this is test1 mehtode of xyz class....\")\n",
    "        \n",
    "    def test2(self):\n",
    "        print(\"this is test2 methode of xyz class.....\")"
   ]
  },
  {
   "cell_type": "code",
   "execution_count": 2,
   "id": "3743078d",
   "metadata": {},
   "outputs": [],
   "source": [
    "class xyz1(xyz):\n",
    "    pass\n",
    "\n",
    "    "
   ]
  },
  {
   "cell_type": "code",
   "execution_count": 3,
   "id": "098ee340",
   "metadata": {},
   "outputs": [],
   "source": [
    " p = xyz(1,2,3)"
   ]
  },
  {
   "cell_type": "code",
   "execution_count": 4,
   "id": "701f69ee",
   "metadata": {},
   "outputs": [
    {
     "name": "stdout",
     "output_type": "stream",
     "text": [
      "this is my first test methode of xyz class....\n"
     ]
    }
   ],
   "source": [
    "p.test()"
   ]
  },
  {
   "cell_type": "code",
   "execution_count": 5,
   "id": "0964b7fb",
   "metadata": {},
   "outputs": [
    {
     "data": {
      "text/plain": [
       "<bound method xyz.test of <__main__.xyz object at 0x0000019FE656EFD0>>"
      ]
     },
     "execution_count": 5,
     "metadata": {},
     "output_type": "execute_result"
    }
   ],
   "source": [
    "p.test"
   ]
  },
  {
   "cell_type": "code",
   "execution_count": 6,
   "id": "f55704d5",
   "metadata": {},
   "outputs": [
    {
     "name": "stdout",
     "output_type": "stream",
     "text": [
      "this is test1 mehtode of xyz class....\n"
     ]
    }
   ],
   "source": [
    "p.test1()"
   ]
  },
  {
   "cell_type": "code",
   "execution_count": 7,
   "id": "cc1a6e40",
   "metadata": {},
   "outputs": [
    {
     "data": {
      "text/plain": [
       "1"
      ]
     },
     "execution_count": 7,
     "metadata": {},
     "output_type": "execute_result"
    }
   ],
   "source": [
    "p.a"
   ]
  },
  {
   "cell_type": "code",
   "execution_count": 8,
   "id": "1f0d136b",
   "metadata": {},
   "outputs": [
    {
     "ename": "TypeError",
     "evalue": "'int' object is not callable",
     "output_type": "error",
     "traceback": [
      "\u001b[1;31m---------------------------------------------------------------------------\u001b[0m",
      "\u001b[1;31mTypeError\u001b[0m                                 Traceback (most recent call last)",
      "\u001b[1;32mC:\\Users\\NIKSHI~1.VOR\\AppData\\Local\\Temp/ipykernel_3880/3172927080.py\u001b[0m in \u001b[0;36m<module>\u001b[1;34m\u001b[0m\n\u001b[1;32m----> 1\u001b[1;33m \u001b[0mp\u001b[0m\u001b[1;33m.\u001b[0m\u001b[0ma\u001b[0m\u001b[1;33m(\u001b[0m\u001b[1;33m)\u001b[0m\u001b[1;33m\u001b[0m\u001b[1;33m\u001b[0m\u001b[0m\n\u001b[0m",
      "\u001b[1;31mTypeError\u001b[0m: 'int' object is not callable"
     ]
    }
   ],
   "source": [
    "p.a()"
   ]
  },
  {
   "cell_type": "code",
   "execution_count": 9,
   "id": "7a873eaf",
   "metadata": {},
   "outputs": [
    {
     "data": {
      "text/plain": [
       "2"
      ]
     },
     "execution_count": 9,
     "metadata": {},
     "output_type": "execute_result"
    }
   ],
   "source": [
    "p.b"
   ]
  },
  {
   "cell_type": "code",
   "execution_count": 10,
   "id": "26eb9d8d",
   "metadata": {},
   "outputs": [
    {
     "data": {
      "text/plain": [
       "1"
      ]
     },
     "execution_count": 10,
     "metadata": {},
     "output_type": "execute_result"
    }
   ],
   "source": [
    "p.a"
   ]
  },
  {
   "cell_type": "code",
   "execution_count": 11,
   "id": "0c4a5fc7",
   "metadata": {},
   "outputs": [
    {
     "data": {
      "text/plain": [
       "3"
      ]
     },
     "execution_count": 11,
     "metadata": {},
     "output_type": "execute_result"
    }
   ],
   "source": [
    "p.c"
   ]
  },
  {
   "cell_type": "code",
   "execution_count": 12,
   "id": "22714405",
   "metadata": {},
   "outputs": [
    {
     "ename": "TypeError",
     "evalue": "__init__() missing 3 required positional arguments: 'a', 'b', and 'c'",
     "output_type": "error",
     "traceback": [
      "\u001b[1;31m---------------------------------------------------------------------------\u001b[0m",
      "\u001b[1;31mTypeError\u001b[0m                                 Traceback (most recent call last)",
      "\u001b[1;32mC:\\Users\\NIKSHI~1.VOR\\AppData\\Local\\Temp/ipykernel_3880/2225742902.py\u001b[0m in \u001b[0;36m<module>\u001b[1;34m\u001b[0m\n\u001b[1;32m----> 1\u001b[1;33m \u001b[0mq\u001b[0m \u001b[1;33m=\u001b[0m \u001b[0mxyz1\u001b[0m\u001b[1;33m(\u001b[0m\u001b[1;33m)\u001b[0m\u001b[1;33m\u001b[0m\u001b[1;33m\u001b[0m\u001b[0m\n\u001b[0m",
      "\u001b[1;31mTypeError\u001b[0m: __init__() missing 3 required positional arguments: 'a', 'b', and 'c'"
     ]
    }
   ],
   "source": [
    "q = xyz1()"
   ]
  },
  {
   "cell_type": "code",
   "execution_count": 13,
   "id": "88bde540",
   "metadata": {},
   "outputs": [],
   "source": [
    "q = xyz(1,2,3)"
   ]
  },
  {
   "cell_type": "code",
   "execution_count": 14,
   "id": "ed1a0325",
   "metadata": {},
   "outputs": [
    {
     "name": "stdout",
     "output_type": "stream",
     "text": [
      "this is my first test methode of xyz class....\n"
     ]
    }
   ],
   "source": [
    "q.test()"
   ]
  },
  {
   "cell_type": "code",
   "execution_count": 15,
   "id": "d53343aa",
   "metadata": {},
   "outputs": [
    {
     "name": "stdout",
     "output_type": "stream",
     "text": [
      "this is test1 mehtode of xyz class....\n"
     ]
    }
   ],
   "source": [
    "q.test1()"
   ]
  },
  {
   "cell_type": "code",
   "execution_count": 16,
   "id": "49c625d2",
   "metadata": {},
   "outputs": [
    {
     "name": "stdout",
     "output_type": "stream",
     "text": [
      "this is test2 methode of xyz class.....\n"
     ]
    }
   ],
   "source": [
    "q.test2()"
   ]
  },
  {
   "cell_type": "code",
   "execution_count": 18,
   "id": "8773ac18",
   "metadata": {},
   "outputs": [],
   "source": [
    "class xyz1(xyz):\n",
    "    def test(self):\n",
    "        print(\"this is test methode from neew class.......\")\n",
    "        "
   ]
  },
  {
   "cell_type": "code",
   "execution_count": 20,
   "id": "9038c430",
   "metadata": {},
   "outputs": [],
   "source": [
    "g = xyz1(1,2,3)"
   ]
  },
  {
   "cell_type": "code",
   "execution_count": 21,
   "id": "f4e5424f",
   "metadata": {},
   "outputs": [
    {
     "name": "stdout",
     "output_type": "stream",
     "text": [
      "this is test methode from neew class.......\n"
     ]
    }
   ],
   "source": [
    "g.test()"
   ]
  },
  {
   "cell_type": "code",
   "execution_count": 25,
   "id": "0f05fd20",
   "metadata": {},
   "outputs": [],
   "source": [
    "class xyz:\n",
    "    def __init__(self,a,b,c):\n",
    "        self.a=a\n",
    "        self.b=b\n",
    "        self.c=c\n",
    "        \n",
    "    def test(self):\n",
    "        print(\"this is methode of xyz class\")\n",
    "        \n",
    "class xyz1:\n",
    "    def __init__(self,p,q,v):\n",
    "        self.p=p\n",
    "        self.q=q\n",
    "        self.v=v\n",
    "        \n",
    "    def test1(self):\n",
    "        print(\"this is the methode from class xyz1...\")\n",
    "        \n",
    "class child(xyz,xyz1):\n",
    "    pass"
   ]
  },
  {
   "cell_type": "code",
   "execution_count": 27,
   "id": "468aa6e7",
   "metadata": {},
   "outputs": [],
   "source": [
    "x = child(1,2,3)"
   ]
  },
  {
   "cell_type": "code",
   "execution_count": 28,
   "id": "c38665dc",
   "metadata": {},
   "outputs": [
    {
     "data": {
      "text/plain": [
       "1"
      ]
     },
     "execution_count": 28,
     "metadata": {},
     "output_type": "execute_result"
    }
   ],
   "source": [
    "x.a"
   ]
  },
  {
   "cell_type": "code",
   "execution_count": 29,
   "id": "10426695",
   "metadata": {},
   "outputs": [
    {
     "data": {
      "text/plain": [
       "2"
      ]
     },
     "execution_count": 29,
     "metadata": {},
     "output_type": "execute_result"
    }
   ],
   "source": [
    "x.b"
   ]
  },
  {
   "cell_type": "code",
   "execution_count": 30,
   "id": "4acf2d26",
   "metadata": {},
   "outputs": [
    {
     "data": {
      "text/plain": [
       "3"
      ]
     },
     "execution_count": 30,
     "metadata": {},
     "output_type": "execute_result"
    }
   ],
   "source": [
    "x.c"
   ]
  },
  {
   "cell_type": "code",
   "execution_count": 31,
   "id": "b45ac05b",
   "metadata": {},
   "outputs": [
    {
     "ename": "TypeError",
     "evalue": "__init__() takes 4 positional arguments but 7 were given",
     "output_type": "error",
     "traceback": [
      "\u001b[1;31m---------------------------------------------------------------------------\u001b[0m",
      "\u001b[1;31mTypeError\u001b[0m                                 Traceback (most recent call last)",
      "\u001b[1;32mC:\\Users\\NIKSHI~1.VOR\\AppData\\Local\\Temp/ipykernel_3880/2626392393.py\u001b[0m in \u001b[0;36m<module>\u001b[1;34m\u001b[0m\n\u001b[1;32m----> 1\u001b[1;33m \u001b[0my\u001b[0m \u001b[1;33m=\u001b[0m \u001b[0mchild\u001b[0m\u001b[1;33m(\u001b[0m\u001b[1;36m1\u001b[0m\u001b[1;33m,\u001b[0m\u001b[1;36m2\u001b[0m\u001b[1;33m,\u001b[0m\u001b[1;36m3\u001b[0m\u001b[1;33m,\u001b[0m\u001b[1;36m5\u001b[0m\u001b[1;33m,\u001b[0m\u001b[1;36m6\u001b[0m\u001b[1;33m,\u001b[0m\u001b[1;36m7\u001b[0m\u001b[1;33m)\u001b[0m\u001b[1;33m\u001b[0m\u001b[1;33m\u001b[0m\u001b[0m\n\u001b[0m",
      "\u001b[1;31mTypeError\u001b[0m: __init__() takes 4 positional arguments but 7 were given"
     ]
    }
   ],
   "source": [
    "y = child(1,2,3,5,6,7)"
   ]
  },
  {
   "cell_type": "code",
   "execution_count": 32,
   "id": "8051ba4e",
   "metadata": {},
   "outputs": [
    {
     "ename": "TypeError",
     "evalue": "__init__() missing 3 required positional arguments: 'a', 'b', and 'c'",
     "output_type": "error",
     "traceback": [
      "\u001b[1;31m---------------------------------------------------------------------------\u001b[0m",
      "\u001b[1;31mTypeError\u001b[0m                                 Traceback (most recent call last)",
      "\u001b[1;32mC:\\Users\\NIKSHI~1.VOR\\AppData\\Local\\Temp/ipykernel_3880/1974629406.py\u001b[0m in \u001b[0;36m<module>\u001b[1;34m\u001b[0m\n\u001b[1;32m----> 1\u001b[1;33m \u001b[0me\u001b[0m \u001b[1;33m=\u001b[0m \u001b[0mchild\u001b[0m\u001b[1;33m(\u001b[0m\u001b[1;33m)\u001b[0m\u001b[1;33m\u001b[0m\u001b[1;33m\u001b[0m\u001b[0m\n\u001b[0m",
      "\u001b[1;31mTypeError\u001b[0m: __init__() missing 3 required positional arguments: 'a', 'b', and 'c'"
     ]
    }
   ],
   "source": [
    "e = child()"
   ]
  },
  {
   "cell_type": "code",
   "execution_count": 33,
   "id": "72c1f5f9",
   "metadata": {},
   "outputs": [],
   "source": [
    "e = child(1,2,3)"
   ]
  },
  {
   "cell_type": "code",
   "execution_count": 34,
   "id": "24f36b7f",
   "metadata": {},
   "outputs": [
    {
     "data": {
      "text/plain": [
       "1"
      ]
     },
     "execution_count": 34,
     "metadata": {},
     "output_type": "execute_result"
    }
   ],
   "source": [
    "e.a"
   ]
  },
  {
   "cell_type": "code",
   "execution_count": 35,
   "id": "778b9804",
   "metadata": {},
   "outputs": [
    {
     "data": {
      "text/plain": [
       "2"
      ]
     },
     "execution_count": 35,
     "metadata": {},
     "output_type": "execute_result"
    }
   ],
   "source": [
    "e.b"
   ]
  },
  {
   "cell_type": "code",
   "execution_count": 36,
   "id": "6e31c172",
   "metadata": {},
   "outputs": [
    {
     "data": {
      "text/plain": [
       "3"
      ]
     },
     "execution_count": 36,
     "metadata": {},
     "output_type": "execute_result"
    }
   ],
   "source": [
    "e.c"
   ]
  },
  {
   "cell_type": "code",
   "execution_count": 37,
   "id": "43d82307",
   "metadata": {},
   "outputs": [
    {
     "name": "stdout",
     "output_type": "stream",
     "text": [
      "this is methode of xyz class\n"
     ]
    }
   ],
   "source": [
    "e.test()"
   ]
  },
  {
   "cell_type": "code",
   "execution_count": 38,
   "id": "969440c9",
   "metadata": {},
   "outputs": [
    {
     "name": "stdout",
     "output_type": "stream",
     "text": [
      "this is the methode from class xyz1...\n"
     ]
    }
   ],
   "source": [
    "e.test1()"
   ]
  },
  {
   "cell_type": "code",
   "execution_count": 39,
   "id": "f41e7a51",
   "metadata": {},
   "outputs": [],
   "source": [
    "class xyz:\n",
    "    def __init__(self,a,b,c):\n",
    "        self.a=a\n",
    "        self.b=b\n",
    "        self.c=c\n",
    "        \n",
    "    def test(self):\n",
    "        print(\"this is methode of xyz class\")\n",
    "        \n",
    "class xyz1:\n",
    "    def __init__(self,p,q,v):\n",
    "        self.p=p\n",
    "        self.q=q\n",
    "        self.v=v\n",
    "        \n",
    "    def test1(self):\n",
    "        print(\"this is the methode from class xyz1...\")\n",
    "        \n",
    "class child(xyz1,xyz):\n",
    "    pass"
   ]
  },
  {
   "cell_type": "code",
   "execution_count": 40,
   "id": "b9d4f36b",
   "metadata": {},
   "outputs": [
    {
     "ename": "TypeError",
     "evalue": "__init__() missing 3 required positional arguments: 'p', 'q', and 'v'",
     "output_type": "error",
     "traceback": [
      "\u001b[1;31m---------------------------------------------------------------------------\u001b[0m",
      "\u001b[1;31mTypeError\u001b[0m                                 Traceback (most recent call last)",
      "\u001b[1;32mC:\\Users\\NIKSHI~1.VOR\\AppData\\Local\\Temp/ipykernel_3880/1094795391.py\u001b[0m in \u001b[0;36m<module>\u001b[1;34m\u001b[0m\n\u001b[1;32m----> 1\u001b[1;33m \u001b[0mf\u001b[0m \u001b[1;33m=\u001b[0m \u001b[0mchild\u001b[0m\u001b[1;33m(\u001b[0m\u001b[1;33m)\u001b[0m\u001b[1;33m\u001b[0m\u001b[1;33m\u001b[0m\u001b[0m\n\u001b[0m",
      "\u001b[1;31mTypeError\u001b[0m: __init__() missing 3 required positional arguments: 'p', 'q', and 'v'"
     ]
    }
   ],
   "source": [
    "f = child()"
   ]
  },
  {
   "cell_type": "code",
   "execution_count": 41,
   "id": "524d5db8",
   "metadata": {},
   "outputs": [
    {
     "ename": "NameError",
     "evalue": "name 'f' is not defined",
     "output_type": "error",
     "traceback": [
      "\u001b[1;31m---------------------------------------------------------------------------\u001b[0m",
      "\u001b[1;31mNameError\u001b[0m                                 Traceback (most recent call last)",
      "\u001b[1;32mC:\\Users\\NIKSHI~1.VOR\\AppData\\Local\\Temp/ipykernel_3880/3992600740.py\u001b[0m in \u001b[0;36m<module>\u001b[1;34m\u001b[0m\n\u001b[1;32m----> 1\u001b[1;33m \u001b[0mf\u001b[0m\u001b[1;33m.\u001b[0m\u001b[0ma\u001b[0m\u001b[1;33m\u001b[0m\u001b[1;33m\u001b[0m\u001b[0m\n\u001b[0m",
      "\u001b[1;31mNameError\u001b[0m: name 'f' is not defined"
     ]
    }
   ],
   "source": [
    "f.a"
   ]
  },
  {
   "cell_type": "code",
   "execution_count": 42,
   "id": "264724eb",
   "metadata": {},
   "outputs": [
    {
     "ename": "NameError",
     "evalue": "name 'f' is not defined",
     "output_type": "error",
     "traceback": [
      "\u001b[1;31m---------------------------------------------------------------------------\u001b[0m",
      "\u001b[1;31mNameError\u001b[0m                                 Traceback (most recent call last)",
      "\u001b[1;32mC:\\Users\\NIKSHI~1.VOR\\AppData\\Local\\Temp/ipykernel_3880/2235608168.py\u001b[0m in \u001b[0;36m<module>\u001b[1;34m\u001b[0m\n\u001b[1;32m----> 1\u001b[1;33m \u001b[0mf\u001b[0m\u001b[1;33m.\u001b[0m\u001b[0mp\u001b[0m\u001b[1;33m\u001b[0m\u001b[1;33m\u001b[0m\u001b[0m\n\u001b[0m",
      "\u001b[1;31mNameError\u001b[0m: name 'f' is not defined"
     ]
    }
   ],
   "source": [
    "f.p"
   ]
  },
  {
   "cell_type": "code",
   "execution_count": 43,
   "id": "ffc96eb5",
   "metadata": {},
   "outputs": [],
   "source": [
    "f = child(1,2,3)"
   ]
  },
  {
   "cell_type": "code",
   "execution_count": 44,
   "id": "f492d353",
   "metadata": {},
   "outputs": [
    {
     "ename": "AttributeError",
     "evalue": "'child' object has no attribute 'a'",
     "output_type": "error",
     "traceback": [
      "\u001b[1;31m---------------------------------------------------------------------------\u001b[0m",
      "\u001b[1;31mAttributeError\u001b[0m                            Traceback (most recent call last)",
      "\u001b[1;32mC:\\Users\\NIKSHI~1.VOR\\AppData\\Local\\Temp/ipykernel_3880/3992600740.py\u001b[0m in \u001b[0;36m<module>\u001b[1;34m\u001b[0m\n\u001b[1;32m----> 1\u001b[1;33m \u001b[0mf\u001b[0m\u001b[1;33m.\u001b[0m\u001b[0ma\u001b[0m\u001b[1;33m\u001b[0m\u001b[1;33m\u001b[0m\u001b[0m\n\u001b[0m",
      "\u001b[1;31mAttributeError\u001b[0m: 'child' object has no attribute 'a'"
     ]
    }
   ],
   "source": [
    "f.a"
   ]
  },
  {
   "cell_type": "code",
   "execution_count": 45,
   "id": "3b928303",
   "metadata": {},
   "outputs": [
    {
     "data": {
      "text/plain": [
       "1"
      ]
     },
     "execution_count": 45,
     "metadata": {},
     "output_type": "execute_result"
    }
   ],
   "source": [
    "f.p"
   ]
  },
  {
   "cell_type": "code",
   "execution_count": 46,
   "id": "336b0a48",
   "metadata": {},
   "outputs": [
    {
     "data": {
      "text/plain": [
       "2"
      ]
     },
     "execution_count": 46,
     "metadata": {},
     "output_type": "execute_result"
    }
   ],
   "source": [
    "f.q\n"
   ]
  },
  {
   "cell_type": "code",
   "execution_count": 48,
   "id": "91e0a75a",
   "metadata": {},
   "outputs": [
    {
     "data": {
      "text/plain": [
       "3"
      ]
     },
     "execution_count": 48,
     "metadata": {},
     "output_type": "execute_result"
    }
   ],
   "source": [
    "f.v"
   ]
  },
  {
   "cell_type": "code",
   "execution_count": 55,
   "id": "e81b517e",
   "metadata": {},
   "outputs": [],
   "source": [
    "class xyz:\n",
    "    def __init__(self,a,b,c):\n",
    "        self.a=a\n",
    "        self.b=b\n",
    "        self.c=c\n",
    "        \n",
    "    def test(self):\n",
    "        print(\"this is methode of xyz class\")\n",
    "        \n",
    "class xyz1:\n",
    "    def __init__(self,p,q,v):\n",
    "        self.p=p\n",
    "        self.q=q\n",
    "        self.v=v\n",
    "        \n",
    "    def test1(self):\n",
    "        print(\"this is the methode from class xyz1...\")\n",
    "        \n",
    "class child(xyz1,xyz):\n",
    "    def __init__(self,*args):\n",
    "        xyz.__init__(self, *args)\n",
    "        xyz1.__init__(self, *args)"
   ]
  },
  {
   "cell_type": "code",
   "execution_count": 56,
   "id": "ddb6bf88",
   "metadata": {},
   "outputs": [
    {
     "ename": "TypeError",
     "evalue": "__init__() missing 3 required positional arguments: 'a', 'b', and 'c'",
     "output_type": "error",
     "traceback": [
      "\u001b[1;31m---------------------------------------------------------------------------\u001b[0m",
      "\u001b[1;31mTypeError\u001b[0m                                 Traceback (most recent call last)",
      "\u001b[1;32mC:\\Users\\NIKSHI~1.VOR\\AppData\\Local\\Temp/ipykernel_3880/1568130615.py\u001b[0m in \u001b[0;36m<module>\u001b[1;34m\u001b[0m\n\u001b[1;32m----> 1\u001b[1;33m \u001b[0mn\u001b[0m \u001b[1;33m=\u001b[0m \u001b[0mchild\u001b[0m\u001b[1;33m(\u001b[0m\u001b[1;33m)\u001b[0m\u001b[1;33m\u001b[0m\u001b[1;33m\u001b[0m\u001b[0m\n\u001b[0m",
      "\u001b[1;32mC:\\Users\\NIKSHI~1.VOR\\AppData\\Local\\Temp/ipykernel_3880/514394318.py\u001b[0m in \u001b[0;36m__init__\u001b[1;34m(self, *args)\u001b[0m\n\u001b[0;32m     19\u001b[0m \u001b[1;32mclass\u001b[0m \u001b[0mchild\u001b[0m\u001b[1;33m(\u001b[0m\u001b[0mxyz1\u001b[0m\u001b[1;33m,\u001b[0m\u001b[0mxyz\u001b[0m\u001b[1;33m)\u001b[0m\u001b[1;33m:\u001b[0m\u001b[1;33m\u001b[0m\u001b[1;33m\u001b[0m\u001b[0m\n\u001b[0;32m     20\u001b[0m     \u001b[1;32mdef\u001b[0m \u001b[0m__init__\u001b[0m\u001b[1;33m(\u001b[0m\u001b[0mself\u001b[0m\u001b[1;33m,\u001b[0m\u001b[1;33m*\u001b[0m\u001b[0margs\u001b[0m\u001b[1;33m)\u001b[0m\u001b[1;33m:\u001b[0m\u001b[1;33m\u001b[0m\u001b[1;33m\u001b[0m\u001b[0m\n\u001b[1;32m---> 21\u001b[1;33m         \u001b[0mxyz\u001b[0m\u001b[1;33m.\u001b[0m\u001b[0m__init__\u001b[0m\u001b[1;33m(\u001b[0m\u001b[0mself\u001b[0m\u001b[1;33m,\u001b[0m \u001b[1;33m*\u001b[0m\u001b[0margs\u001b[0m\u001b[1;33m)\u001b[0m\u001b[1;33m\u001b[0m\u001b[1;33m\u001b[0m\u001b[0m\n\u001b[0m\u001b[0;32m     22\u001b[0m         \u001b[0mxyz1\u001b[0m\u001b[1;33m.\u001b[0m\u001b[0m__init__\u001b[0m\u001b[1;33m(\u001b[0m\u001b[0mself\u001b[0m\u001b[1;33m,\u001b[0m \u001b[1;33m*\u001b[0m\u001b[0margs\u001b[0m\u001b[1;33m)\u001b[0m\u001b[1;33m\u001b[0m\u001b[1;33m\u001b[0m\u001b[0m\n",
      "\u001b[1;31mTypeError\u001b[0m: __init__() missing 3 required positional arguments: 'a', 'b', and 'c'"
     ]
    }
   ],
   "source": [
    "n = child()"
   ]
  },
  {
   "cell_type": "code",
   "execution_count": 57,
   "id": "00214537",
   "metadata": {},
   "outputs": [],
   "source": [
    "n = child(1,2,3)"
   ]
  },
  {
   "cell_type": "code",
   "execution_count": 58,
   "id": "b93c77c9",
   "metadata": {},
   "outputs": [
    {
     "data": {
      "text/plain": [
       "1"
      ]
     },
     "execution_count": 58,
     "metadata": {},
     "output_type": "execute_result"
    }
   ],
   "source": [
    "n.a"
   ]
  },
  {
   "cell_type": "code",
   "execution_count": 60,
   "id": "13b01bfa",
   "metadata": {},
   "outputs": [
    {
     "data": {
      "text/plain": [
       "2"
      ]
     },
     "execution_count": 60,
     "metadata": {},
     "output_type": "execute_result"
    }
   ],
   "source": [
    "n.b"
   ]
  },
  {
   "cell_type": "code",
   "execution_count": 61,
   "id": "08248b91",
   "metadata": {},
   "outputs": [
    {
     "data": {
      "text/plain": [
       "3"
      ]
     },
     "execution_count": 61,
     "metadata": {},
     "output_type": "execute_result"
    }
   ],
   "source": [
    "n.c"
   ]
  },
  {
   "cell_type": "code",
   "execution_count": 62,
   "id": "cc47ae77",
   "metadata": {},
   "outputs": [
    {
     "data": {
      "text/plain": [
       "1"
      ]
     },
     "execution_count": 62,
     "metadata": {},
     "output_type": "execute_result"
    }
   ],
   "source": [
    "n.p"
   ]
  },
  {
   "cell_type": "code",
   "execution_count": 63,
   "id": "f674d7d5",
   "metadata": {},
   "outputs": [
    {
     "data": {
      "text/plain": [
       "2"
      ]
     },
     "execution_count": 63,
     "metadata": {},
     "output_type": "execute_result"
    }
   ],
   "source": [
    "n.q"
   ]
  },
  {
   "cell_type": "code",
   "execution_count": 64,
   "id": "5b6d21c9",
   "metadata": {},
   "outputs": [
    {
     "data": {
      "text/plain": [
       "3"
      ]
     },
     "execution_count": 64,
     "metadata": {},
     "output_type": "execute_result"
    }
   ],
   "source": [
    "n.v"
   ]
  },
  {
   "cell_type": "code",
   "execution_count": 66,
   "id": "3552eea1",
   "metadata": {},
   "outputs": [],
   "source": [
    "class xyz:\n",
    "    def __init__(self,a,b,c):\n",
    "        self.a=a\n",
    "        self.b=b\n",
    "        self.c=c\n",
    "        \n",
    "    def test(self):\n",
    "        print(\"this is methode of xyz class\")\n",
    "        \n",
    "class xyz1:\n",
    "    def __init__(self,p,q,v):\n",
    "        self.p=p\n",
    "        self.q=q\n",
    "        self.v=v\n",
    "        \n",
    "    def test1(self):\n",
    "        print(\"this is the methode from class xyz1...\")\n",
    "        \n",
    "class child(xyz1,xyz):\n",
    "    def __init__(self,*args,**kwargs):\n",
    "        xyz.__init__(self, *args)\n",
    "        xyz1.__init__(self, **kwargs)"
   ]
  },
  {
   "cell_type": "code",
   "execution_count": 67,
   "id": "56debe3d",
   "metadata": {},
   "outputs": [
    {
     "ename": "TypeError",
     "evalue": "__init__() missing 3 required positional arguments: 'a', 'b', and 'c'",
     "output_type": "error",
     "traceback": [
      "\u001b[1;31m---------------------------------------------------------------------------\u001b[0m",
      "\u001b[1;31mTypeError\u001b[0m                                 Traceback (most recent call last)",
      "\u001b[1;32mC:\\Users\\NIKSHI~1.VOR\\AppData\\Local\\Temp/ipykernel_3880/931472365.py\u001b[0m in \u001b[0;36m<module>\u001b[1;34m\u001b[0m\n\u001b[1;32m----> 1\u001b[1;33m \u001b[0mx\u001b[0m \u001b[1;33m=\u001b[0m \u001b[0mchild\u001b[0m\u001b[1;33m(\u001b[0m\u001b[1;33m)\u001b[0m\u001b[1;33m\u001b[0m\u001b[1;33m\u001b[0m\u001b[0m\n\u001b[0m",
      "\u001b[1;32mC:\\Users\\NIKSHI~1.VOR\\AppData\\Local\\Temp/ipykernel_3880/2597735770.py\u001b[0m in \u001b[0;36m__init__\u001b[1;34m(self, *args, **kwargs)\u001b[0m\n\u001b[0;32m     19\u001b[0m \u001b[1;32mclass\u001b[0m \u001b[0mchild\u001b[0m\u001b[1;33m(\u001b[0m\u001b[0mxyz1\u001b[0m\u001b[1;33m,\u001b[0m\u001b[0mxyz\u001b[0m\u001b[1;33m)\u001b[0m\u001b[1;33m:\u001b[0m\u001b[1;33m\u001b[0m\u001b[1;33m\u001b[0m\u001b[0m\n\u001b[0;32m     20\u001b[0m     \u001b[1;32mdef\u001b[0m \u001b[0m__init__\u001b[0m\u001b[1;33m(\u001b[0m\u001b[0mself\u001b[0m\u001b[1;33m,\u001b[0m\u001b[1;33m*\u001b[0m\u001b[0margs\u001b[0m\u001b[1;33m,\u001b[0m\u001b[1;33m**\u001b[0m\u001b[0mkwargs\u001b[0m\u001b[1;33m)\u001b[0m\u001b[1;33m:\u001b[0m\u001b[1;33m\u001b[0m\u001b[1;33m\u001b[0m\u001b[0m\n\u001b[1;32m---> 21\u001b[1;33m         \u001b[0mxyz\u001b[0m\u001b[1;33m.\u001b[0m\u001b[0m__init__\u001b[0m\u001b[1;33m(\u001b[0m\u001b[0mself\u001b[0m\u001b[1;33m,\u001b[0m \u001b[1;33m*\u001b[0m\u001b[0margs\u001b[0m\u001b[1;33m)\u001b[0m\u001b[1;33m\u001b[0m\u001b[1;33m\u001b[0m\u001b[0m\n\u001b[0m\u001b[0;32m     22\u001b[0m         \u001b[0mxyz1\u001b[0m\u001b[1;33m.\u001b[0m\u001b[0m__init__\u001b[0m\u001b[1;33m(\u001b[0m\u001b[0mself\u001b[0m\u001b[1;33m,\u001b[0m \u001b[1;33m**\u001b[0m\u001b[0mkwargs\u001b[0m\u001b[1;33m)\u001b[0m\u001b[1;33m\u001b[0m\u001b[1;33m\u001b[0m\u001b[0m\n",
      "\u001b[1;31mTypeError\u001b[0m: __init__() missing 3 required positional arguments: 'a', 'b', and 'c'"
     ]
    }
   ],
   "source": [
    "x = child()"
   ]
  },
  {
   "cell_type": "code",
   "execution_count": 68,
   "id": "2997e4a5",
   "metadata": {},
   "outputs": [
    {
     "ename": "TypeError",
     "evalue": "__init__() takes 4 positional arguments but 7 were given",
     "output_type": "error",
     "traceback": [
      "\u001b[1;31m---------------------------------------------------------------------------\u001b[0m",
      "\u001b[1;31mTypeError\u001b[0m                                 Traceback (most recent call last)",
      "\u001b[1;32mC:\\Users\\NIKSHI~1.VOR\\AppData\\Local\\Temp/ipykernel_3880/1213751426.py\u001b[0m in \u001b[0;36m<module>\u001b[1;34m\u001b[0m\n\u001b[1;32m----> 1\u001b[1;33m \u001b[0mx\u001b[0m \u001b[1;33m=\u001b[0m \u001b[0mchild\u001b[0m\u001b[1;33m(\u001b[0m\u001b[1;36m1\u001b[0m\u001b[1;33m,\u001b[0m\u001b[1;36m2\u001b[0m\u001b[1;33m,\u001b[0m\u001b[1;36m3\u001b[0m\u001b[1;33m,\u001b[0m\u001b[1;36m4\u001b[0m\u001b[1;33m,\u001b[0m\u001b[1;36m5\u001b[0m\u001b[1;33m,\u001b[0m\u001b[1;36m6\u001b[0m\u001b[1;33m)\u001b[0m\u001b[1;33m\u001b[0m\u001b[1;33m\u001b[0m\u001b[0m\n\u001b[0m",
      "\u001b[1;32mC:\\Users\\NIKSHI~1.VOR\\AppData\\Local\\Temp/ipykernel_3880/2597735770.py\u001b[0m in \u001b[0;36m__init__\u001b[1;34m(self, *args, **kwargs)\u001b[0m\n\u001b[0;32m     19\u001b[0m \u001b[1;32mclass\u001b[0m \u001b[0mchild\u001b[0m\u001b[1;33m(\u001b[0m\u001b[0mxyz1\u001b[0m\u001b[1;33m,\u001b[0m\u001b[0mxyz\u001b[0m\u001b[1;33m)\u001b[0m\u001b[1;33m:\u001b[0m\u001b[1;33m\u001b[0m\u001b[1;33m\u001b[0m\u001b[0m\n\u001b[0;32m     20\u001b[0m     \u001b[1;32mdef\u001b[0m \u001b[0m__init__\u001b[0m\u001b[1;33m(\u001b[0m\u001b[0mself\u001b[0m\u001b[1;33m,\u001b[0m\u001b[1;33m*\u001b[0m\u001b[0margs\u001b[0m\u001b[1;33m,\u001b[0m\u001b[1;33m**\u001b[0m\u001b[0mkwargs\u001b[0m\u001b[1;33m)\u001b[0m\u001b[1;33m:\u001b[0m\u001b[1;33m\u001b[0m\u001b[1;33m\u001b[0m\u001b[0m\n\u001b[1;32m---> 21\u001b[1;33m         \u001b[0mxyz\u001b[0m\u001b[1;33m.\u001b[0m\u001b[0m__init__\u001b[0m\u001b[1;33m(\u001b[0m\u001b[0mself\u001b[0m\u001b[1;33m,\u001b[0m \u001b[1;33m*\u001b[0m\u001b[0margs\u001b[0m\u001b[1;33m)\u001b[0m\u001b[1;33m\u001b[0m\u001b[1;33m\u001b[0m\u001b[0m\n\u001b[0m\u001b[0;32m     22\u001b[0m         \u001b[0mxyz1\u001b[0m\u001b[1;33m.\u001b[0m\u001b[0m__init__\u001b[0m\u001b[1;33m(\u001b[0m\u001b[0mself\u001b[0m\u001b[1;33m,\u001b[0m \u001b[1;33m**\u001b[0m\u001b[0mkwargs\u001b[0m\u001b[1;33m)\u001b[0m\u001b[1;33m\u001b[0m\u001b[1;33m\u001b[0m\u001b[0m\n",
      "\u001b[1;31mTypeError\u001b[0m: __init__() takes 4 positional arguments but 7 were given"
     ]
    }
   ],
   "source": [
    "x = child(1,2,3,4,5,6)"
   ]
  },
  {
   "cell_type": "code",
   "execution_count": 70,
   "id": "2082ffbb",
   "metadata": {},
   "outputs": [],
   "source": [
    "x = child(1,2,3,p=8,q=10,v=78)"
   ]
  },
  {
   "cell_type": "code",
   "execution_count": 71,
   "id": "5a20000c",
   "metadata": {},
   "outputs": [],
   "source": [
    "class xyz:\n",
    "    def __init__(self,a,b,c):\n",
    "        self.a=a\n",
    "        self.b=b\n",
    "        self.c=c\n",
    "        \n",
    "    def test(self):\n",
    "        print(\"this is methode of xyz class\")\n",
    "        \n",
    "class xyz1(xyz):\n",
    "        \n",
    "    def test1(self):\n",
    "        print(\"this is the methode from class xyz1...\")\n",
    "        \n",
    "class xyz2(xyz1):\n",
    "    def test2(self):\n",
    "        print(\"this is the methode from class xyz2\")"
   ]
  },
  {
   "cell_type": "code",
   "execution_count": 72,
   "id": "b49be714",
   "metadata": {},
   "outputs": [
    {
     "ename": "TypeError",
     "evalue": "__init__() missing 3 required positional arguments: 'a', 'b', and 'c'",
     "output_type": "error",
     "traceback": [
      "\u001b[1;31m---------------------------------------------------------------------------\u001b[0m",
      "\u001b[1;31mTypeError\u001b[0m                                 Traceback (most recent call last)",
      "\u001b[1;32mC:\\Users\\NIKSHI~1.VOR\\AppData\\Local\\Temp/ipykernel_3880/574278279.py\u001b[0m in \u001b[0;36m<module>\u001b[1;34m\u001b[0m\n\u001b[1;32m----> 1\u001b[1;33m \u001b[0mv\u001b[0m \u001b[1;33m=\u001b[0m \u001b[0mxyz2\u001b[0m\u001b[1;33m(\u001b[0m\u001b[1;33m)\u001b[0m\u001b[1;33m\u001b[0m\u001b[1;33m\u001b[0m\u001b[0m\n\u001b[0m",
      "\u001b[1;31mTypeError\u001b[0m: __init__() missing 3 required positional arguments: 'a', 'b', and 'c'"
     ]
    }
   ],
   "source": [
    "v = xyz2()"
   ]
  },
  {
   "cell_type": "code",
   "execution_count": 73,
   "id": "5ab9e991",
   "metadata": {},
   "outputs": [],
   "source": [
    "v = xyz2(1,2,3)"
   ]
  },
  {
   "cell_type": "code",
   "execution_count": 74,
   "id": "17eff76b",
   "metadata": {},
   "outputs": [
    {
     "data": {
      "text/plain": [
       "1"
      ]
     },
     "execution_count": 74,
     "metadata": {},
     "output_type": "execute_result"
    }
   ],
   "source": [
    "v.a"
   ]
  },
  {
   "cell_type": "code",
   "execution_count": 75,
   "id": "c37411e4",
   "metadata": {},
   "outputs": [
    {
     "data": {
      "text/plain": [
       "2"
      ]
     },
     "execution_count": 75,
     "metadata": {},
     "output_type": "execute_result"
    }
   ],
   "source": [
    "v.b"
   ]
  },
  {
   "cell_type": "code",
   "execution_count": 76,
   "id": "c62d7d54",
   "metadata": {},
   "outputs": [
    {
     "data": {
      "text/plain": [
       "3"
      ]
     },
     "execution_count": 76,
     "metadata": {},
     "output_type": "execute_result"
    }
   ],
   "source": [
    "v.c"
   ]
  },
  {
   "cell_type": "code",
   "execution_count": 77,
   "id": "0b9f2491",
   "metadata": {},
   "outputs": [
    {
     "name": "stdout",
     "output_type": "stream",
     "text": [
      "this is methode of xyz class\n"
     ]
    }
   ],
   "source": [
    "v.test()"
   ]
  },
  {
   "cell_type": "code",
   "execution_count": 78,
   "id": "c8749f2b",
   "metadata": {},
   "outputs": [
    {
     "name": "stdout",
     "output_type": "stream",
     "text": [
      "this is the methode from class xyz1...\n"
     ]
    }
   ],
   "source": [
    "v.test1()"
   ]
  },
  {
   "cell_type": "code",
   "execution_count": 79,
   "id": "836d0d6b",
   "metadata": {},
   "outputs": [
    {
     "name": "stdout",
     "output_type": "stream",
     "text": [
      "this is the methode from class xyz2\n"
     ]
    }
   ],
   "source": [
    "v.test2()"
   ]
  },
  {
   "cell_type": "code",
   "execution_count": 80,
   "id": "7e9c392e",
   "metadata": {},
   "outputs": [],
   "source": [
    "class d_file:\n",
    "    def __init__(self,file_name):\n",
    "        self.file_name=file_name\n",
    "        \n",
    "    def read_file(self):\n",
    "        x = open(self.file_name,\"w+\")\n",
    "        x.seek(0)\n",
    "        x.read()\n",
    "        x.close()\n",
    "        \n",
    "    def write_file(self):\n",
    "        x = open(self.file_name,\"w+\")\n",
    "        x.read()\n",
    "        x.write(\"this is my last line\")\n",
    "        x.seek(0)\n",
    "        x.read()\n",
    "        x.close()\n",
    "        "
   ]
  },
  {
   "cell_type": "code",
   "execution_count": 81,
   "id": "5b990324",
   "metadata": {},
   "outputs": [],
   "source": [
    "x = d_file(\"test20.txt\")"
   ]
  },
  {
   "cell_type": "code",
   "execution_count": 82,
   "id": "b3625776",
   "metadata": {},
   "outputs": [],
   "source": [
    "x.read_file()"
   ]
  },
  {
   "cell_type": "code",
   "execution_count": 83,
   "id": "7d3472b4",
   "metadata": {},
   "outputs": [],
   "source": [
    "x.write_file()"
   ]
  },
  {
   "cell_type": "code",
   "execution_count": 111,
   "id": "7cf7f63d",
   "metadata": {},
   "outputs": [],
   "source": [
    "import logging\n",
    "\n",
    "logging.basicConfig(filename=\"log1.log\",level=logging.DEBUG, format=\"%(asctime)s %(levelname)s %(message)s\",filemode=\"w\")\n",
    "\n",
    "class file:\n",
    "    def __init__(self,file_name):\n",
    "        logging.info(\"creating file instance variable..\")\n",
    "        self.file_name=file_name\n",
    "        \n",
    "    def read(self):\n",
    "        logging.info(\"executing read methode..\")\n",
    "        try:\n",
    "            x = open(self.file_name,\"r\")\n",
    "            x.seek(0)\n",
    "            data = x.read()\n",
    "            print(data)\n",
    "            print(x.tell())\n",
    "            \n",
    "        \n",
    "        except Exception as e:\n",
    "            logging.error(\"error occured while opening the file..\")\n",
    "            logging.exception(\"error is \",e)\n",
    "            \n",
    "        x.close()\n",
    "            \n",
    "    def write(self,lines):\n",
    "        logging.info(\"executing the write methode..\")\n",
    "        \n",
    "        try:\n",
    "            x = open(self.file_name,\"w\")\n",
    "            x.read()\n",
    "            data = x.write(data)\n",
    "            \n",
    "            \n",
    "        except Exception as e:\n",
    "            logging.error(\"something going wrong..\")\n",
    "            \n",
    "        x.close()\n",
    "            \n",
    "obj1 = file(\"test20.txt\")\n",
    "            "
   ]
  },
  {
   "cell_type": "code",
   "execution_count": 112,
   "id": "80a32d90",
   "metadata": {},
   "outputs": [
    {
     "name": "stdout",
     "output_type": "stream",
     "text": [
      "\n",
      "0\n"
     ]
    }
   ],
   "source": [
    "obj1.read()"
   ]
  },
  {
   "cell_type": "code",
   "execution_count": 113,
   "id": "4b600284",
   "metadata": {},
   "outputs": [],
   "source": [
    "obj1.write(\"this is my second last line.........\")"
   ]
  },
  {
   "cell_type": "code",
   "execution_count": 114,
   "id": "9dcc0e2d",
   "metadata": {},
   "outputs": [
    {
     "name": "stdout",
     "output_type": "stream",
     "text": [
      "\n",
      "0\n"
     ]
    }
   ],
   "source": [
    "obj1.read()"
   ]
  },
  {
   "cell_type": "code",
   "execution_count": 117,
   "id": "28d95ff4",
   "metadata": {},
   "outputs": [],
   "source": [
    "class test:\n",
    "    def __init__(self):\n",
    "        self.a=4\n",
    "        \n",
    "class test1(test):\n",
    "    pass\n",
    "\n",
    "u=test()"
   ]
  },
  {
   "cell_type": "code",
   "execution_count": 118,
   "id": "84bcb9fc",
   "metadata": {},
   "outputs": [
    {
     "data": {
      "text/plain": [
       "4"
      ]
     },
     "execution_count": 118,
     "metadata": {},
     "output_type": "execute_result"
    }
   ],
   "source": [
    "u.a"
   ]
  },
  {
   "cell_type": "code",
   "execution_count": 119,
   "id": "dfdad042",
   "metadata": {},
   "outputs": [],
   "source": [
    "v = test1()"
   ]
  },
  {
   "cell_type": "code",
   "execution_count": 120,
   "id": "25513f97",
   "metadata": {},
   "outputs": [
    {
     "data": {
      "text/plain": [
       "4"
      ]
     },
     "execution_count": 120,
     "metadata": {},
     "output_type": "execute_result"
    }
   ],
   "source": [
    "v.a"
   ]
  },
  {
   "cell_type": "code",
   "execution_count": 121,
   "id": "d5710e8f",
   "metadata": {},
   "outputs": [
    {
     "ename": "NameError",
     "evalue": "name 'self' is not defined",
     "output_type": "error",
     "traceback": [
      "\u001b[1;31m---------------------------------------------------------------------------\u001b[0m",
      "\u001b[1;31mNameError\u001b[0m                                 Traceback (most recent call last)",
      "\u001b[1;32mC:\\Users\\NIKSHI~1.VOR\\AppData\\Local\\Temp/ipykernel_3880/3682841121.py\u001b[0m in \u001b[0;36m<module>\u001b[1;34m\u001b[0m\n\u001b[0;32m      3\u001b[0m         \u001b[0mself\u001b[0m\u001b[1;33m.\u001b[0m\u001b[0ma\u001b[0m\u001b[1;33m=\u001b[0m\u001b[1;36m4\u001b[0m\u001b[1;33m\u001b[0m\u001b[1;33m\u001b[0m\u001b[0m\n\u001b[0;32m      4\u001b[0m \u001b[1;33m\u001b[0m\u001b[0m\n\u001b[1;32m----> 5\u001b[1;33m \u001b[1;32mclass\u001b[0m \u001b[0mtest1\u001b[0m\u001b[1;33m(\u001b[0m\u001b[0mtest\u001b[0m\u001b[1;33m)\u001b[0m\u001b[1;33m:\u001b[0m\u001b[1;33m\u001b[0m\u001b[1;33m\u001b[0m\u001b[0m\n\u001b[0m\u001b[0;32m      6\u001b[0m     \u001b[0mself\u001b[0m\u001b[1;33m.\u001b[0m\u001b[0ma\u001b[0m\u001b[1;33m=\u001b[0m\u001b[1;36m7\u001b[0m\u001b[1;33m\u001b[0m\u001b[1;33m\u001b[0m\u001b[0m\n\u001b[0;32m      7\u001b[0m \u001b[1;33m\u001b[0m\u001b[0m\n",
      "\u001b[1;32mC:\\Users\\NIKSHI~1.VOR\\AppData\\Local\\Temp/ipykernel_3880/3682841121.py\u001b[0m in \u001b[0;36mtest1\u001b[1;34m()\u001b[0m\n\u001b[0;32m      4\u001b[0m \u001b[1;33m\u001b[0m\u001b[0m\n\u001b[0;32m      5\u001b[0m \u001b[1;32mclass\u001b[0m \u001b[0mtest1\u001b[0m\u001b[1;33m(\u001b[0m\u001b[0mtest\u001b[0m\u001b[1;33m)\u001b[0m\u001b[1;33m:\u001b[0m\u001b[1;33m\u001b[0m\u001b[1;33m\u001b[0m\u001b[0m\n\u001b[1;32m----> 6\u001b[1;33m     \u001b[0mself\u001b[0m\u001b[1;33m.\u001b[0m\u001b[0ma\u001b[0m\u001b[1;33m=\u001b[0m\u001b[1;36m7\u001b[0m\u001b[1;33m\u001b[0m\u001b[1;33m\u001b[0m\u001b[0m\n\u001b[0m\u001b[0;32m      7\u001b[0m \u001b[1;33m\u001b[0m\u001b[0m\n\u001b[0;32m      8\u001b[0m \u001b[0mu\u001b[0m\u001b[1;33m=\u001b[0m\u001b[0mtest\u001b[0m\u001b[1;33m(\u001b[0m\u001b[1;33m)\u001b[0m\u001b[1;33m\u001b[0m\u001b[1;33m\u001b[0m\u001b[0m\n",
      "\u001b[1;31mNameError\u001b[0m: name 'self' is not defined"
     ]
    }
   ],
   "source": [
    "class test:\n",
    "    def __init__(self):\n",
    "        self.a=4\n",
    "        \n",
    "class test1(test):\n",
    "    self.a=7\n",
    "\n",
    "u=test()"
   ]
  },
  {
   "cell_type": "code",
   "execution_count": 122,
   "id": "fd422fd6",
   "metadata": {},
   "outputs": [],
   "source": [
    "class test:\n",
    "    def __init__(self):\n",
    "        self.a=4\n",
    "        \n",
    "class test1(test):\n",
    "    def __init__(self):\n",
    "        self.a=7\n",
    "\n",
    "u=test()"
   ]
  },
  {
   "cell_type": "code",
   "execution_count": 123,
   "id": "93357378",
   "metadata": {},
   "outputs": [
    {
     "data": {
      "text/plain": [
       "4"
      ]
     },
     "execution_count": 123,
     "metadata": {},
     "output_type": "execute_result"
    }
   ],
   "source": [
    "u.a"
   ]
  },
  {
   "cell_type": "code",
   "execution_count": 124,
   "id": "6724233a",
   "metadata": {},
   "outputs": [],
   "source": [
    "y = test1()"
   ]
  },
  {
   "cell_type": "code",
   "execution_count": 125,
   "id": "7d2a39ca",
   "metadata": {},
   "outputs": [
    {
     "data": {
      "text/plain": [
       "7"
      ]
     },
     "execution_count": 125,
     "metadata": {},
     "output_type": "execute_result"
    }
   ],
   "source": [
    "y.a"
   ]
  },
  {
   "cell_type": "code",
   "execution_count": 126,
   "id": "2c18c1f8",
   "metadata": {},
   "outputs": [],
   "source": [
    "class test:\n",
    "    def __init__(self):\n",
    "        self.a=4\n",
    "        \n",
    "class test1(test):\n",
    "    def __init__(self):\n",
    "        test.__init__(self)\n",
    "        self.a=7\n",
    "\n",
    "u=test()"
   ]
  },
  {
   "cell_type": "code",
   "execution_count": 127,
   "id": "abf8ba29",
   "metadata": {},
   "outputs": [
    {
     "data": {
      "text/plain": [
       "4"
      ]
     },
     "execution_count": 127,
     "metadata": {},
     "output_type": "execute_result"
    }
   ],
   "source": [
    "u.a"
   ]
  },
  {
   "cell_type": "code",
   "execution_count": 128,
   "id": "71fadca8",
   "metadata": {},
   "outputs": [],
   "source": [
    "u =test1()"
   ]
  },
  {
   "cell_type": "code",
   "execution_count": 129,
   "id": "05a85e92",
   "metadata": {},
   "outputs": [
    {
     "data": {
      "text/plain": [
       "7"
      ]
     },
     "execution_count": 129,
     "metadata": {},
     "output_type": "execute_result"
    }
   ],
   "source": [
    "u.a"
   ]
  },
  {
   "cell_type": "code",
   "execution_count": 133,
   "id": "c9e43fb8",
   "metadata": {},
   "outputs": [],
   "source": [
    "class test:\n",
    "    def __init__(self):\n",
    "        self._a=4\n",
    "        \n",
    "class test1(test):\n",
    "    def __init__(self):\n",
    "        test.__init__(self)\n",
    "        self._a=7\n",
    "\n",
    "u=test()"
   ]
  },
  {
   "cell_type": "code",
   "execution_count": 134,
   "id": "638aaad6",
   "metadata": {},
   "outputs": [
    {
     "ename": "AttributeError",
     "evalue": "'test' object has no attribute 'a'",
     "output_type": "error",
     "traceback": [
      "\u001b[1;31m---------------------------------------------------------------------------\u001b[0m",
      "\u001b[1;31mAttributeError\u001b[0m                            Traceback (most recent call last)",
      "\u001b[1;32mC:\\Users\\NIKSHI~1.VOR\\AppData\\Local\\Temp/ipykernel_3880/1152367088.py\u001b[0m in \u001b[0;36m<module>\u001b[1;34m\u001b[0m\n\u001b[1;32m----> 1\u001b[1;33m \u001b[0mu\u001b[0m\u001b[1;33m.\u001b[0m\u001b[0ma\u001b[0m\u001b[1;33m\u001b[0m\u001b[1;33m\u001b[0m\u001b[0m\n\u001b[0m",
      "\u001b[1;31mAttributeError\u001b[0m: 'test' object has no attribute 'a'"
     ]
    }
   ],
   "source": [
    "u.a"
   ]
  },
  {
   "cell_type": "code",
   "execution_count": 135,
   "id": "74cf0935",
   "metadata": {},
   "outputs": [
    {
     "data": {
      "text/plain": [
       "4"
      ]
     },
     "execution_count": 135,
     "metadata": {},
     "output_type": "execute_result"
    }
   ],
   "source": [
    "u._a"
   ]
  },
  {
   "cell_type": "code",
   "execution_count": 136,
   "id": "8de756de",
   "metadata": {},
   "outputs": [],
   "source": [
    "v = test1()"
   ]
  },
  {
   "cell_type": "code",
   "execution_count": 137,
   "id": "6f792ab4",
   "metadata": {},
   "outputs": [
    {
     "ename": "AttributeError",
     "evalue": "'test1' object has no attribute 'a'",
     "output_type": "error",
     "traceback": [
      "\u001b[1;31m---------------------------------------------------------------------------\u001b[0m",
      "\u001b[1;31mAttributeError\u001b[0m                            Traceback (most recent call last)",
      "\u001b[1;32mC:\\Users\\NIKSHI~1.VOR\\AppData\\Local\\Temp/ipykernel_3880/3524926159.py\u001b[0m in \u001b[0;36m<module>\u001b[1;34m\u001b[0m\n\u001b[1;32m----> 1\u001b[1;33m \u001b[0mv\u001b[0m\u001b[1;33m.\u001b[0m\u001b[0ma\u001b[0m\u001b[1;33m\u001b[0m\u001b[1;33m\u001b[0m\u001b[0m\n\u001b[0m",
      "\u001b[1;31mAttributeError\u001b[0m: 'test1' object has no attribute 'a'"
     ]
    }
   ],
   "source": [
    "v.a"
   ]
  },
  {
   "cell_type": "code",
   "execution_count": 138,
   "id": "cd3b63bc",
   "metadata": {},
   "outputs": [
    {
     "data": {
      "text/plain": [
       "7"
      ]
     },
     "execution_count": 138,
     "metadata": {},
     "output_type": "execute_result"
    }
   ],
   "source": [
    "v._a"
   ]
  },
  {
   "cell_type": "code",
   "execution_count": 139,
   "id": "f50cadb7",
   "metadata": {},
   "outputs": [],
   "source": [
    "class test:\n",
    "    def __init__(self):\n",
    "        self._a=4\n",
    "        \n",
    "class test1(test):\n",
    "    def __init__(self):\n",
    "        test.__init__(self)\n",
    "        self._a=7\n",
    "\n",
    "u=test()"
   ]
  },
  {
   "cell_type": "code",
   "execution_count": 140,
   "id": "9110eb3f",
   "metadata": {},
   "outputs": [
    {
     "ename": "AttributeError",
     "evalue": "'test' object has no attribute 'a'",
     "output_type": "error",
     "traceback": [
      "\u001b[1;31m---------------------------------------------------------------------------\u001b[0m",
      "\u001b[1;31mAttributeError\u001b[0m                            Traceback (most recent call last)",
      "\u001b[1;32mC:\\Users\\NIKSHI~1.VOR\\AppData\\Local\\Temp/ipykernel_3880/1152367088.py\u001b[0m in \u001b[0;36m<module>\u001b[1;34m\u001b[0m\n\u001b[1;32m----> 1\u001b[1;33m \u001b[0mu\u001b[0m\u001b[1;33m.\u001b[0m\u001b[0ma\u001b[0m\u001b[1;33m\u001b[0m\u001b[1;33m\u001b[0m\u001b[0m\n\u001b[0m",
      "\u001b[1;31mAttributeError\u001b[0m: 'test' object has no attribute 'a'"
     ]
    }
   ],
   "source": [
    "u.a"
   ]
  },
  {
   "cell_type": "code",
   "execution_count": 141,
   "id": "c857076d",
   "metadata": {},
   "outputs": [
    {
     "ename": "AttributeError",
     "evalue": "'test' object has no attribute '__a'",
     "output_type": "error",
     "traceback": [
      "\u001b[1;31m---------------------------------------------------------------------------\u001b[0m",
      "\u001b[1;31mAttributeError\u001b[0m                            Traceback (most recent call last)",
      "\u001b[1;32mC:\\Users\\NIKSHI~1.VOR\\AppData\\Local\\Temp/ipykernel_3880/3701111835.py\u001b[0m in \u001b[0;36m<module>\u001b[1;34m\u001b[0m\n\u001b[1;32m----> 1\u001b[1;33m \u001b[0mu\u001b[0m\u001b[1;33m.\u001b[0m\u001b[0m__a\u001b[0m\u001b[1;33m\u001b[0m\u001b[1;33m\u001b[0m\u001b[0m\n\u001b[0m",
      "\u001b[1;31mAttributeError\u001b[0m: 'test' object has no attribute '__a'"
     ]
    }
   ],
   "source": [
    "u.__a"
   ]
  },
  {
   "cell_type": "code",
   "execution_count": 142,
   "id": "9d208016",
   "metadata": {},
   "outputs": [],
   "source": [
    "v = test1()"
   ]
  },
  {
   "cell_type": "code",
   "execution_count": 143,
   "id": "e428e564",
   "metadata": {},
   "outputs": [
    {
     "ename": "AttributeError",
     "evalue": "'test1' object has no attribute 'a'",
     "output_type": "error",
     "traceback": [
      "\u001b[1;31m---------------------------------------------------------------------------\u001b[0m",
      "\u001b[1;31mAttributeError\u001b[0m                            Traceback (most recent call last)",
      "\u001b[1;32mC:\\Users\\NIKSHI~1.VOR\\AppData\\Local\\Temp/ipykernel_3880/3524926159.py\u001b[0m in \u001b[0;36m<module>\u001b[1;34m\u001b[0m\n\u001b[1;32m----> 1\u001b[1;33m \u001b[0mv\u001b[0m\u001b[1;33m.\u001b[0m\u001b[0ma\u001b[0m\u001b[1;33m\u001b[0m\u001b[1;33m\u001b[0m\u001b[0m\n\u001b[0m",
      "\u001b[1;31mAttributeError\u001b[0m: 'test1' object has no attribute 'a'"
     ]
    }
   ],
   "source": [
    "v.a"
   ]
  },
  {
   "cell_type": "code",
   "execution_count": 144,
   "id": "90176903",
   "metadata": {},
   "outputs": [
    {
     "ename": "AttributeError",
     "evalue": "'test1' object has no attribute '__a'",
     "output_type": "error",
     "traceback": [
      "\u001b[1;31m---------------------------------------------------------------------------\u001b[0m",
      "\u001b[1;31mAttributeError\u001b[0m                            Traceback (most recent call last)",
      "\u001b[1;32mC:\\Users\\NIKSHI~1.VOR\\AppData\\Local\\Temp/ipykernel_3880/699859394.py\u001b[0m in \u001b[0;36m<module>\u001b[1;34m\u001b[0m\n\u001b[1;32m----> 1\u001b[1;33m \u001b[0mv\u001b[0m\u001b[1;33m.\u001b[0m\u001b[0m__a\u001b[0m\u001b[1;33m\u001b[0m\u001b[1;33m\u001b[0m\u001b[0m\n\u001b[0m",
      "\u001b[1;31mAttributeError\u001b[0m: 'test1' object has no attribute '__a'"
     ]
    }
   ],
   "source": [
    "v.__a"
   ]
  },
  {
   "cell_type": "code",
   "execution_count": 149,
   "id": "ddba15d6",
   "metadata": {},
   "outputs": [],
   "source": [
    "class test:\n",
    "    def __init__(self,a,b,c):\n",
    "        self._a=a\n",
    "        self.__b=b\n",
    "        self.c=c\n",
    "        \n",
    "v = test(5,6,7)\n",
    "        "
   ]
  },
  {
   "cell_type": "code",
   "execution_count": 150,
   "id": "2c7c58a3",
   "metadata": {},
   "outputs": [
    {
     "ename": "AttributeError",
     "evalue": "'test' object has no attribute 'a'",
     "output_type": "error",
     "traceback": [
      "\u001b[1;31m---------------------------------------------------------------------------\u001b[0m",
      "\u001b[1;31mAttributeError\u001b[0m                            Traceback (most recent call last)",
      "\u001b[1;32mC:\\Users\\NIKSHI~1.VOR\\AppData\\Local\\Temp/ipykernel_3880/3524926159.py\u001b[0m in \u001b[0;36m<module>\u001b[1;34m\u001b[0m\n\u001b[1;32m----> 1\u001b[1;33m \u001b[0mv\u001b[0m\u001b[1;33m.\u001b[0m\u001b[0ma\u001b[0m\u001b[1;33m\u001b[0m\u001b[1;33m\u001b[0m\u001b[0m\n\u001b[0m",
      "\u001b[1;31mAttributeError\u001b[0m: 'test' object has no attribute 'a'"
     ]
    }
   ],
   "source": [
    "v.a"
   ]
  },
  {
   "cell_type": "code",
   "execution_count": 151,
   "id": "e7989428",
   "metadata": {},
   "outputs": [
    {
     "data": {
      "text/plain": [
       "5"
      ]
     },
     "execution_count": 151,
     "metadata": {},
     "output_type": "execute_result"
    }
   ],
   "source": [
    "v._a"
   ]
  },
  {
   "cell_type": "code",
   "execution_count": 152,
   "id": "599fd299",
   "metadata": {},
   "outputs": [
    {
     "ename": "AttributeError",
     "evalue": "'test' object has no attribute '__b'",
     "output_type": "error",
     "traceback": [
      "\u001b[1;31m---------------------------------------------------------------------------\u001b[0m",
      "\u001b[1;31mAttributeError\u001b[0m                            Traceback (most recent call last)",
      "\u001b[1;32mC:\\Users\\NIKSHI~1.VOR\\AppData\\Local\\Temp/ipykernel_3880/2806812484.py\u001b[0m in \u001b[0;36m<module>\u001b[1;34m\u001b[0m\n\u001b[1;32m----> 1\u001b[1;33m \u001b[0mv\u001b[0m\u001b[1;33m.\u001b[0m\u001b[0m__b\u001b[0m\u001b[1;33m\u001b[0m\u001b[1;33m\u001b[0m\u001b[0m\n\u001b[0m",
      "\u001b[1;31mAttributeError\u001b[0m: 'test' object has no attribute '__b'"
     ]
    }
   ],
   "source": [
    "v.__b"
   ]
  },
  {
   "cell_type": "code",
   "execution_count": 153,
   "id": "ad008712",
   "metadata": {},
   "outputs": [
    {
     "data": {
      "text/plain": [
       "6"
      ]
     },
     "execution_count": 153,
     "metadata": {},
     "output_type": "execute_result"
    }
   ],
   "source": [
    "v._test__b"
   ]
  },
  {
   "cell_type": "code",
   "execution_count": 162,
   "id": "55a663f3",
   "metadata": {},
   "outputs": [],
   "source": [
    "class test:\n",
    "    def __init__(self,a,b,c):\n",
    "        self._a=a\n",
    "        self.__b=b\n",
    "        self.c=c\n",
    "        \n",
    "class test1(test):\n",
    "    pass\n",
    "        \n",
    "v = test(5,6,7)\n",
    "        "
   ]
  },
  {
   "cell_type": "code",
   "execution_count": 163,
   "id": "a0bc3534",
   "metadata": {},
   "outputs": [
    {
     "data": {
      "text/plain": [
       "5"
      ]
     },
     "execution_count": 163,
     "metadata": {},
     "output_type": "execute_result"
    }
   ],
   "source": [
    "v._a"
   ]
  },
  {
   "cell_type": "code",
   "execution_count": 164,
   "id": "c9e43daa",
   "metadata": {},
   "outputs": [
    {
     "data": {
      "text/plain": [
       "6"
      ]
     },
     "execution_count": 164,
     "metadata": {},
     "output_type": "execute_result"
    }
   ],
   "source": [
    "v._test__b"
   ]
  },
  {
   "cell_type": "code",
   "execution_count": 165,
   "id": "9300347c",
   "metadata": {},
   "outputs": [
    {
     "data": {
      "text/plain": [
       "7"
      ]
     },
     "execution_count": 165,
     "metadata": {},
     "output_type": "execute_result"
    }
   ],
   "source": [
    "v.c"
   ]
  },
  {
   "cell_type": "code",
   "execution_count": 166,
   "id": "ecc20f5d",
   "metadata": {},
   "outputs": [
    {
     "ename": "TypeError",
     "evalue": "__init__() missing 3 required positional arguments: 'a', 'b', and 'c'",
     "output_type": "error",
     "traceback": [
      "\u001b[1;31m---------------------------------------------------------------------------\u001b[0m",
      "\u001b[1;31mTypeError\u001b[0m                                 Traceback (most recent call last)",
      "\u001b[1;32mC:\\Users\\NIKSHI~1.VOR\\AppData\\Local\\Temp/ipykernel_3880/245633221.py\u001b[0m in \u001b[0;36m<module>\u001b[1;34m\u001b[0m\n\u001b[1;32m----> 1\u001b[1;33m \u001b[0mu\u001b[0m \u001b[1;33m=\u001b[0m \u001b[0mtest1\u001b[0m\u001b[1;33m(\u001b[0m\u001b[1;33m)\u001b[0m\u001b[1;33m\u001b[0m\u001b[1;33m\u001b[0m\u001b[0m\n\u001b[0m",
      "\u001b[1;31mTypeError\u001b[0m: __init__() missing 3 required positional arguments: 'a', 'b', and 'c'"
     ]
    }
   ],
   "source": [
    " u = test1()"
   ]
  },
  {
   "cell_type": "code",
   "execution_count": 167,
   "id": "58b1336c",
   "metadata": {},
   "outputs": [],
   "source": [
    "u = test1(1,2,3)"
   ]
  },
  {
   "cell_type": "code",
   "execution_count": 168,
   "id": "071bcf5b",
   "metadata": {},
   "outputs": [
    {
     "ename": "AttributeError",
     "evalue": "'test1' object has no attribute 'a'",
     "output_type": "error",
     "traceback": [
      "\u001b[1;31m---------------------------------------------------------------------------\u001b[0m",
      "\u001b[1;31mAttributeError\u001b[0m                            Traceback (most recent call last)",
      "\u001b[1;32mC:\\Users\\NIKSHI~1.VOR\\AppData\\Local\\Temp/ipykernel_3880/1152367088.py\u001b[0m in \u001b[0;36m<module>\u001b[1;34m\u001b[0m\n\u001b[1;32m----> 1\u001b[1;33m \u001b[0mu\u001b[0m\u001b[1;33m.\u001b[0m\u001b[0ma\u001b[0m\u001b[1;33m\u001b[0m\u001b[1;33m\u001b[0m\u001b[0m\n\u001b[0m",
      "\u001b[1;31mAttributeError\u001b[0m: 'test1' object has no attribute 'a'"
     ]
    }
   ],
   "source": [
    "u.a"
   ]
  },
  {
   "cell_type": "code",
   "execution_count": 169,
   "id": "6d24e856",
   "metadata": {},
   "outputs": [
    {
     "data": {
      "text/plain": [
       "1"
      ]
     },
     "execution_count": 169,
     "metadata": {},
     "output_type": "execute_result"
    }
   ],
   "source": [
    "u._a"
   ]
  },
  {
   "cell_type": "code",
   "execution_count": 170,
   "id": "5a5238ec",
   "metadata": {},
   "outputs": [
    {
     "ename": "AttributeError",
     "evalue": "'test1' object has no attribute 'b'",
     "output_type": "error",
     "traceback": [
      "\u001b[1;31m---------------------------------------------------------------------------\u001b[0m",
      "\u001b[1;31mAttributeError\u001b[0m                            Traceback (most recent call last)",
      "\u001b[1;32mC:\\Users\\NIKSHI~1.VOR\\AppData\\Local\\Temp/ipykernel_3880/2029889052.py\u001b[0m in \u001b[0;36m<module>\u001b[1;34m\u001b[0m\n\u001b[1;32m----> 1\u001b[1;33m \u001b[0mu\u001b[0m\u001b[1;33m.\u001b[0m\u001b[0mb\u001b[0m\u001b[1;33m\u001b[0m\u001b[1;33m\u001b[0m\u001b[0m\n\u001b[0m",
      "\u001b[1;31mAttributeError\u001b[0m: 'test1' object has no attribute 'b'"
     ]
    }
   ],
   "source": [
    "u.b"
   ]
  },
  {
   "cell_type": "code",
   "execution_count": 171,
   "id": "17a58dba",
   "metadata": {},
   "outputs": [
    {
     "ename": "AttributeError",
     "evalue": "'test1' object has no attribute '__b'",
     "output_type": "error",
     "traceback": [
      "\u001b[1;31m---------------------------------------------------------------------------\u001b[0m",
      "\u001b[1;31mAttributeError\u001b[0m                            Traceback (most recent call last)",
      "\u001b[1;32mC:\\Users\\NIKSHI~1.VOR\\AppData\\Local\\Temp/ipykernel_3880/341573333.py\u001b[0m in \u001b[0;36m<module>\u001b[1;34m\u001b[0m\n\u001b[1;32m----> 1\u001b[1;33m \u001b[0mu\u001b[0m\u001b[1;33m.\u001b[0m\u001b[0m__b\u001b[0m\u001b[1;33m\u001b[0m\u001b[1;33m\u001b[0m\u001b[0m\n\u001b[0m",
      "\u001b[1;31mAttributeError\u001b[0m: 'test1' object has no attribute '__b'"
     ]
    }
   ],
   "source": [
    "u.__b"
   ]
  },
  {
   "cell_type": "code",
   "execution_count": 172,
   "id": "14e7e434",
   "metadata": {},
   "outputs": [
    {
     "data": {
      "text/plain": [
       "2"
      ]
     },
     "execution_count": 172,
     "metadata": {},
     "output_type": "execute_result"
    }
   ],
   "source": [
    "u._test__b"
   ]
  },
  {
   "cell_type": "code",
   "execution_count": 173,
   "id": "a40cb2e6",
   "metadata": {},
   "outputs": [
    {
     "data": {
      "text/plain": [
       "3"
      ]
     },
     "execution_count": 173,
     "metadata": {},
     "output_type": "execute_result"
    }
   ],
   "source": [
    "u.c"
   ]
  },
  {
   "cell_type": "code",
   "execution_count": 174,
   "id": "559f529c",
   "metadata": {},
   "outputs": [
    {
     "ename": "AttributeError",
     "evalue": "'test1' object has no attribute '_test1__b'",
     "output_type": "error",
     "traceback": [
      "\u001b[1;31m---------------------------------------------------------------------------\u001b[0m",
      "\u001b[1;31mAttributeError\u001b[0m                            Traceback (most recent call last)",
      "\u001b[1;32mC:\\Users\\NIKSHI~1.VOR\\AppData\\Local\\Temp/ipykernel_3880/4083783106.py\u001b[0m in \u001b[0;36m<module>\u001b[1;34m\u001b[0m\n\u001b[1;32m----> 1\u001b[1;33m \u001b[0mu\u001b[0m\u001b[1;33m.\u001b[0m\u001b[0m_test1__b\u001b[0m\u001b[1;33m\u001b[0m\u001b[1;33m\u001b[0m\u001b[0m\n\u001b[0m",
      "\u001b[1;31mAttributeError\u001b[0m: 'test1' object has no attribute '_test1__b'"
     ]
    }
   ],
   "source": [
    "u._test1__b"
   ]
  },
  {
   "cell_type": "code",
   "execution_count": 175,
   "id": "294ff7b8",
   "metadata": {},
   "outputs": [],
   "source": [
    "class bc:\n",
    "    def __init__(self,empid,empidrating):\n",
    "        self.empid = empid\n",
    "        self.empidrating = empidrating\n",
    "        self.__bonusforratingA = \"70%\"\n",
    "        self.__bonusforratingB = \"60%\"\n",
    "        self.__bonusforratingC = \"40%\"\n",
    "        \n",
    "    def b_c(self):\n",
    "        if self.empidrating==\"A\":\n",
    "            bonus = self.__bonusforratingA\n",
    "            return bonus\n",
    "        elif self.empidrating==\"B\":\n",
    "            bonus = self.__bonusforratingB\n",
    "            return bonus\n",
    "        else:\n",
    "            bonus = self.__bonusforratingC\n",
    "            return bonus"
   ]
  },
  {
   "cell_type": "code",
   "execution_count": 176,
   "id": "6882c4a9",
   "metadata": {},
   "outputs": [],
   "source": [
    "emp1 = bc(636668,\"A\")\n",
    "emp2 = bc(636669,\"B\")\n",
    "emp3 = bc(636670,\"C\")"
   ]
  },
  {
   "cell_type": "code",
   "execution_count": 177,
   "id": "cfed4248",
   "metadata": {},
   "outputs": [
    {
     "data": {
      "text/plain": [
       "'70%'"
      ]
     },
     "execution_count": 177,
     "metadata": {},
     "output_type": "execute_result"
    }
   ],
   "source": [
    "emp1.b_c()"
   ]
  },
  {
   "cell_type": "code",
   "execution_count": 178,
   "id": "82980f60",
   "metadata": {},
   "outputs": [
    {
     "data": {
      "text/plain": [
       "'60%'"
      ]
     },
     "execution_count": 178,
     "metadata": {},
     "output_type": "execute_result"
    }
   ],
   "source": [
    "emp2.b_c()"
   ]
  },
  {
   "cell_type": "code",
   "execution_count": 179,
   "id": "894e0160",
   "metadata": {},
   "outputs": [
    {
     "data": {
      "text/plain": [
       "'40%'"
      ]
     },
     "execution_count": 179,
     "metadata": {},
     "output_type": "execute_result"
    }
   ],
   "source": [
    "emp3.b_c()"
   ]
  },
  {
   "cell_type": "code",
   "execution_count": 180,
   "id": "09e723cd",
   "metadata": {},
   "outputs": [],
   "source": [
    "emp1.empid = 10"
   ]
  },
  {
   "cell_type": "code",
   "execution_count": 181,
   "id": "fa0d06cb",
   "metadata": {},
   "outputs": [
    {
     "data": {
      "text/plain": [
       "10"
      ]
     },
     "execution_count": 181,
     "metadata": {},
     "output_type": "execute_result"
    }
   ],
   "source": [
    "emp1.empid"
   ]
  },
  {
   "cell_type": "code",
   "execution_count": 182,
   "id": "e2bef2dd",
   "metadata": {},
   "outputs": [],
   "source": [
    "emp1.empidrating = \"B\""
   ]
  },
  {
   "cell_type": "code",
   "execution_count": 183,
   "id": "21d1ff83",
   "metadata": {},
   "outputs": [
    {
     "data": {
      "text/plain": [
       "'B'"
      ]
     },
     "execution_count": 183,
     "metadata": {},
     "output_type": "execute_result"
    }
   ],
   "source": [
    "emp1.empidrating"
   ]
  },
  {
   "cell_type": "code",
   "execution_count": 184,
   "id": "53d25e34",
   "metadata": {},
   "outputs": [
    {
     "data": {
      "text/plain": [
       "'60%'"
      ]
     },
     "execution_count": 184,
     "metadata": {},
     "output_type": "execute_result"
    }
   ],
   "source": [
    "emp1.b_c()"
   ]
  },
  {
   "cell_type": "code",
   "execution_count": 185,
   "id": "c07064fa",
   "metadata": {},
   "outputs": [],
   "source": [
    "emp1.__bonusforratingB = \"%90\""
   ]
  },
  {
   "cell_type": "code",
   "execution_count": 186,
   "id": "bf6ec907",
   "metadata": {},
   "outputs": [
    {
     "data": {
      "text/plain": [
       "'60%'"
      ]
     },
     "execution_count": 186,
     "metadata": {},
     "output_type": "execute_result"
    }
   ],
   "source": [
    "emp1.b_c()"
   ]
  },
  {
   "cell_type": "code",
   "execution_count": 188,
   "id": "79690947",
   "metadata": {},
   "outputs": [
    {
     "data": {
      "text/plain": [
       "'40%'"
      ]
     },
     "execution_count": 188,
     "metadata": {},
     "output_type": "execute_result"
    }
   ],
   "source": [
    "emp1._bc__bonusforratingC"
   ]
  },
  {
   "cell_type": "code",
   "execution_count": 189,
   "id": "1fed3519",
   "metadata": {},
   "outputs": [],
   "source": [
    "emp1._bc__bonusforratingC = 45"
   ]
  },
  {
   "cell_type": "code",
   "execution_count": 190,
   "id": "36aff711",
   "metadata": {},
   "outputs": [
    {
     "ename": "AttributeError",
     "evalue": "'bc' object has no attribute '__bonusforratingC'",
     "output_type": "error",
     "traceback": [
      "\u001b[1;31m---------------------------------------------------------------------------\u001b[0m",
      "\u001b[1;31mAttributeError\u001b[0m                            Traceback (most recent call last)",
      "\u001b[1;32mC:\\Users\\NIKSHI~1.VOR\\AppData\\Local\\Temp/ipykernel_3880/3681524035.py\u001b[0m in \u001b[0;36m<module>\u001b[1;34m\u001b[0m\n\u001b[1;32m----> 1\u001b[1;33m \u001b[0memp1\u001b[0m\u001b[1;33m.\u001b[0m\u001b[0m__bonusforratingC\u001b[0m\u001b[1;33m\u001b[0m\u001b[1;33m\u001b[0m\u001b[0m\n\u001b[0m",
      "\u001b[1;31mAttributeError\u001b[0m: 'bc' object has no attribute '__bonusforratingC'"
     ]
    }
   ],
   "source": [
    "emp1.__bonusforratingC"
   ]
  },
  {
   "cell_type": "code",
   "execution_count": 191,
   "id": "0b54e9c4",
   "metadata": {},
   "outputs": [
    {
     "data": {
      "text/plain": [
       "'60%'"
      ]
     },
     "execution_count": 191,
     "metadata": {},
     "output_type": "execute_result"
    }
   ],
   "source": [
    "emp1.b_c()"
   ]
  },
  {
   "cell_type": "code",
   "execution_count": 192,
   "id": "a7bc7821",
   "metadata": {},
   "outputs": [],
   "source": [
    "emp1.empidrating=\"C\""
   ]
  },
  {
   "cell_type": "code",
   "execution_count": 193,
   "id": "37633439",
   "metadata": {},
   "outputs": [
    {
     "data": {
      "text/plain": [
       "45"
      ]
     },
     "execution_count": 193,
     "metadata": {},
     "output_type": "execute_result"
    }
   ],
   "source": [
    "emp1.b_c()"
   ]
  },
  {
   "cell_type": "code",
   "execution_count": 197,
   "id": "8be1ff87",
   "metadata": {},
   "outputs": [],
   "source": [
    "class bc:\n",
    "    def __init__(self,empid,empidrating):\n",
    "        self.empid = empid\n",
    "        self._empmailid = \"emp@gmail.com\"\n",
    "        self.empidrating = empidrating\n",
    "        self.__bonusforratingA = \"70%\"\n",
    "        self.__bonusforratingB = \"60%\"\n",
    "        self.__bonusforratingC = \"40%\"\n",
    "        \n",
    "    def b_c(self):\n",
    "        if self.empidrating==\"A\":\n",
    "            bonus = self.__bonusforratingA\n",
    "            return bonus\n",
    "        elif self.empidrating==\"B\":\n",
    "            bonus = self.__bonusforratingB\n",
    "            return bonus\n",
    "        else:\n",
    "            bonus = self.__bonusforratingC\n",
    "            return bonus"
   ]
  },
  {
   "cell_type": "code",
   "execution_count": 198,
   "id": "599c7065",
   "metadata": {},
   "outputs": [],
   "source": [
    "emp1 = bc(1,\"A\")"
   ]
  },
  {
   "cell_type": "code",
   "execution_count": 199,
   "id": "0ba99209",
   "metadata": {},
   "outputs": [
    {
     "data": {
      "text/plain": [
       "'emp@gmail.com'"
      ]
     },
     "execution_count": 199,
     "metadata": {},
     "output_type": "execute_result"
    }
   ],
   "source": [
    "emp1._empmailid"
   ]
  },
  {
   "cell_type": "code",
   "execution_count": 200,
   "id": "503f25bd",
   "metadata": {},
   "outputs": [],
   "source": [
    "emp1._empmailid = \"jhggguyj\""
   ]
  },
  {
   "cell_type": "code",
   "execution_count": 201,
   "id": "140a8a7e",
   "metadata": {},
   "outputs": [
    {
     "data": {
      "text/plain": [
       "'jhggguyj'"
      ]
     },
     "execution_count": 201,
     "metadata": {},
     "output_type": "execute_result"
    }
   ],
   "source": [
    "emp1._empmailid"
   ]
  },
  {
   "cell_type": "code",
   "execution_count": 1,
   "id": "7e6de41e",
   "metadata": {},
   "outputs": [],
   "source": [
    "def test(a,b):\n",
    "    return a+b"
   ]
  },
  {
   "cell_type": "code",
   "execution_count": 2,
   "id": "6a38abef",
   "metadata": {},
   "outputs": [
    {
     "data": {
      "text/plain": [
       "7"
      ]
     },
     "execution_count": 2,
     "metadata": {},
     "output_type": "execute_result"
    }
   ],
   "source": [
    "test(3,4)"
   ]
  },
  {
   "cell_type": "code",
   "execution_count": 4,
   "id": "e0632a86",
   "metadata": {},
   "outputs": [
    {
     "data": {
      "text/plain": [
       "'nikshit vora'"
      ]
     },
     "execution_count": 4,
     "metadata": {},
     "output_type": "execute_result"
    }
   ],
   "source": [
    "test(\"nikshit\",\" vora\")"
   ]
  },
  {
   "cell_type": "code",
   "execution_count": 5,
   "id": "74460d47",
   "metadata": {},
   "outputs": [],
   "source": [
    "class insta:\n",
    "    def share_stories(self):\n",
    "        print(\"this will share my insta story....\")\n",
    "        \n",
    "class facebook:\n",
    "    def share_stories(self):\n",
    "        print(\"this will share my facebook stories....\")"
   ]
  },
  {
   "cell_type": "code",
   "execution_count": 7,
   "id": "891aec20",
   "metadata": {},
   "outputs": [],
   "source": [
    "def sharestories(app):\n",
    "    app.share_stories()"
   ]
  },
  {
   "cell_type": "code",
   "execution_count": 8,
   "id": "e2b77dea",
   "metadata": {},
   "outputs": [],
   "source": [
    "i = insta()\n",
    "f = facebook()"
   ]
  },
  {
   "cell_type": "code",
   "execution_count": 9,
   "id": "ba4b2b1d",
   "metadata": {},
   "outputs": [
    {
     "name": "stdout",
     "output_type": "stream",
     "text": [
      "this will share my insta story....\n"
     ]
    }
   ],
   "source": [
    "sharestories(i)"
   ]
  },
  {
   "cell_type": "code",
   "execution_count": 10,
   "id": "c8cb6a15",
   "metadata": {},
   "outputs": [
    {
     "name": "stdout",
     "output_type": "stream",
     "text": [
      "this will share my facebook stories....\n"
     ]
    }
   ],
   "source": [
    "sharestories(f)"
   ]
  },
  {
   "cell_type": "code",
   "execution_count": 11,
   "id": "9bc73ae4",
   "metadata": {},
   "outputs": [],
   "source": [
    "class social_media:\n",
    "    def share_stories(self):\n",
    "        print(\"share stories......\")\n",
    "    def upload_pic(self):\n",
    "        print(\"upload pic on social media\")\n",
    "        \n",
    "        \n",
    "class facebook(social_media):\n",
    "    def share_stories(self):\n",
    "        print(\"this is function for sharing an story for facebook\")\n",
    "        \n",
    "class insta(social_media):\n",
    "    def share_stories(self):\n",
    "        print(\"this will print a story from insta....\")\n",
    "    "
   ]
  },
  {
   "cell_type": "code",
   "execution_count": 12,
   "id": "4b592327",
   "metadata": {},
   "outputs": [],
   "source": [
    "f = facebook()\n",
    "i = insta()"
   ]
  },
  {
   "cell_type": "code",
   "execution_count": 14,
   "id": "9d006312",
   "metadata": {},
   "outputs": [
    {
     "name": "stdout",
     "output_type": "stream",
     "text": [
      "this is function for sharing an story for facebook\n"
     ]
    }
   ],
   "source": [
    "f.share_stories()"
   ]
  },
  {
   "cell_type": "code",
   "execution_count": 15,
   "id": "c314d23f",
   "metadata": {},
   "outputs": [
    {
     "name": "stdout",
     "output_type": "stream",
     "text": [
      "this will print a story from insta....\n"
     ]
    }
   ],
   "source": [
    "i.share_stories()"
   ]
  },
  {
   "cell_type": "code",
   "execution_count": 16,
   "id": "077221da",
   "metadata": {},
   "outputs": [],
   "source": [
    "class test(Exception):\n",
    "    def __init__(self,msg):\n",
    "        self.msg=msg\n",
    "        \n",
    "        \n",
    "    "
   ]
  },
  {
   "cell_type": "code",
   "execution_count": 17,
   "id": "1d0595ea",
   "metadata": {},
   "outputs": [
    {
     "name": "stdout",
     "output_type": "stream",
     "text": [
      "this is my own exception class...\n"
     ]
    }
   ],
   "source": [
    "try:\n",
    "    raise(test(\"this is my own exception class...\"))\n",
    "except test as t:\n",
    "    print(t)"
   ]
  },
  {
   "cell_type": "code",
   "execution_count": 18,
   "id": "5e7e68c7",
   "metadata": {},
   "outputs": [
    {
     "ename": "ZeroDivisionError",
     "evalue": "division by zero",
     "output_type": "error",
     "traceback": [
      "\u001b[1;31m---------------------------------------------------------------------------\u001b[0m",
      "\u001b[1;31mZeroDivisionError\u001b[0m                         Traceback (most recent call last)",
      "\u001b[1;32mC:\\Users\\NIKSHI~1.VOR\\AppData\\Local\\Temp/ipykernel_6596/616537507.py\u001b[0m in \u001b[0;36m<module>\u001b[1;34m\u001b[0m\n\u001b[0;32m      1\u001b[0m \u001b[1;32mtry\u001b[0m\u001b[1;33m:\u001b[0m\u001b[1;33m\u001b[0m\u001b[1;33m\u001b[0m\u001b[0m\n\u001b[1;32m----> 2\u001b[1;33m     \u001b[1;36m5\u001b[0m\u001b[1;33m/\u001b[0m\u001b[1;36m0\u001b[0m\u001b[1;33m\u001b[0m\u001b[1;33m\u001b[0m\u001b[0m\n\u001b[0m\u001b[0;32m      3\u001b[0m \u001b[1;32mexcept\u001b[0m \u001b[0mtest\u001b[0m \u001b[1;32mas\u001b[0m \u001b[0mt\u001b[0m\u001b[1;33m:\u001b[0m\u001b[1;33m\u001b[0m\u001b[1;33m\u001b[0m\u001b[0m\n\u001b[0;32m      4\u001b[0m     \u001b[0mprint\u001b[0m\u001b[1;33m(\u001b[0m\u001b[0mt\u001b[0m\u001b[1;33m)\u001b[0m\u001b[1;33m\u001b[0m\u001b[1;33m\u001b[0m\u001b[0m\n",
      "\u001b[1;31mZeroDivisionError\u001b[0m: division by zero"
     ]
    }
   ],
   "source": [
    "try:\n",
    "    5/0\n",
    "except test as t:\n",
    "    print(t)"
   ]
  },
  {
   "cell_type": "code",
   "execution_count": null,
   "id": "fb9bdb35",
   "metadata": {},
   "outputs": [],
   "source": []
  }
 ],
 "metadata": {
  "kernelspec": {
   "display_name": "Python 3 (ipykernel)",
   "language": "python",
   "name": "python3"
  },
  "language_info": {
   "codemirror_mode": {
    "name": "ipython",
    "version": 3
   },
   "file_extension": ".py",
   "mimetype": "text/x-python",
   "name": "python",
   "nbconvert_exporter": "python",
   "pygments_lexer": "ipython3",
   "version": "3.9.7"
  }
 },
 "nbformat": 4,
 "nbformat_minor": 5
}
